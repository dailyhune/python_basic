{
 "cells": [
  {
   "cell_type": "markdown",
   "id": "d271839c-ff97-4743-990b-b5531bffce6b",
   "metadata": {},
   "source": [
    "## 튜플의 요솟값을 지우거나 변경하려고 하면 어떻게 될까요"
   ]
  },
  {
   "cell_type": "code",
   "execution_count": null,
   "id": "74d4ffea-bd33-4bf5-af09-8e0b3d9cac09",
   "metadata": {},
   "outputs": [],
   "source": [
    "t1 =(1,2,'a','b')\n",
    "del t1[0]"
   ]
  }
 ],
 "metadata": {
  "kernelspec": {
   "display_name": "Python 3 (ipykernel)",
   "language": "python",
   "name": "python3"
  },
  "language_info": {
   "codemirror_mode": {
    "name": "ipython",
    "version": 3
   },
   "file_extension": ".py",
   "mimetype": "text/x-python",
   "name": "python",
   "nbconvert_exporter": "python",
   "pygments_lexer": "ipython3",
   "version": "3.13.5"
  }
 },
 "nbformat": 4,
 "nbformat_minor": 5
}
