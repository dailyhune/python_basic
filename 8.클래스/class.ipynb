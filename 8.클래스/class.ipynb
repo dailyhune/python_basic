{
 "cells": [
  {
   "cell_type": "markdown",
   "id": "6a04d0d9-796d-4544-88eb-8e2d4daa0ad7",
   "metadata": {},
   "source": [
    "### 1. 클래스는 왜 필요한가?"
   ]
  },
  {
   "cell_type": "code",
   "execution_count": 2,
   "id": "f8d1d1e7-08ed-484f-a188-b7f1f1e1943d",
   "metadata": {},
   "outputs": [
    {
     "name": "stdout",
     "output_type": "stream",
     "text": [
      "3\n",
      "7\n"
     ]
    }
   ],
   "source": [
    "# 함수로 계산기 만들기\n",
    "result = 0\n",
    "\n",
    "def add(num):\n",
    "    global result\n",
    "    result += num\n",
    "    return result\n",
    "\n",
    "print(add(3))  # 0 + 3 = 3\n",
    "print(add(4))  # 3 + 4 = 7\n"
   ]
  },
  {
   "cell_type": "code",
   "execution_count": 4,
   "id": "a5ef4fa8-c47e-46f0-b6c9-7fa026083393",
   "metadata": {},
   "outputs": [
    {
     "name": "stdout",
     "output_type": "stream",
     "text": [
      "3\n",
      "7\n",
      "5\n",
      "11\n"
     ]
    }
   ],
   "source": [
    "# 계산기 2개로 계산하기\n",
    "\n",
    "res1 = 0\n",
    "res2 = 0\n",
    "\n",
    "def add(num):\n",
    "    global res1\n",
    "    res1 += num\n",
    "    return res1\n",
    "\n",
    "def add2(num):\n",
    "    global res2\n",
    "    res2 += num\n",
    "    return res2\n",
    "\n",
    "print(add(3))   # 0 + 3 = 3\n",
    "print(add(4))   # 3 + 4 = 7\n",
    "print(add2(5))  # 0 + 5 = 5\n",
    "print(add2(6))  # 5 + 6 = 11"
   ]
  },
  {
   "cell_type": "code",
   "execution_count": 6,
   "id": "a3780dd9-22ce-42bc-b77d-31cea0f78fee",
   "metadata": {},
   "outputs": [
    {
     "name": "stdout",
     "output_type": "stream",
     "text": [
      "3\n",
      "7\n",
      "5\n",
      "11\n"
     ]
    }
   ],
   "source": [
    "# 클래스로 여러 개 계산기 만들기\n",
    "class Calculator:\n",
    "    def __init__(self):\n",
    "        self.result = 0  # 계산기 초기값\n",
    "\n",
    "    def add(self, num):\n",
    "        self.result += num\n",
    "        return self.result\n",
    "\n",
    "# 계산기 인스턴스 2개 만들기\n",
    "cal1 = Calculator()\n",
    "cal2 = Calculator()\n",
    "\n",
    "print(cal1.add(3))  # 출력: 3\n",
    "print(cal1.add(4))  # 출력: 7\n",
    "print(cal2.add(5))  # 출력: 5\n",
    "print(cal2.add(6))  # 출력: 11\n"
   ]
  },
  {
   "cell_type": "code",
   "execution_count": 8,
   "id": "c1854a36-74ec-4752-a1f3-a276beb43e0b",
   "metadata": {},
   "outputs": [
    {
     "name": "stdout",
     "output_type": "stream",
     "text": [
      "10\n",
      "13\n",
      "8\n",
      "--------------------\n",
      "-5\n",
      "15\n"
     ]
    }
   ],
   "source": [
    "class Calculator:\n",
    "    def __init__(self):\n",
    "        self.result = 0\n",
    "\n",
    "    def add(self, num):\n",
    "        self.result += num\n",
    "        return self.result\n",
    "\n",
    "    def sub(self, num):\n",
    "        self.result -= num\n",
    "        return self.result\n",
    "\n",
    "# 계산기 1\n",
    "cal1 = Calculator()\n",
    "print(cal1.add(10))  # 10\n",
    "print(cal1.add(3))   # 13\n",
    "print(cal1.sub(5))   # 8\n",
    "\n",
    "print('-' * 20)\n",
    "\n",
    "# 계산기 2\n",
    "cal2 = Calculator()\n",
    "print(cal2.sub(5))   # -5\n",
    "print(cal2.add(20))  # 15\n"
   ]
  },
  {
   "cell_type": "markdown",
   "id": "a705d66a-9157-41a1-920c-99a823a38eaa",
   "metadata": {},
   "source": [
    "###  3. 사칙연산 클래스 만들기"
   ]
  },
  {
   "cell_type": "code",
   "execution_count": 9,
   "id": "fdaa054e-f24b-4672-bc5c-c5a9a5f932d7",
   "metadata": {},
   "outputs": [],
   "source": [
    "class FourCal:\n",
    "    pass"
   ]
  },
  {
   "cell_type": "code",
   "execution_count": 10,
   "id": "0cbda48e-65eb-4641-adb3-c32098d2a79a",
   "metadata": {},
   "outputs": [
    {
     "data": {
      "text/plain": [
       "__main__.FourCal"
      ]
     },
     "execution_count": 10,
     "metadata": {},
     "output_type": "execute_result"
    }
   ],
   "source": [
    "a = FourCal()\n",
    "type(a)"
   ]
  },
  {
   "cell_type": "code",
   "execution_count": 13,
   "id": "5b9c4e0d-34f2-4bde-98e0-ba671364c54a",
   "metadata": {},
   "outputs": [],
   "source": [
    "class FourCal:\n",
    "    def setdata(self, first, second):\n",
    "        self.first = first\n",
    "        self.second = second\n"
   ]
  },
  {
   "cell_type": "code",
   "execution_count": 15,
   "id": "1bb3b4c4-a77d-4ef8-8122-4f9c582c5aed",
   "metadata": {},
   "outputs": [
    {
     "name": "stdout",
     "output_type": "stream",
     "text": [
      "3 4\n"
     ]
    }
   ],
   "source": [
    "a = FourCal() #인스턴스 생성\n",
    "a.setdata(3,4)\n",
    "print(a.first, a.second)"
   ]
  },
  {
   "cell_type": "code",
   "execution_count": 17,
   "id": "9bcea0b4-5fd5-444e-ab6c-826dc4808969",
   "metadata": {},
   "outputs": [
    {
     "name": "stdout",
     "output_type": "stream",
     "text": [
      "6\n",
      "2\n",
      "8\n",
      "2.0\n",
      "====================\n",
      "11\n",
      "-5\n",
      "24\n",
      "0.375\n"
     ]
    }
   ],
   "source": [
    "class FourCal:\n",
    "    def setdata(self, first, second):\n",
    "        self.first = first\n",
    "        self.second = second\n",
    "\n",
    "    def add(self):\n",
    "        result = self.first + self.second\n",
    "        return result\n",
    "\n",
    "    def sub(self):\n",
    "        result = self.first - self.second\n",
    "        return result\n",
    "\n",
    "    def mul(self):\n",
    "        result = self.first * self.second\n",
    "        return result\n",
    "\n",
    "    def div(self):\n",
    "        result = self.first / self.second\n",
    "        return result\n",
    "\n",
    "cal1 = FourCal()\n",
    "cal2 = FourCal()\n",
    "\n",
    "# 계산기에 2개의 숫자 입력\n",
    "cal1.setdata(4, 2)\n",
    "cal2.setdata(3, 8)\n",
    "\n",
    "print(cal1.add())  # 6\n",
    "print(cal1.sub())  # 2\n",
    "print(cal1.mul())  # 8\n",
    "print(cal1.div())  # 2.0\n",
    "print('=' * 20)\n",
    "print(cal2.add())  # 11\n",
    "print(cal2.sub())  # -5\n",
    "print(cal2.mul())  # 24\n",
    "print(cal2.div())  # 0.375\n"
   ]
  },
  {
   "cell_type": "markdown",
   "id": "b4b544a5-13e9-4e65-960f-5db51cf48246",
   "metadata": {},
   "source": [
    "## 4.생성자"
   ]
  },
  {
   "cell_type": "code",
   "execution_count": 21,
   "id": "ce12f078-4a33-4a9c-a050-74ec2858fed1",
   "metadata": {},
   "outputs": [],
   "source": [
    "class FourCal:\n",
    "    def __init__(self, first, second):  # 생성자: 객체 만들 때 두 수를 바로 지정\n",
    "        self.first = first\n",
    "        self.second = second\n",
    "\n",
    "    def add(self):\n",
    "        return self.first + self.second\n",
    "\n",
    "    def sub(self):\n",
    "        return self.first - self.second\n",
    "\n",
    "    def mul(self):\n",
    "        return self.first * self.second\n",
    "\n",
    "    def div(self):\n",
    "        return self.first / self.second"
   ]
  },
  {
   "cell_type": "code",
   "execution_count": 19,
   "id": "c41987cf-eebb-4efb-9bbd-6534e6ef9bdf",
   "metadata": {},
   "outputs": [
    {
     "ename": "NameError",
     "evalue": "name 'Fourcal' is not defined",
     "output_type": "error",
     "traceback": [
      "\u001b[31m---------------------------------------------------------------------------\u001b[39m",
      "\u001b[31mNameError\u001b[39m                                 Traceback (most recent call last)",
      "\u001b[36mCell\u001b[39m\u001b[36m \u001b[39m\u001b[32mIn[19]\u001b[39m\u001b[32m, line 1\u001b[39m\n\u001b[32m----> \u001b[39m\u001b[32m1\u001b[39m calc1 = \u001b[43mFourcal\u001b[49m()\n",
      "\u001b[31mNameError\u001b[39m: name 'Fourcal' is not defined"
     ]
    }
   ],
   "source": [
    "calc1 = Fourcal()"
   ]
  },
  {
   "cell_type": "code",
   "execution_count": 23,
   "id": "448b2f33-df9f-45c8-b2dd-5b9a86be3d27",
   "metadata": {},
   "outputs": [],
   "source": [
    "calc1 = FourCal(15, 3)"
   ]
  },
  {
   "cell_type": "code",
   "execution_count": 24,
   "id": "2fc1b25b-8879-4e92-b641-c5a747472344",
   "metadata": {},
   "outputs": [
    {
     "data": {
      "text/plain": [
       "15"
      ]
     },
     "execution_count": 24,
     "metadata": {},
     "output_type": "execute_result"
    }
   ],
   "source": [
    "calc1.first"
   ]
  },
  {
   "cell_type": "code",
   "execution_count": 25,
   "id": "4067aa57-faeb-41e5-97cd-d9b25da3fe6f",
   "metadata": {},
   "outputs": [
    {
     "data": {
      "text/plain": [
       "3"
      ]
     },
     "execution_count": 25,
     "metadata": {},
     "output_type": "execute_result"
    }
   ],
   "source": [
    "calc1.second"
   ]
  },
  {
   "cell_type": "code",
   "execution_count": 26,
   "id": "700ed422-3b4a-43e2-b717-6245cc2d5a14",
   "metadata": {},
   "outputs": [
    {
     "name": "stdout",
     "output_type": "stream",
     "text": [
      "15 + 3 18\n",
      "15 - 3 18\n",
      "15 * 3 18\n",
      "15 / 3 18\n"
     ]
    }
   ],
   "source": [
    "print('15 + 3',calc1.add())\n",
    "print('15 - 3',calc1.add())\n",
    "print('15 * 3',calc1.add())\n",
    "print('15 / 3',calc1.add())"
   ]
  },
  {
   "cell_type": "markdown",
   "id": "cccc050b-43c2-40e1-9f38-a60b30f9820f",
   "metadata": {},
   "source": [
    "### 5. 클래스 상속 "
   ]
  },
  {
   "cell_type": "code",
   "execution_count": 27,
   "id": "4b321081-2438-49a6-9e2e-177e85f9da65",
   "metadata": {},
   "outputs": [],
   "source": [
    "class MoreFourCal(FourCal):\n",
    "    pass"
   ]
  },
  {
   "cell_type": "code",
   "execution_count": 28,
   "id": "974d8ccb-a38c-4afe-ba68-225c89bd0803",
   "metadata": {},
   "outputs": [],
   "source": [
    "cal1 = MoreFourCal(4,1)"
   ]
  },
  {
   "cell_type": "code",
   "execution_count": 29,
   "id": "ed1d4e6a-e434-4d6e-bd12-9d43fd888590",
   "metadata": {},
   "outputs": [
    {
     "name": "stdout",
     "output_type": "stream",
     "text": [
      "5\n",
      "3\n",
      "4\n",
      "4.0\n"
     ]
    }
   ],
   "source": [
    "print(cal1.add())  # 6\n",
    "print(cal1.sub())  # 2\n",
    "print(cal1.mul())  # 8\n",
    "print(cal1.div())  # 2.0"
   ]
  },
  {
   "cell_type": "code",
   "execution_count": 30,
   "id": "994a13c1-fc3b-4f87-95e2-9fe12e2858f7",
   "metadata": {},
   "outputs": [
    {
     "name": "stdout",
     "output_type": "stream",
     "text": [
      "6\n",
      "2\n",
      "8\n",
      "2.0\n",
      "7\n"
     ]
    }
   ],
   "source": [
    "# 기본 기능 상속 받음\n",
    "class MoreFourCal(FourCal):\n",
    "    def pow(self):\n",
    "        restul = self.first ** self.second\n",
    "        return result\n",
    "\n",
    "cal2 = MoreFourCal(4,2)\n",
    "print(cal2.add())\n",
    "print(cal2.sub())\n",
    "print(cal2.mul())\n",
    "print(cal2.div())\n",
    "print(cal2.pow())"
   ]
  },
  {
   "cell_type": "code",
   "execution_count": 31,
   "id": "3d12cc76-e5c5-4999-a9c8-a1e4d2df8cc4",
   "metadata": {},
   "outputs": [
    {
     "name": "stdout",
     "output_type": "stream",
     "text": [
      "6\n",
      "2\n",
      "8\n"
     ]
    }
   ],
   "source": [
    "cal3 = MoreFourCal(4,0)\n",
    "print(cal2.add())\n",
    "print(cal2.sub())\n",
    "print(cal2.mul())"
   ]
  },
  {
   "cell_type": "code",
   "execution_count": 32,
   "id": "feeddcdd-8f75-4af1-9787-4968cfcbb4e6",
   "metadata": {},
   "outputs": [
    {
     "name": "stdout",
     "output_type": "stream",
     "text": [
      "2.0\n"
     ]
    }
   ],
   "source": [
    "print(cal2.div())"
   ]
  },
  {
   "cell_type": "markdown",
   "id": "1b69227e-82ed-4260-83c2-5c093dc3d91a",
   "metadata": {},
   "source": [
    "### 6. 메서드 오버라이딩"
   ]
  },
  {
   "cell_type": "code",
   "execution_count": 33,
   "id": "ef234a57-ea24-4410-be25-67a6e7430218",
   "metadata": {},
   "outputs": [],
   "source": [
    "class safeFourCal(FourCal):\n",
    "    # 상속받은 메서드 재정의*overridging)\n",
    "    def div(self):\n",
    "        if self-second == 0:\n",
    "            return 0\n",
    "        else:\n",
    "            result = self.first / self.second\n",
    "            return result"
   ]
  },
  {
   "cell_type": "code",
   "execution_count": 35,
   "id": "14978954-faa5-4b6d-be1a-d17f026901ab",
   "metadata": {},
   "outputs": [],
   "source": [
    "clac = safeFourCal(4,0)"
   ]
  },
  {
   "cell_type": "code",
   "execution_count": 37,
   "id": "bff43b57-e049-47ed-ac1e-438f581f3c9b",
   "metadata": {},
   "outputs": [
    {
     "name": "stdout",
     "output_type": "stream",
     "text": [
      "4\n",
      "4\n",
      "0\n"
     ]
    }
   ],
   "source": [
    "print(clac.add())\n",
    "print(clac.sub())\n",
    "print(clac.mul())"
   ]
  },
  {
   "cell_type": "markdown",
   "id": "7295b23a-b7ee-4dec-a8fe-7fe38289c872",
   "metadata": {},
   "source": [
    "### 7. 클래스 변수"
   ]
  },
  {
   "cell_type": "code",
   "execution_count": 38,
   "id": "5cb9a149-c07f-48d8-9d95-dffff09328ac",
   "metadata": {},
   "outputs": [],
   "source": [
    "class Family:\n",
    "    lastname = '김'"
   ]
  },
  {
   "cell_type": "code",
   "execution_count": 40,
   "id": "11b0f5a4-31c9-4725-a120-930ee2d41e7b",
   "metadata": {},
   "outputs": [
    {
     "data": {
      "text/plain": [
       "'김'"
      ]
     },
     "execution_count": 40,
     "metadata": {},
     "output_type": "execute_result"
    }
   ],
   "source": [
    "Family.lastname"
   ]
  },
  {
   "cell_type": "code",
   "execution_count": 41,
   "id": "a5fedacf-b182-4a3d-89ab-0d666ad72b16",
   "metadata": {},
   "outputs": [
    {
     "name": "stdout",
     "output_type": "stream",
     "text": [
      "김\n",
      "김\n"
     ]
    }
   ],
   "source": [
    "a = Family()\n",
    "b = Family()\n",
    "print(a.lastname)\n",
    "print(b.lastname)"
   ]
  },
  {
   "cell_type": "code",
   "execution_count": 44,
   "id": "43d01c66-ce24-4a77-8c46-9120fd4e0432",
   "metadata": {},
   "outputs": [
    {
     "name": "stdout",
     "output_type": "stream",
     "text": [
      "박\n",
      "박\n"
     ]
    }
   ],
   "source": [
    "Family.lastname =\"박\"\n",
    "# Family.lastname => 클래스 변수, 클래스 변수를 변경하면 인스턴스 변수도 변경\n",
    "print(a.lastname)\n",
    "print(b.lastname)"
   ]
  },
  {
   "cell_type": "code",
   "execution_count": 45,
   "id": "22d77ac8-8388-4762-85ab-2f73470e35a6",
   "metadata": {},
   "outputs": [],
   "source": [
    "# 인스턴스 변수만 변경"
   ]
  },
  {
   "cell_type": "code",
   "execution_count": 46,
   "id": "d8221b96-9a70-408d-9be3-650d7a991fc6",
   "metadata": {},
   "outputs": [
    {
     "name": "stdout",
     "output_type": "stream",
     "text": [
      "최\n",
      "박\n"
     ]
    }
   ],
   "source": [
    "a.lastname = \"최\"\n",
    "print(a.lastname)\n",
    "print(b.lastname)"
   ]
  },
  {
   "cell_type": "code",
   "execution_count": null,
   "id": "10af9ef2-bf75-4e44-b84f-45c253169d86",
   "metadata": {},
   "outputs": [],
   "source": []
  }
 ],
 "metadata": {
  "kernelspec": {
   "display_name": "Python 3 (ipykernel)",
   "language": "python",
   "name": "python3"
  },
  "language_info": {
   "codemirror_mode": {
    "name": "ipython",
    "version": 3
   },
   "file_extension": ".py",
   "mimetype": "text/x-python",
   "name": "python",
   "nbconvert_exporter": "python",
   "pygments_lexer": "ipython3",
   "version": "3.13.5"
  }
 },
 "nbformat": 4,
 "nbformat_minor": 5
}
