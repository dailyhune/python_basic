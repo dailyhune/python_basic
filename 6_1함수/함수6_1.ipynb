{
 "cells": [
  {
   "cell_type": "markdown",
   "id": "f74e0bcd-ec91-4609-80c0-35c6d3ec47a5",
   "metadata": {},
   "source": [
    "## 1. 파이썬 함수"
   ]
  },
  {
   "cell_type": "code",
   "execution_count": 1,
   "id": "2d9ab46c-c823-435f-aba3-3e6b03f48400",
   "metadata": {},
   "outputs": [
    {
     "name": "stdout",
     "output_type": "stream",
     "text": [
      "7\n"
     ]
    }
   ],
   "source": [
    "def add(a,b):\n",
    "    return a+b\n",
    "\n",
    "a,b = 3,4\n",
    "c = add(a,b)\n",
    "print(c)"
   ]
  },
  {
   "cell_type": "code",
   "execution_count": 3,
   "id": "7289110b-5ce5-4c41-97b3-81ecb86331d5",
   "metadata": {},
   "outputs": [
    {
     "name": "stdout",
     "output_type": "stream",
     "text": [
      "7\n",
      "333\n"
     ]
    }
   ],
   "source": [
    "def add(a,b):\n",
    "    return a+b\n",
    "\n",
    "a,b = 3,4\n",
    "c = add(a,b)\n",
    "print(c)\n",
    "#print (c)\n",
    "d = add(111, 222)\n",
    "print(d)\n",
    "#print(d)"
   ]
  },
  {
   "cell_type": "code",
   "execution_count": 5,
   "id": "453fefb8-8fa7-4bd0-88f8-7e815b18d7a6",
   "metadata": {},
   "outputs": [
    {
     "name": "stdout",
     "output_type": "stream",
     "text": [
      "6\n"
     ]
    }
   ],
   "source": [
    "# 1. 매게변수 0, 리턴값 0\n",
    "def minus(a,b):\n",
    "    result = a - b\n",
    "    return result\n",
    "\n",
    "a = minus(10,4)\n",
    "print(a)"
   ]
  },
  {
   "cell_type": "code",
   "execution_count": 6,
   "id": "fea89830-9acf-4f3d-9cd6-3f110a04e379",
   "metadata": {},
   "outputs": [
    {
     "name": "stdout",
     "output_type": "stream",
     "text": [
      "Hi!\n"
     ]
    }
   ],
   "source": [
    "# 2. 매개변수 X, 리턴값 O\n",
    "def say():\n",
    "    return 'Hi!'\n",
    "\n",
    "print(say())"
   ]
  },
  {
   "cell_type": "code",
   "execution_count": 9,
   "id": "37a45236-a1f5-43dd-8bca-bbf6f5fd40a5",
   "metadata": {},
   "outputs": [
    {
     "name": "stdout",
     "output_type": "stream",
     "text": [
      "12. 24의 힘은 36입니다.\n",
      "3. 4의 힘은 7입니다.\n",
      "None\n"
     ]
    }
   ],
   "source": [
    "#3. 매개변수 O, 리턴값 X\n",
    "def add(x,y):\n",
    "    print(\"%d. %d의 힘은 %d입니다.\"%(x, y, x+y))\n",
    "\n",
    "add(12,24)\n",
    "\n",
    "a = add(3,4)\n",
    "print(a)"
   ]
  },
  {
   "cell_type": "code",
   "execution_count": 11,
   "id": "5a15a2db-396a-49c0-bea0-d6b2390fae94",
   "metadata": {},
   "outputs": [
    {
     "name": "stdout",
     "output_type": "stream",
     "text": [
      "HI~\n"
     ]
    }
   ],
   "source": [
    "#4. 매개변수 X, 리턴값X\n",
    "def say():\n",
    "    print('HI~')\n",
    "\n",
    "say()"
   ]
  },
  {
   "cell_type": "code",
   "execution_count": 14,
   "id": "198e1094-321e-4c28-82cb-fd48d4106959",
   "metadata": {},
   "outputs": [
    {
     "name": "stdout",
     "output_type": "stream",
     "text": [
      "4\n",
      "4\n"
     ]
    }
   ],
   "source": [
    "# 키워드 매게변수\n",
    "def sub(a, b):\n",
    "    return a - b\n",
    "\n",
    "result = sub(7, 3)\n",
    "print(result)\n",
    "\n",
    "result2 = sub(b=3, a=7)\n",
    "print(result2)"
   ]
  },
  {
   "cell_type": "code",
   "execution_count": 16,
   "id": "87c47528-7b93-4536-b60c-e17a013bc219",
   "metadata": {},
   "outputs": [
    {
     "name": "stdout",
     "output_type": "stream",
     "text": [
      "1\n",
      "1\n"
     ]
    }
   ],
   "source": [
    "# 가변 매개변수(*매개변수명)\n",
    "def add_many(*args):\n",
    "    result = 0\n",
    "    for i in args:\n",
    "        result += i\n",
    "        return result\n",
    "\n",
    "res1 = add_many(1,2,3,4,5)\n",
    "print(res1)\n",
    "\n",
    "res2 = add_many(1,2,3,4,5,6,7,8,9,10)\n",
    "print(res2)"
   ]
  },
  {
   "cell_type": "code",
   "execution_count": 18,
   "id": "4d9eea2e-9876-4bb4-bf06-d7fac0731807",
   "metadata": {},
   "outputs": [
    {
     "name": "stdout",
     "output_type": "stream",
     "text": [
      "15\n",
      "55\n"
     ]
    }
   ],
   "source": [
    "def add_many(*args):\n",
    "    result = 0\n",
    "    for i in args:\n",
    "        result += i\n",
    "    return result  # for문 다 끝난 뒤에 리턴해야 함\n",
    "\n",
    "res1 = add_many(1,2,3,4,5)\n",
    "print(res1)  # 15 출력\n",
    "\n",
    "res2 = add_many(1,2,3,4,5,6,7,8,9,10)\n",
    "print(res2)"
   ]
  },
  {
   "cell_type": "code",
   "execution_count": 19,
   "id": "8eb1e85f-458d-4643-8e1a-a2ad810042d9",
   "metadata": {},
   "outputs": [
    {
     "ename": "UnboundLocalError",
     "evalue": "cannot access local variable 'result' where it is not associated with a value",
     "output_type": "error",
     "traceback": [
      "\u001b[31m---------------------------------------------------------------------------\u001b[39m",
      "\u001b[31mUnboundLocalError\u001b[39m                         Traceback (most recent call last)",
      "\u001b[36mCell\u001b[39m\u001b[36m \u001b[39m\u001b[32mIn[19]\u001b[39m\u001b[32m, line 14\u001b[39m\n\u001b[32m     11\u001b[39m             result *= i\n\u001b[32m     12\u001b[39m     \u001b[38;5;28;01mreturn\u001b[39;00m result\n\u001b[32m---> \u001b[39m\u001b[32m14\u001b[39m resl = \u001b[43madd_mul\u001b[49m\u001b[43m(\u001b[49m\u001b[32;43m1\u001b[39;49m\u001b[43m,\u001b[49m\u001b[32;43m2\u001b[39;49m\u001b[43m,\u001b[49m\u001b[32;43m3\u001b[39;49m\u001b[43m)\u001b[49m\n\u001b[32m     15\u001b[39m \u001b[38;5;28mprint\u001b[39m(res1)\n",
      "\u001b[36mCell\u001b[39m\u001b[36m \u001b[39m\u001b[32mIn[19]\u001b[39m\u001b[32m, line 12\u001b[39m, in \u001b[36madd_mul\u001b[39m\u001b[34m(choice, *args)\u001b[39m\n\u001b[32m     10\u001b[39m     \u001b[38;5;28;01mfor\u001b[39;00m i \u001b[38;5;129;01min\u001b[39;00m args:\n\u001b[32m     11\u001b[39m         result *= i\n\u001b[32m---> \u001b[39m\u001b[32m12\u001b[39m \u001b[38;5;28;01mreturn\u001b[39;00m \u001b[43mresult\u001b[49m\n",
      "\u001b[31mUnboundLocalError\u001b[39m: cannot access local variable 'result' where it is not associated with a value"
     ]
    }
   ],
   "source": [
    "# 덧셈, 곱셈 둘다 연산 가능한 함수\n",
    "def add_mul(choice, *args):\n",
    "    if choice == 'add':\n",
    "        restul = 0\n",
    "        for i in args:\n",
    "            result += i\n",
    "\n",
    "    elif choice == 'mul':\n",
    "        restul = 0\n",
    "        for i in args:\n",
    "            result *= i\n",
    "    return result\n",
    "\n",
    "resl = add_mul(1,2,3)\n",
    "print(res1)"
   ]
  },
  {
   "cell_type": "code",
   "execution_count": 21,
   "id": "25c5e7e7-9b56-4283-87d4-1b358efefdbc",
   "metadata": {},
   "outputs": [
    {
     "name": "stdout",
     "output_type": "stream",
     "text": [
      "6\n"
     ]
    }
   ],
   "source": [
    "def add_mul(choice, *args):\n",
    "    if choice == 'add':\n",
    "        result = 0\n",
    "        for i in args:\n",
    "            result += i\n",
    "\n",
    "    elif choice == 'mul':\n",
    "        result = 1\n",
    "        for i in args:\n",
    "            result *= i\n",
    "    return result\n",
    "\n",
    "res1 = add_mul('add', 1, 2, 3)\n",
    "print(res1)  # 6 출력됨\n"
   ]
  },
  {
   "cell_type": "code",
   "execution_count": 22,
   "id": "58fa4cb5-3bbf-437d-a2bf-908cf711b720",
   "metadata": {},
   "outputs": [
    {
     "name": "stdout",
     "output_type": "stream",
     "text": [
      "6\n",
      "24\n"
     ]
    }
   ],
   "source": [
    "def add_mul(choice, *args):\n",
    "    if choice == 'add':\n",
    "        result = 0\n",
    "        for i in args:\n",
    "            result += i\n",
    "\n",
    "    elif choice == 'mul':\n",
    "        result = 1\n",
    "        for i in args:\n",
    "            result *= i\n",
    "    return result\n",
    "\n",
    "res1 = add_mul('add', 1, 2, 3)\n",
    "print(res1)  # 6 출력됨\n",
    "res2 = add_mul('mul', 1, 2, 3, 4)\n",
    "print(res2)  # 24 출력됨 # 곱샘\n"
   ]
  },
  {
   "cell_type": "code",
   "execution_count": 26,
   "id": "53134328-a4aa-4dbc-acc7-5d68c13e8369",
   "metadata": {},
   "outputs": [
    {
     "name": "stdout",
     "output_type": "stream",
     "text": [
      "{'a': 1}\n",
      "{'name': 'foo', 'age': 3}\n"
     ]
    }
   ],
   "source": [
    "# 키워드 가변 매개변수(**매개변수)\n",
    "def print_kwargs(**kwargs):\n",
    "    print(kwargs)\n",
    "\n",
    "print_kwargs(a=1)\n",
    "\n",
    "print_kwargs(name='foo', age=3)"
   ]
  },
  {
   "cell_type": "code",
   "execution_count": 27,
   "id": "af4ae831-0bf7-4063-9424-bf5a921c2f12",
   "metadata": {},
   "outputs": [
    {
     "name": "stdout",
     "output_type": "stream",
     "text": [
      "(7, 12)\n"
     ]
    }
   ],
   "source": [
    "# 함수의 리턴값은 하나\n",
    "def add_and_mul(a,b):\n",
    "    return a+b, a*b\n",
    "\n",
    "res = add_and_mul(3,4)\n",
    "print(res)"
   ]
  },
  {
   "cell_type": "code",
   "execution_count": 28,
   "id": "45156f46-ca41-43e3-9edb-74ad0121a32d",
   "metadata": {},
   "outputs": [
    {
     "name": "stdout",
     "output_type": "stream",
     "text": [
      "(7, 12)\n",
      "a+b =  7\n",
      "a*b =  12\n"
     ]
    }
   ],
   "source": [
    "# 함수의 리턴값은 하나\n",
    "def add_and_mul(a,b):\n",
    "    return a+b, a*b\n",
    "\n",
    "res = add_and_mul(3,4)\n",
    "print(res)\n",
    "\n",
    "res1, res2 = add_and_mul(3,4)\n",
    "print(\"a+b = \",res1)\n",
    "print(\"a*b = \",res2)"
   ]
  },
  {
   "cell_type": "code",
   "execution_count": 30,
   "id": "f8d3e677-3e02-4dbc-b8f3-1e2d7387e7e4",
   "metadata": {},
   "outputs": [
    {
     "name": "stdout",
     "output_type": "stream",
     "text": [
      "5\n"
     ]
    }
   ],
   "source": [
    "def add_and_mul(a,b):\n",
    "    return a+b\n",
    "    return a*b\n",
    "\n",
    "res = add_and_mul(2,3)\n",
    "print(res)"
   ]
  },
  {
   "cell_type": "code",
   "execution_count": 31,
   "id": "265678d6-e085-41c7-9e7b-13161940c403",
   "metadata": {},
   "outputs": [
    {
     "name": "stdout",
     "output_type": "stream",
     "text": [
      "나의 별명은 야호 입니다.\n"
     ]
    }
   ],
   "source": [
    "#return의 도 다른 쓰임새\n",
    "def say_nick(nick):\n",
    "    if nick == '바보':\n",
    "        return\n",
    "    print(\"나의 별명은 %s 입니다.\"%nick)\n",
    "\n",
    "say_nick('야호')"
   ]
  },
  {
   "cell_type": "code",
   "execution_count": 33,
   "id": "a35d2ddf-698c-4c46-b074-1c0b4562b4f1",
   "metadata": {},
   "outputs": [
    {
     "name": "stdout",
     "output_type": "stream",
     "text": [
      "나의 이름은 박종훈입니다.\n",
      "나이는 28살 입니다.\n",
      "남자입니다\n"
     ]
    }
   ],
   "source": [
    "# 매개변수 초기값 설정\n",
    "def sya_myself(name, age, man=True):\n",
    "    print(f\"나의 이름은 {name}입니다.\")\n",
    "    print(f\"나이는 {age}살 입니다.\")\n",
    "    if man:\n",
    "        print(\"남자입니다\")\n",
    "    else:\n",
    "        print(\"여자입니다\")\n",
    "\n",
    "# 함수 호출\n",
    "sya_myself('박종훈', 28)"
   ]
  },
  {
   "cell_type": "code",
   "execution_count": 35,
   "id": "6fa34b33-13ac-421b-bdf3-744db648fe86",
   "metadata": {},
   "outputs": [
    {
     "ename": "UnboundLocalError",
     "evalue": "cannot access local variable 'a' where it is not associated with a value",
     "output_type": "error",
     "traceback": [
      "\u001b[31m---------------------------------------------------------------------------\u001b[39m",
      "\u001b[31mUnboundLocalError\u001b[39m                         Traceback (most recent call last)",
      "\u001b[36mCell\u001b[39m\u001b[36m \u001b[39m\u001b[32mIn[35]\u001b[39m\u001b[32m, line 6\u001b[39m\n\u001b[32m      3\u001b[39m \u001b[38;5;28;01mdef\u001b[39;00m\u001b[38;5;250m \u001b[39m\u001b[34mvartest\u001b[39m(value):\n\u001b[32m      4\u001b[39m     a = a+\u001b[32m1\u001b[39m\n\u001b[32m----> \u001b[39m\u001b[32m6\u001b[39m \u001b[43mvartest\u001b[49m\u001b[43m(\u001b[49m\u001b[43ma\u001b[49m\u001b[43m)\u001b[49m\n\u001b[32m      7\u001b[39m \u001b[38;5;28mprint\u001b[39m(a)\n",
      "\u001b[36mCell\u001b[39m\u001b[36m \u001b[39m\u001b[32mIn[35]\u001b[39m\u001b[32m, line 4\u001b[39m, in \u001b[36mvartest\u001b[39m\u001b[34m(value)\u001b[39m\n\u001b[32m      3\u001b[39m \u001b[38;5;28;01mdef\u001b[39;00m\u001b[38;5;250m \u001b[39m\u001b[34mvartest\u001b[39m(value):\n\u001b[32m----> \u001b[39m\u001b[32m4\u001b[39m     a = \u001b[43ma\u001b[49m+\u001b[32m1\u001b[39m\n",
      "\u001b[31mUnboundLocalError\u001b[39m: cannot access local variable 'a' where it is not associated with a value"
     ]
    }
   ],
   "source": [
    "#함수의 유효범위\n",
    "a = 1\n",
    "def vartest(value):\n",
    "    a = a+1\n",
    "\n",
    "#vartest(a)\n",
    "print(a)"
   ]
  },
  {
   "cell_type": "code",
   "execution_count": 36,
   "id": "0972e386-9ef6-4b1d-b251-d6c333b407f2",
   "metadata": {},
   "outputs": [
    {
     "name": "stdout",
     "output_type": "stream",
     "text": [
      "1\n"
     ]
    }
   ],
   "source": [
    "#함수의 유효범위\n",
    "a = 1\n",
    "def vartest(value):\n",
    "    a = a+1\n",
    "\n",
    "#vartest(a)\n",
    "print(a)"
   ]
  },
  {
   "cell_type": "code",
   "execution_count": 37,
   "id": "2f74e07e-ee8f-4803-9e82-570bff0bc080",
   "metadata": {},
   "outputs": [
    {
     "name": "stdout",
     "output_type": "stream",
     "text": [
      "1\n"
     ]
    }
   ],
   "source": [
    "a = 1\n",
    "def vartest(a):\n",
    "    a = a+1\n",
    "\n",
    "vartest(a)# 아무것도 실행 안됨\n",
    "print(a) # 함수 밖에 있는 a 출력됨"
   ]
  },
  {
   "cell_type": "code",
   "execution_count": 41,
   "id": "ce9e2e99-c857-4691-8cb9-9b975a724d9f",
   "metadata": {},
   "outputs": [
    {
     "ename": "IndentationError",
     "evalue": "expected an indented block after function definition on line 3 (732764166.py, line 4)",
     "output_type": "error",
     "traceback": [
      "  \u001b[36mCell\u001b[39m\u001b[36m \u001b[39m\u001b[32mIn[41]\u001b[39m\u001b[32m, line 4\u001b[39m\n\u001b[31m    \u001b[39m\u001b[31mx = x+1\u001b[39m\n    ^\n\u001b[31mIndentationError\u001b[39m\u001b[31m:\u001b[39m expected an indented block after function definition on line 3\n"
     ]
    }
   ],
   "source": [
    "# 함수의 유효범위\n",
    "a = 1\n",
    "def vartest(x):\n",
    "x = x+1\n",
    "  return x\n",
    "\n",
    "a= vartest(a)\n",
    "print(a)"
   ]
  },
  {
   "cell_type": "code",
   "execution_count": 42,
   "id": "84d0ef86-5fa5-4f31-804c-f8bd041a784d",
   "metadata": {},
   "outputs": [
    {
     "name": "stdout",
     "output_type": "stream",
     "text": [
      "1\n"
     ]
    }
   ],
   "source": [
    "# 함수의 유효범위 2.globol 명령어 사용하기\n",
    "a = 1\n",
    "def vartest():\n",
    "    global a # 함수 면에서 a는 전역변수로 변경\n",
    "    a += 1\n",
    "\n",
    "#vartest()\n",
    "print(a)"
   ]
  },
  {
   "cell_type": "code",
   "execution_count": 44,
   "id": "a0965e9a-1404-4013-8720-ef6eed8c8c12",
   "metadata": {},
   "outputs": [
    {
     "name": "stdout",
     "output_type": "stream",
     "text": [
      "7\n"
     ]
    }
   ],
   "source": [
    "# Lambda 표현식(예악어) 서울 안하고 함수 선언\n",
    "def add(a,b):\n",
    "    return a+b\n",
    "\n",
    "print(add(3,4))"
   ]
  },
  {
   "cell_type": "code",
   "execution_count": 45,
   "id": "ece100bf-db77-46aa-984f-06b313fd1f9f",
   "metadata": {},
   "outputs": [
    {
     "name": "stdout",
     "output_type": "stream",
     "text": [
      "7\n"
     ]
    }
   ],
   "source": [
    "# lambda 표현식(예약어) 사용하여 표현\n",
    "add = lambda a,b : a+b\n",
    "print(add(3,4))"
   ]
  },
  {
   "cell_type": "markdown",
   "id": "f556f732-64b5-46fd-ac97-99bd3109f82a",
   "metadata": {},
   "source": [
    "## 2.함수의 활용"
   ]
  },
  {
   "cell_type": "markdown",
   "id": "cbf6ea3a-997e-430c-bead-cb57a3e81717",
   "metadata": {},
   "source": [
    "####  1) 재귀함수"
   ]
  },
  {
   "cell_type": "code",
   "execution_count": 47,
   "id": "83b72078-7d74-4b56-9f7a-b013d0b78464",
   "metadata": {},
   "outputs": [
    {
     "name": "stdout",
     "output_type": "stream",
     "text": [
      "1! = 1\n",
      "2! = 2\n",
      "3! = 6\n",
      "4! = 24\n",
      "5! = 120\n"
     ]
    }
   ],
   "source": [
    "#반복문으로 팩토리얼 구하기\n",
    "def factorial(n):\n",
    "    output = 1\n",
    "    for i in range(1, n + 1):\n",
    "        output *= i\n",
    "    return output  # 들여쓰기 중요!\n",
    "\n",
    "print('1! =', factorial(1))\n",
    "print('2! =', factorial(2))\n",
    "print('3! =', factorial(3))\n",
    "print('4! =', factorial(4))\n",
    "print('5! =', factorial(5))\n"
   ]
  },
  {
   "cell_type": "code",
   "execution_count": 49,
   "id": "a9720699-b731-4c80-8c3f-39ec01caa18a",
   "metadata": {},
   "outputs": [
    {
     "name": "stdout",
     "output_type": "stream",
     "text": [
      "5! = 120\n"
     ]
    }
   ],
   "source": [
    "# 재귀 함수로 팩토리얼 구하기\n",
    "def factorial(n):\n",
    "    if n == 0:\n",
    "        return 1\n",
    "    else:\n",
    "        return n * factorial(n - 1)\n",
    "\n",
    "print('5! =', factorial(5))\n"
   ]
  },
  {
   "cell_type": "markdown",
   "id": "0d06a894-1729-4348-8648-e32f5da2c91b",
   "metadata": {},
   "source": [
    "## 2) 리스트 평탄화 재귀함수 만들기"
   ]
  },
  {
   "cell_type": "code",
   "execution_count": 52,
   "id": "62cab441-9a09-4d4e-8e88-2ec629c181b0",
   "metadata": {},
   "outputs": [
    {
     "name": "stdout",
     "output_type": "stream",
     "text": [
      "4\n",
      "원본: [[1, 2, 3], [4, [5, 6]], 7, [8, 9]]\n",
      "평탄화 : [1, 2, 3, 4, [5, 6], 7, 8, 9]\n"
     ]
    }
   ],
   "source": [
    "# 반복문으로 리스트 평탄화\n",
    "def flatten(data):\n",
    "    output = []\n",
    "    for item  in data:\n",
    "        if type(item) == list:\n",
    "            output += item\n",
    "        else:\n",
    "            output.append(item)\n",
    "    return output\n",
    "\n",
    "example = [[1,2,3], [4,[5,6]], 7, [8,9]]\n",
    "print(len(example))\n",
    "print('원본:' , example)\n",
    "print('평탄화 :', flatten(example))"
   ]
  },
  {
   "cell_type": "code",
   "execution_count": 53,
   "id": "472a1700-8539-479a-a7c0-ec81f6788fc0",
   "metadata": {},
   "outputs": [
    {
     "name": "stdout",
     "output_type": "stream",
     "text": [
      "원본 : [[1, 2, 3], [4, [5, 6]], 7, [8, 9]]\n",
      "평탄화 : [1, 2, 3, 4, 5, 6, 7, 8, 9]\n"
     ]
    }
   ],
   "source": [
    "def flatten(data):\n",
    "    output = []\n",
    "    for item in data:\n",
    "        if isinstance(item, list):\n",
    "            output += flatten(item)  # 재귀 호출\n",
    "        else:\n",
    "            output.append(item)\n",
    "    return output\n",
    "\n",
    "example = [[1,2,3], [4,[5,6]], 7, [8,9]]\n",
    "print('원본 :', example)\n",
    "print('평탄화 :', flatten(example))\n"
   ]
  },
  {
   "cell_type": "code",
   "execution_count": 54,
   "id": "307998c4-59b7-4b8b-b8ec-afb405ba36cc",
   "metadata": {},
   "outputs": [
    {
     "name": "stdout",
     "output_type": "stream",
     "text": [
      "원본 : [[1, 2, 3], [4, [5, 6]], 7, [8, 9]]\n",
      "[1, 2, 3]\n",
      "[1, 2, 3, 4, [5, 6]]\n",
      "[1, 2, 3, 4, [5, 6], 7]\n",
      "[1, 2, 3, 4, [5, 6], 7, 8, 9]\n",
      "평탄화 : [1, 2, 3, 4, [5, 6], 7, 8, 9]\n"
     ]
    }
   ],
   "source": [
    "def flatten_once(data):\n",
    "    output = []\n",
    "    for item in data:\n",
    "        if isinstance(item, list):\n",
    "            output += item  # 한 단계만 펼침\n",
    "        else:\n",
    "            output.append(item)\n",
    "        print(output)  # 중간 결과 출력\n",
    "    return output\n",
    "\n",
    "example = [[1,2,3], [4,[5,6]], 7, [8,9]]\n",
    "print('원본 :', example)\n",
    "print('평탄화 :', flatten_once(example))\n"
   ]
  },
  {
   "cell_type": "code",
   "execution_count": null,
   "id": "bf5a44eb-c1fb-4f9e-a6b9-79628b4305ba",
   "metadata": {},
   "outputs": [],
   "source": []
  }
 ],
 "metadata": {
  "kernelspec": {
   "display_name": "Python 3 (ipykernel)",
   "language": "python",
   "name": "python3"
  },
  "language_info": {
   "codemirror_mode": {
    "name": "ipython",
    "version": 3
   },
   "file_extension": ".py",
   "mimetype": "text/x-python",
   "name": "python",
   "nbconvert_exporter": "python",
   "pygments_lexer": "ipython3",
   "version": "3.13.5"
  }
 },
 "nbformat": 4,
 "nbformat_minor": 5
}
