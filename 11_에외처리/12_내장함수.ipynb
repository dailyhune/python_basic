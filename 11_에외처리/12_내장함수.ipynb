{
 "cells": [
  {
   "cell_type": "code",
   "execution_count": 1,
   "id": "f11d75a8-b007-4980-ae7d-2673d54740ee",
   "metadata": {},
   "outputs": [
    {
     "name": "stdout",
     "output_type": "stream",
     "text": [
      "3\n",
      "3\n"
     ]
    }
   ],
   "source": [
    "print(abs(3))\n",
    "print(abs(-3))"
   ]
  },
  {
   "cell_type": "code",
   "execution_count": 3,
   "id": "008646b0-2b1a-4d3c-8395-efa35b0850b1",
   "metadata": {},
   "outputs": [],
   "source": [
    "#all() : 반복 가능한 데이터에서 요소 확인하여 모든 요소가 참이면 True"
   ]
  },
  {
   "cell_type": "code",
   "execution_count": 4,
   "id": "44124af9-3d95-48f0-b46d-de60694e2a4c",
   "metadata": {},
   "outputs": [
    {
     "data": {
      "text/plain": [
       "True"
      ]
     },
     "execution_count": 4,
     "metadata": {},
     "output_type": "execute_result"
    }
   ],
   "source": [
    "all([1,2,3])"
   ]
  },
  {
   "cell_type": "code",
   "execution_count": 5,
   "id": "3c7a039f-539e-476a-a934-decef8b13a4f",
   "metadata": {},
   "outputs": [
    {
     "ename": "TypeError",
     "evalue": "all() takes exactly one argument (3 given)",
     "output_type": "error",
     "traceback": [
      "\u001b[31m---------------------------------------------------------------------------\u001b[39m",
      "\u001b[31mTypeError\u001b[39m                                 Traceback (most recent call last)",
      "\u001b[36mCell\u001b[39m\u001b[36m \u001b[39m\u001b[32mIn[5]\u001b[39m\u001b[32m, line 1\u001b[39m\n\u001b[32m----> \u001b[39m\u001b[32m1\u001b[39m \u001b[38;5;28;43mall\u001b[39;49m\u001b[43m(\u001b[49m\u001b[32;43m0\u001b[39;49m\u001b[43m,\u001b[49m\u001b[43m \u001b[49m\u001b[43m[\u001b[49m\u001b[43m]\u001b[49m\u001b[43m,\u001b[49m\u001b[43m \u001b[49m\u001b[33;43m\"\u001b[39;49m\u001b[33;43m\"\u001b[39;49m\u001b[43m)\u001b[49m\n",
      "\u001b[31mTypeError\u001b[39m: all() takes exactly one argument (3 given)"
     ]
    }
   ],
   "source": [
    "all(0, [], \"\")"
   ]
  },
  {
   "cell_type": "code",
   "execution_count": 6,
   "id": "afb5bb90-d2e2-4979-a2a5-848ebc67de88",
   "metadata": {},
   "outputs": [
    {
     "data": {
      "text/plain": [
       "True"
      ]
     },
     "execution_count": 6,
     "metadata": {},
     "output_type": "execute_result"
    }
   ],
   "source": [
    "all([1,2,3])"
   ]
  },
  {
   "cell_type": "code",
   "execution_count": 7,
   "id": "8a4f6de7-14b3-425a-a056-5d2d8bd2c8f1",
   "metadata": {},
   "outputs": [
    {
     "data": {
      "text/plain": [
       "False"
      ]
     },
     "execution_count": 7,
     "metadata": {},
     "output_type": "execute_result"
    }
   ],
   "source": [
    "all((0, 1,2,3,))"
   ]
  },
  {
   "cell_type": "code",
   "execution_count": 8,
   "id": "7d262be9-616f-4273-9c03-facad4493beb",
   "metadata": {},
   "outputs": [
    {
     "data": {
      "text/plain": [
       "True"
      ]
     },
     "execution_count": 8,
     "metadata": {},
     "output_type": "execute_result"
    }
   ],
   "source": [
    "# all의 입력 인수가 빈 값인 경우에는 True를 리턴\n",
    "all([])"
   ]
  },
  {
   "cell_type": "markdown",
   "id": "92f4944e-2df8-4d0c-87fa-0425b1fe8568",
   "metadata": {},
   "source": [
    "### any\n",
    "any(x)는 반복 가능한 데이터 x를 입력으로 받아\n",
    "x의 요소 중 하나라도 참이 있으면 True를 리턴하고 x가 모두 거짓일 때만 False를 리턴\n",
    "all(x)의 반대로 작동"
   ]
  },
  {
   "cell_type": "code",
   "execution_count": 9,
   "id": "72659fc5-ba1f-4305-8d8d-b5eff3b6d93a",
   "metadata": {},
   "outputs": [
    {
     "data": {
      "text/plain": [
       "True"
      ]
     },
     "execution_count": 9,
     "metadata": {},
     "output_type": "execute_result"
    }
   ],
   "source": [
    "any([1, 2, 3, 0])"
   ]
  },
  {
   "cell_type": "code",
   "execution_count": 10,
   "id": "080b33a1-2ab1-471d-b610-0d7470d55d96",
   "metadata": {},
   "outputs": [
    {
     "data": {
      "text/plain": [
       "False"
      ]
     },
     "execution_count": 10,
     "metadata": {},
     "output_type": "execute_result"
    }
   ],
   "source": [
    "any([0, \"\"])"
   ]
  },
  {
   "cell_type": "code",
   "execution_count": 11,
   "id": "53b0768b-76d0-4282-b4b6-a9c03c3435aa",
   "metadata": {},
   "outputs": [
    {
     "data": {
      "text/plain": [
       "False"
      ]
     },
     "execution_count": 11,
     "metadata": {},
     "output_type": "execute_result"
    }
   ],
   "source": [
    "any([])"
   ]
  },
  {
   "cell_type": "markdown",
   "id": "cc4d7e98-172f-4afb-af57-be87178903b8",
   "metadata": {},
   "source": [
    "### chr\n",
    "chr(i)는 유니코드 숫자 값을 입력받아 그 코드에 해당하는 문자를 리턴"
   ]
  },
  {
   "cell_type": "code",
   "execution_count": 12,
   "id": "ed8c21d2-1827-431f-8077-f25f45febf89",
   "metadata": {},
   "outputs": [
    {
     "data": {
      "text/plain": [
       "'a'"
      ]
     },
     "execution_count": 12,
     "metadata": {},
     "output_type": "execute_result"
    }
   ],
   "source": [
    "chr(97)  # 아스키코드 97 = 'a'"
   ]
  },
  {
   "cell_type": "code",
   "execution_count": 13,
   "id": "e0f8c7cf-de05-4956-b2b4-b9099beae627",
   "metadata": {},
   "outputs": [
    {
     "data": {
      "text/plain": [
       "'가'"
      ]
     },
     "execution_count": 13,
     "metadata": {},
     "output_type": "execute_result"
    }
   ],
   "source": [
    "chr(44032)  # 유니코드 44032 = '가'\n"
   ]
  },
  {
   "cell_type": "markdown",
   "id": "741f6342-9d3c-402b-9ddc-79b2d66db541",
   "metadata": {},
   "source": [
    "### dir() : 객체가 지닌 변수 함수를 보여줌"
   ]
  },
  {
   "cell_type": "code",
   "execution_count": 20,
   "id": "fddc3695-ade9-424f-87bf-37e2f16c2865",
   "metadata": {},
   "outputs": [
    {
     "data": {
      "text/plain": [
       "['__add__',\n",
       " '__class__',\n",
       " '__class_getitem__',\n",
       " '__contains__',\n",
       " '__delattr__',\n",
       " '__delitem__',\n",
       " '__dir__',\n",
       " '__doc__',\n",
       " '__eq__',\n",
       " '__format__',\n",
       " '__ge__',\n",
       " '__getattribute__',\n",
       " '__getitem__',\n",
       " '__getstate__',\n",
       " '__gt__',\n",
       " '__hash__',\n",
       " '__iadd__',\n",
       " '__imul__',\n",
       " '__init__',\n",
       " '__init_subclass__',\n",
       " '__iter__',\n",
       " '__le__',\n",
       " '__len__',\n",
       " '__lt__',\n",
       " '__mul__',\n",
       " '__ne__',\n",
       " '__new__',\n",
       " '__reduce__',\n",
       " '__reduce_ex__',\n",
       " '__repr__',\n",
       " '__reversed__',\n",
       " '__rmul__',\n",
       " '__setattr__',\n",
       " '__setitem__',\n",
       " '__sizeof__',\n",
       " '__str__',\n",
       " '__subclasshook__',\n",
       " 'append',\n",
       " 'clear',\n",
       " 'copy',\n",
       " 'count',\n",
       " 'extend',\n",
       " 'index',\n",
       " 'insert',\n",
       " 'pop',\n",
       " 'remove',\n",
       " 'reverse',\n",
       " 'sort']"
      ]
     },
     "execution_count": 20,
     "metadata": {},
     "output_type": "execute_result"
    }
   ],
   "source": []
  },
  {
   "cell_type": "code",
   "execution_count": 15,
   "id": "a2095493-8227-41dd-a867-b0707976255d",
   "metadata": {},
   "outputs": [
    {
     "data": {
      "text/plain": [
       "['__add__',\n",
       " '__class__',\n",
       " '__class_getitem__',\n",
       " '__contains__',\n",
       " '__delattr__',\n",
       " '__delitem__',\n",
       " '__dir__',\n",
       " '__doc__',\n",
       " '__eq__',\n",
       " '__format__',\n",
       " '__ge__',\n",
       " '__getattribute__',\n",
       " '__getitem__',\n",
       " '__getstate__',\n",
       " '__gt__',\n",
       " '__hash__',\n",
       " '__iadd__',\n",
       " '__imul__',\n",
       " '__init__',\n",
       " '__init_subclass__',\n",
       " '__iter__',\n",
       " '__le__',\n",
       " '__len__',\n",
       " '__lt__',\n",
       " '__mul__',\n",
       " '__ne__',\n",
       " '__new__',\n",
       " '__reduce__',\n",
       " '__reduce_ex__',\n",
       " '__repr__',\n",
       " '__reversed__',\n",
       " '__rmul__',\n",
       " '__setattr__',\n",
       " '__setitem__',\n",
       " '__sizeof__',\n",
       " '__str__',\n",
       " '__subclasshook__',\n",
       " 'append',\n",
       " 'clear',\n",
       " 'copy',\n",
       " 'count',\n",
       " 'extend',\n",
       " 'index',\n",
       " 'insert',\n",
       " 'pop',\n",
       " 'remove',\n",
       " 'reverse',\n",
       " 'sort']"
      ]
     },
     "execution_count": 15,
     "metadata": {},
     "output_type": "execute_result"
    }
   ],
   "source": [
    "dir([1, 2, 3])"
   ]
  },
  {
   "cell_type": "code",
   "execution_count": 16,
   "id": "d35e4603-0b8b-4699-b6f7-82caf18b2cd8",
   "metadata": {},
   "outputs": [
    {
     "data": {
      "text/plain": [
       "['__class__',\n",
       " '__class_getitem__',\n",
       " '__contains__',\n",
       " '__delattr__',\n",
       " '__delitem__',\n",
       " '__dir__',\n",
       " '__doc__',\n",
       " '__eq__',\n",
       " '__format__',\n",
       " '__ge__',\n",
       " '__getattribute__',\n",
       " '__getitem__',\n",
       " '__getstate__',\n",
       " '__gt__',\n",
       " '__hash__',\n",
       " '__init__',\n",
       " '__init_subclass__',\n",
       " '__ior__',\n",
       " '__iter__',\n",
       " '__le__',\n",
       " '__len__',\n",
       " '__lt__',\n",
       " '__ne__',\n",
       " '__new__',\n",
       " '__or__',\n",
       " '__reduce__',\n",
       " '__reduce_ex__',\n",
       " '__repr__',\n",
       " '__reversed__',\n",
       " '__ror__',\n",
       " '__setattr__',\n",
       " '__setitem__',\n",
       " '__sizeof__',\n",
       " '__str__',\n",
       " '__subclasshook__',\n",
       " 'clear',\n",
       " 'copy',\n",
       " 'fromkeys',\n",
       " 'get',\n",
       " 'items',\n",
       " 'keys',\n",
       " 'pop',\n",
       " 'popitem',\n",
       " 'setdefault',\n",
       " 'update',\n",
       " 'values']"
      ]
     },
     "execution_count": 16,
     "metadata": {},
     "output_type": "execute_result"
    }
   ],
   "source": [
    "dir({'1':'a'})"
   ]
  },
  {
   "cell_type": "markdown",
   "id": "98a1e34a-518e-49f9-ad83-873e18aca4d0",
   "metadata": {},
   "source": [
    "#### divmod\n",
    "2개의 숫자 a, b를 입력으로 받아\n",
    "a를 b로 나눈 몫과 나머지를 튜플로 리턴"
   ]
  },
  {
   "cell_type": "code",
   "execution_count": 17,
   "id": "ee27072c-1b6f-4203-9b9f-0449253f1527",
   "metadata": {},
   "outputs": [
    {
     "data": {
      "text/plain": [
       "(2, 1)"
      ]
     },
     "execution_count": 17,
     "metadata": {},
     "output_type": "execute_result"
    }
   ],
   "source": [
    "divmod(7, 3)"
   ]
  },
  {
   "cell_type": "code",
   "execution_count": 18,
   "id": "61ca737e-faaa-4fb5-8020-db28fe7c3fb5",
   "metadata": {},
   "outputs": [
    {
     "data": {
      "text/plain": [
       "2"
      ]
     },
     "execution_count": 18,
     "metadata": {},
     "output_type": "execute_result"
    }
   ],
   "source": [
    "7 // 3"
   ]
  },
  {
   "cell_type": "code",
   "execution_count": 19,
   "id": "b73b4dcd-ea19-4105-9f06-c214156efc51",
   "metadata": {},
   "outputs": [
    {
     "data": {
      "text/plain": [
       "1"
      ]
     },
     "execution_count": 19,
     "metadata": {},
     "output_type": "execute_result"
    }
   ],
   "source": [
    "7 % 3"
   ]
  },
  {
   "cell_type": "markdown",
   "id": "55cdd3fe-1aa3-4d12-90d9-ca3f4dc2ae1d",
   "metadata": {},
   "source": [
    "### enumerate\n",
    "순서가 있는 데이터(리스트, 튜플, 문자열)를 입력으로 받아\n",
    "인덱스 값을 포함하는 enumerate 객체를 리턴"
   ]
  },
  {
   "cell_type": "code",
   "execution_count": 30,
   "id": "7fbd5bf6-ec02-4922-9d11-685d30af606d",
   "metadata": {},
   "outputs": [
    {
     "name": "stdout",
     "output_type": "stream",
     "text": [
      "0 a\n",
      "1 b\n",
      "2 c\n"
     ]
    }
   ],
   "source": [
    "for i, k in enumerate({'a': 1, 'b': 2, 'c': 3}):\n",
    "    print(i, k)"
   ]
  },
  {
   "cell_type": "code",
   "execution_count": 21,
   "id": "fef8d63b-c2fc-4845-8902-e5e6e9ae51f0",
   "metadata": {},
   "outputs": [
    {
     "name": "stdout",
     "output_type": "stream",
     "text": [
      "0 body\n",
      "1 foo\n",
      "2 bar\n"
     ]
    }
   ],
   "source": [
    "for i, name in enumerate(['body', 'foo', 'bar']):\n",
    "    print(i, name)\n"
   ]
  },
  {
   "cell_type": "markdown",
   "id": "06fc1210-c2a3-4f28-9aec-ebe1491ebe2f",
   "metadata": {},
   "source": [
    "### eval\n",
    "문자열로 구성된 표현식을 입력으로 받아 해당 문자열을 실행한 결괏값을 리턴"
   ]
  },
  {
   "cell_type": "code",
   "execution_count": 22,
   "id": "45a157b3-870d-4d42-9a9e-66a68d7fd597",
   "metadata": {},
   "outputs": [
    {
     "data": {
      "text/plain": [
       "3"
      ]
     },
     "execution_count": 22,
     "metadata": {},
     "output_type": "execute_result"
    }
   ],
   "source": [
    "eval('1+2')"
   ]
  },
  {
   "cell_type": "code",
   "execution_count": 23,
   "id": "ccf7e5d7-1f02-4175-8c3a-26da1869aa99",
   "metadata": {},
   "outputs": [
    {
     "data": {
      "text/plain": [
       "'hia'"
      ]
     },
     "execution_count": 23,
     "metadata": {},
     "output_type": "execute_result"
    }
   ],
   "source": [
    "eval(\"'hi' + 'a'\")"
   ]
  },
  {
   "cell_type": "code",
   "execution_count": 24,
   "id": "3abda89e-ca4f-41bc-8912-de09bb39fa52",
   "metadata": {},
   "outputs": [
    {
     "data": {
      "text/plain": [
       "(1, 1)"
      ]
     },
     "execution_count": 24,
     "metadata": {},
     "output_type": "execute_result"
    }
   ],
   "source": [
    "eval('divmod(4, 3)')"
   ]
  },
  {
   "cell_type": "markdown",
   "id": "eccf76b9-fd2e-4d19-b171-f424600738b8",
   "metadata": {},
   "source": [
    "### filter\n",
    "filter 함수는 첫 번째 인수로 함수, 두번째 인수로 반복 가능한 데이터를 받아\n",
    "반복 가능한 데이터의 요소 순서대로 함수를 호출했을 대\n",
    "리턴값이 참인 것 만 묶어서 리턴"
   ]
  },
  {
   "cell_type": "code",
   "execution_count": 28,
   "id": "0adbf0cc-9226-4386-b030-65e177dc7fd2",
   "metadata": {},
   "outputs": [
    {
     "name": "stdout",
     "output_type": "stream",
     "text": [
      "[1, 2, 6]\n"
     ]
    }
   ],
   "source": [
    "def positive(l): \n",
    "    result = [] \n",
    "    for i in l: \n",
    "        if i > 0: \n",
    "            result.append(i) \n",
    "    return result\n",
    "\n",
    "print(positive([1,-3,2,0,-5,6]))"
   ]
  },
  {
   "cell_type": "code",
   "execution_count": 48,
   "id": "bfad6023-c78b-4637-abf1-7997704524f9",
   "metadata": {},
   "outputs": [
    {
     "name": "stdout",
     "output_type": "stream",
     "text": [
      "[1, 2, 6]\n"
     ]
    }
   ],
   "source": [
    "#filter 함수로 암수값만 변환\n",
    "def positive(x):\n",
    "    return x >0\n",
    "\n",
    "    #fliter함수 사용\n",
    "print(list(filter(positive, [1, -3, 2, 0, -5, 6])))"
   ]
  },
  {
   "cell_type": "code",
   "execution_count": 49,
   "id": "12e6dd87-ad64-49de-9daa-b947538413f7",
   "metadata": {},
   "outputs": [
    {
     "data": {
      "text/plain": [
       "[1, 2, 6]"
      ]
     },
     "execution_count": 49,
     "metadata": {},
     "output_type": "execute_result"
    }
   ],
   "source": [
    "#lamda 함수 사용\n",
    "list(filter(lambda x : x >0, [1, -3, 2, 0, -5, 6]))"
   ]
  },
  {
   "cell_type": "markdown",
   "id": "8aab69f5-82a5-4c19-93a4-5642fac6bad1",
   "metadata": {},
   "source": [
    "### hex\n",
    "정수를 입력받아 16진수 문자열로 변환하여 리턴"
   ]
  },
  {
   "cell_type": "code",
   "execution_count": 34,
   "id": "638df8a8-1b8e-4410-a53d-d693ac298633",
   "metadata": {},
   "outputs": [
    {
     "data": {
      "text/plain": [
       "'0xea'"
      ]
     },
     "execution_count": 34,
     "metadata": {},
     "output_type": "execute_result"
    }
   ],
   "source": [
    "hex(234)"
   ]
  },
  {
   "cell_type": "code",
   "execution_count": 36,
   "id": "d599531b-8d99-4b3f-968f-1113ec0b5f8b",
   "metadata": {},
   "outputs": [
    {
     "data": {
      "text/plain": [
       "'0x3'"
      ]
     },
     "execution_count": 36,
     "metadata": {},
     "output_type": "execute_result"
    }
   ],
   "source": [
    "hex(3)"
   ]
  },
  {
   "cell_type": "markdown",
   "id": "ff1d2e15-ee5a-44c0-99e3-a6a43925ca0e",
   "metadata": {},
   "source": [
    "### id\n",
    "객체를 입력받아 객체의 고유 주솟값 래퍼런스 리턴"
   ]
  },
  {
   "cell_type": "code",
   "execution_count": 38,
   "id": "fce2a1ab-3b93-4b3e-9774-06c8218451e3",
   "metadata": {},
   "outputs": [
    {
     "data": {
      "text/plain": [
       "140716405470184"
      ]
     },
     "execution_count": 38,
     "metadata": {},
     "output_type": "execute_result"
    }
   ],
   "source": [
    "a = 3\n",
    "id(3)"
   ]
  },
  {
   "cell_type": "code",
   "execution_count": 39,
   "id": "5201bdb9-020b-4661-8411-e0d6caf29c03",
   "metadata": {},
   "outputs": [
    {
     "data": {
      "text/plain": [
       "140716405470184"
      ]
     },
     "execution_count": 39,
     "metadata": {},
     "output_type": "execute_result"
    }
   ],
   "source": [
    "id(a)"
   ]
  },
  {
   "cell_type": "code",
   "execution_count": 40,
   "id": "7fda1200-23bd-47d0-9034-cf53ce0fbcbc",
   "metadata": {},
   "outputs": [
    {
     "data": {
      "text/plain": [
       "140716405470184"
      ]
     },
     "execution_count": 40,
     "metadata": {},
     "output_type": "execute_result"
    }
   ],
   "source": [
    "b = a\n",
    "id(b)"
   ]
  },
  {
   "cell_type": "code",
   "execution_count": 41,
   "id": "a34a487f-9f49-4448-9c19-98a8dfc93efa",
   "metadata": {},
   "outputs": [
    {
     "data": {
      "text/plain": [
       "140716405470216"
      ]
     },
     "execution_count": 41,
     "metadata": {},
     "output_type": "execute_result"
    }
   ],
   "source": [
    "id(4)"
   ]
  },
  {
   "cell_type": "markdown",
   "id": "b4be0de1-937f-453b-8067-75908abe7ee0",
   "metadata": {},
   "source": [
    "#### iinput\n",
    "사용자 압력을 받는 함수"
   ]
  },
  {
   "cell_type": "code",
   "execution_count": 42,
   "id": "f47da980-feb8-4edf-b496-7db58bd22928",
   "metadata": {},
   "outputs": [
    {
     "name": "stdin",
     "output_type": "stream",
     "text": [
      " hello\n"
     ]
    }
   ],
   "source": [
    "a = input()"
   ]
  },
  {
   "cell_type": "code",
   "execution_count": 43,
   "id": "f34e2c2a-9d84-44f1-afce-638a1419573e",
   "metadata": {},
   "outputs": [
    {
     "data": {
      "text/plain": [
       "'hello'"
      ]
     },
     "execution_count": 43,
     "metadata": {},
     "output_type": "execute_result"
    }
   ],
   "source": [
    "a"
   ]
  },
  {
   "cell_type": "code",
   "execution_count": 46,
   "id": "6c9c818a-88a6-446d-8c7b-aa9616dff9f9",
   "metadata": {},
   "outputs": [
    {
     "name": "stdin",
     "output_type": "stream",
     "text": [
      "Enter: hi\n"
     ]
    }
   ],
   "source": [
    "b = input(\"Enter:\")"
   ]
  },
  {
   "cell_type": "code",
   "execution_count": 47,
   "id": "c7fa1cc8-6b4b-49b3-be74-80ca5a1f29ac",
   "metadata": {},
   "outputs": [
    {
     "data": {
      "text/plain": [
       "'hi'"
      ]
     },
     "execution_count": 47,
     "metadata": {},
     "output_type": "execute_result"
    }
   ],
   "source": [
    "b"
   ]
  },
  {
   "cell_type": "markdown",
   "id": "59cf7831-7fb4-448b-b1ae-f3b2c4409edd",
   "metadata": {},
   "source": [
    "###  map() 안에서 선언한 함수의 결과값을 반환"
   ]
  },
  {
   "cell_type": "code",
   "execution_count": 52,
   "id": "2b4812bb-1e84-4028-9080-9aeea8e9455f",
   "metadata": {},
   "outputs": [
    {
     "name": "stdout",
     "output_type": "stream",
     "text": [
      "[2, 4, 6, 8]\n"
     ]
    }
   ],
   "source": [
    "def two_times(lst):\n",
    "    result = []\n",
    "    for i in lst:\n",
    "        result.append(i * 2)\n",
    "    return result\n",
    "\n",
    "print(two_times([1, 2, 3, 4]))"
   ]
  },
  {
   "cell_type": "code",
   "execution_count": 53,
   "id": "d0a0dc9d-ca47-4365-b691-94982b4a86f0",
   "metadata": {},
   "outputs": [
    {
     "data": {
      "text/plain": [
       "[2, 4, 6, 8]"
      ]
     },
     "execution_count": 53,
     "metadata": {},
     "output_type": "execute_result"
    }
   ],
   "source": [
    "# map 함수로 리스트 각 요소에 *2\n",
    "def two_times(x):\n",
    "    return x*2\n",
    "\n",
    "list(map(two_times, [1,2,3,4]))"
   ]
  },
  {
   "cell_type": "code",
   "execution_count": 54,
   "id": "429a65c7-6ba8-4fd1-b762-e75f7df63077",
   "metadata": {},
   "outputs": [
    {
     "data": {
      "text/plain": [
       "[2, 4, 6, 8]"
      ]
     },
     "execution_count": 54,
     "metadata": {},
     "output_type": "execute_result"
    }
   ],
   "source": [
    "# lambda 함수로\n",
    "list(map(lambda x:x*2, [1,2,3,4]))"
   ]
  },
  {
   "cell_type": "markdown",
   "id": "15c57d38-5f65-469d-8d2a-a65edf973b27",
   "metadata": {},
   "source": [
    "### class perston"
   ]
  },
  {
   "cell_type": "code",
   "execution_count": 56,
   "id": "6448b370-7254-4f73-8aa9-92ed427829f5",
   "metadata": {},
   "outputs": [
    {
     "name": "stdout",
     "output_type": "stream",
     "text": [
      "True\n"
     ]
    }
   ],
   "source": [
    "class Person: pass\n",
    "\n",
    "a = Person()\n",
    "print(isinstance(a, Person))"
   ]
  },
  {
   "cell_type": "code",
   "execution_count": 58,
   "id": "e0ba3552-31bc-45c4-a728-44ef365cd829",
   "metadata": {},
   "outputs": [
    {
     "data": {
      "text/plain": [
       "False"
      ]
     },
     "execution_count": 58,
     "metadata": {},
     "output_type": "execute_result"
    }
   ],
   "source": [
    "b = 3\n",
    "isinstance(b, Person)"
   ]
  },
  {
   "cell_type": "code",
   "execution_count": 59,
   "id": "92b4e474-3ca4-4f6b-8910-68cadc8a97da",
   "metadata": {},
   "outputs": [],
   "source": [
    "#max() : 최대값, min(): 최솟값"
   ]
  },
  {
   "cell_type": "code",
   "execution_count": 60,
   "id": "ca6ddcc5-eee9-4e1d-8ab6-8949a4ed44a9",
   "metadata": {},
   "outputs": [
    {
     "name": "stdout",
     "output_type": "stream",
     "text": [
      "3\n",
      "y\n"
     ]
    }
   ],
   "source": [
    "print(max([1,2,3]))\n",
    "print(max(\"python\"))"
   ]
  },
  {
   "cell_type": "code",
   "execution_count": 62,
   "id": "71e9bf05-e45d-4d47-b67d-7335bd29900c",
   "metadata": {},
   "outputs": [],
   "source": [
    "#ord() : chr()반대, 무자를 전달인자로 넣으면 유니코드 값 반환"
   ]
  },
  {
   "cell_type": "code",
   "execution_count": 64,
   "id": "e5a8c858-324a-437e-99c0-3d74aa5daf11",
   "metadata": {},
   "outputs": [
    {
     "name": "stdout",
     "output_type": "stream",
     "text": [
      "97\n",
      "65\n",
      "48\n"
     ]
    }
   ],
   "source": [
    "print(ord('a'))\n",
    "print(ord('A'))\n",
    "print(ord('0'))"
   ]
  },
  {
   "cell_type": "code",
   "execution_count": 65,
   "id": "742fbb1d-4ed3-493f-9843-04555c55df53",
   "metadata": {},
   "outputs": [],
   "source": [
    "#range() : 범위값을 반복 가능한 객체로 만들어 리턴"
   ]
  },
  {
   "cell_type": "code",
   "execution_count": 66,
   "id": "2ef48d01-f7df-4f7e-b78b-82d06540fe9e",
   "metadata": {},
   "outputs": [
    {
     "data": {
      "text/plain": [
       "range(0, 5)"
      ]
     },
     "execution_count": 66,
     "metadata": {},
     "output_type": "execute_result"
    }
   ],
   "source": [
    "# 인수가 하나일 때\n",
    "range(5)"
   ]
  },
  {
   "cell_type": "code",
   "execution_count": 67,
   "id": "944d0bd9-8927-4a3b-bf7c-ce555631fd89",
   "metadata": {},
   "outputs": [
    {
     "data": {
      "text/plain": [
       "[1, 3, 5, 7, 9]"
      ]
     },
     "execution_count": 67,
     "metadata": {},
     "output_type": "execute_result"
    }
   ],
   "source": [
    "list(range(1,10,2))"
   ]
  },
  {
   "cell_type": "code",
   "execution_count": 68,
   "id": "3c7b34a6-4b64-477d-8995-79bce3862446",
   "metadata": {},
   "outputs": [
    {
     "data": {
      "text/plain": [
       "[0, -1, -2, -3, -4, -5, -6, -7, -8, -9]"
      ]
     },
     "execution_count": 68,
     "metadata": {},
     "output_type": "execute_result"
    }
   ],
   "source": [
    "list(range(0, -10, -1))"
   ]
  },
  {
   "cell_type": "code",
   "execution_count": 69,
   "id": "3fa4b29c-381b-45ad-b589-559349eaec72",
   "metadata": {},
   "outputs": [
    {
     "data": {
      "text/plain": [
       "['a', 'b', 'c']"
      ]
     },
     "execution_count": 69,
     "metadata": {},
     "output_type": "execute_result"
    }
   ],
   "source": [
    "sorted(['c','a','b'])"
   ]
  },
  {
   "cell_type": "code",
   "execution_count": 70,
   "id": "a38b9fa7-8810-4f19-8446-d9bdfeed0ddc",
   "metadata": {},
   "outputs": [
    {
     "ename": "NameError",
     "evalue": "name 'sort' is not defined",
     "output_type": "error",
     "traceback": [
      "\u001b[31m---------------------------------------------------------------------------\u001b[39m",
      "\u001b[31mNameError\u001b[39m                                 Traceback (most recent call last)",
      "\u001b[36mCell\u001b[39m\u001b[36m \u001b[39m\u001b[32mIn[70]\u001b[39m\u001b[32m, line 1\u001b[39m\n\u001b[32m----> \u001b[39m\u001b[32m1\u001b[39m \u001b[43msort\u001b[49m(\u001b[33m\"\u001b[39m\u001b[33mzero\u001b[39m\u001b[33m\"\u001b[39m)\n",
      "\u001b[31mNameError\u001b[39m: name 'sort' is not defined"
     ]
    }
   ],
   "source": [
    "sort(\"zero\")"
   ]
  },
  {
   "cell_type": "code",
   "execution_count": 71,
   "id": "d29fdc19-6117-4883-87c5-0cb6b7bb7bc0",
   "metadata": {},
   "outputs": [],
   "source": [
    "#zip(): 동일한 개수로 이루어진 반복되는 데이터를 묶어셔 리턴"
   ]
  },
  {
   "cell_type": "code",
   "execution_count": 72,
   "id": "d1cbfff7-00f8-4998-8098-788f4b70fd62",
   "metadata": {},
   "outputs": [
    {
     "data": {
      "text/plain": [
       "zip"
      ]
     },
     "execution_count": 72,
     "metadata": {},
     "output_type": "execute_result"
    }
   ],
   "source": [
    "zip"
   ]
  },
  {
   "cell_type": "code",
   "execution_count": 73,
   "id": "d1417184-caf0-4a70-a240-35bc539d85b5",
   "metadata": {},
   "outputs": [
    {
     "data": {
      "text/plain": [
       "<zip at 0x2b8b82d0480>"
      ]
     },
     "execution_count": 73,
     "metadata": {},
     "output_type": "execute_result"
    }
   ],
   "source": [
    "zip([1,2,3], [2,3,4,])"
   ]
  },
  {
   "cell_type": "code",
   "execution_count": 74,
   "id": "4b72027a-4c1e-44af-8600-c7e5ce747a02",
   "metadata": {},
   "outputs": [
    {
     "data": {
      "text/plain": [
       "[(1, 6), (2, 7), (3, 8)]"
      ]
     },
     "execution_count": 74,
     "metadata": {},
     "output_type": "execute_result"
    }
   ],
   "source": [
    "list(zip([1,2,3,4,5], [6,7,8]))"
   ]
  },
  {
   "cell_type": "code",
   "execution_count": 75,
   "id": "c092afb6-6a88-4778-a72e-1d07b31803fe",
   "metadata": {},
   "outputs": [
    {
     "data": {
      "text/plain": [
       "[('a', 'd'), ('b', 'e'), ('c', 'f')]"
      ]
     },
     "execution_count": 75,
     "metadata": {},
     "output_type": "execute_result"
    }
   ],
   "source": [
    "list(zip(\"abc\", \"def\"))"
   ]
  },
  {
   "cell_type": "code",
   "execution_count": 76,
   "id": "6d48b763-2119-4d95-99e1-1bbe790884a0",
   "metadata": {},
   "outputs": [
    {
     "data": {
      "text/plain": [
       "[(1, 4), (2, 5), (3, 6)]"
      ]
     },
     "execution_count": 76,
     "metadata": {},
     "output_type": "execute_result"
    }
   ],
   "source": [
    "list(zip((1,2,3), (4,5,6)))"
   ]
  }
 ],
 "metadata": {
  "kernelspec": {
   "display_name": "Python 3 (ipykernel)",
   "language": "python",
   "name": "python3"
  },
  "language_info": {
   "codemirror_mode": {
    "name": "ipython",
    "version": 3
   },
   "file_extension": ".py",
   "mimetype": "text/x-python",
   "name": "python",
   "nbconvert_exporter": "python",
   "pygments_lexer": "ipython3",
   "version": "3.13.5"
  }
 },
 "nbformat": 4,
 "nbformat_minor": 5
}
