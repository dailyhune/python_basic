{
 "cells": [
  {
   "cell_type": "markdown",
   "id": "75a425b1-f440-4c30-81ed-9e007e0305e8",
   "metadata": {},
   "source": [
    "## 2.For 문"
   ]
  },
  {
   "cell_type": "code",
   "execution_count": 1,
   "id": "cdbad751-9e31-4506-a29f-5e2b9edb113b",
   "metadata": {},
   "outputs": [
    {
     "name": "stdout",
     "output_type": "stream",
     "text": [
      "one\n",
      "two\n",
      "three\n"
     ]
    }
   ],
   "source": [
    "test_list = ['one',  'two', 'three']\n",
    "\n",
    "for i in test_list:\n",
    "    print(i)"
   ]
  },
  {
   "cell_type": "code",
   "execution_count": 2,
   "id": "de1ef14f-0932-48df-b9d0-165deba3a4c4",
   "metadata": {},
   "outputs": [
    {
     "ename": "SyntaxError",
     "evalue": "unmatched ']' (1150401394.py, line 1)",
     "output_type": "error",
     "traceback": [
      "  \u001b[36mCell\u001b[39m\u001b[36m \u001b[39m\u001b[32mIn[2]\u001b[39m\u001b[32m, line 1\u001b[39m\n\u001b[31m    \u001b[39m\u001b[31ma = [(1,2)],(3,4),(5,6)]\u001b[39m\n                           ^\n\u001b[31mSyntaxError\u001b[39m\u001b[31m:\u001b[39m unmatched ']'\n"
     ]
    }
   ],
   "source": [
    "a = [(1,2)],(3,4),(5,6)]\n",
    "for (first, last) in a:\n",
    "    print(first + last)"
   ]
  },
  {
   "cell_type": "code",
   "execution_count": 5,
   "id": "745ea885-49e4-4c49-92b8-2439b2ae2a55",
   "metadata": {},
   "outputs": [
    {
     "ename": "SyntaxError",
     "evalue": "closing parenthesis ')' does not match opening parenthesis '[' (1053767382.py, line 1)",
     "output_type": "error",
     "traceback": [
      "  \u001b[36mCell\u001b[39m\u001b[36m \u001b[39m\u001b[32mIn[5]\u001b[39m\u001b[32m, line 1\u001b[39m\n\u001b[31m    \u001b[39m\u001b[31ma = [1,2), (3.4). (5.6)]\u001b[39m\n            ^\n\u001b[31mSyntaxError\u001b[39m\u001b[31m:\u001b[39m closing parenthesis ')' does not match opening parenthesis '['\n"
     ]
    }
   ],
   "source": [
    "a = [1,2), (3.4). (5.6)]\n",
    "print(a[2])\n",
    "print(a[2][0])"
   ]
  },
  {
   "cell_type": "code",
   "execution_count": 6,
   "id": "3513ec97-9e02-489f-8ba9-f9d97fb6a018",
   "metadata": {},
   "outputs": [
    {
     "ename": "NameError",
     "evalue": "name 'a' is not defined",
     "output_type": "error",
     "traceback": [
      "\u001b[31m---------------------------------------------------------------------------\u001b[39m",
      "\u001b[31mNameError\u001b[39m                                 Traceback (most recent call last)",
      "\u001b[36mCell\u001b[39m\u001b[36m \u001b[39m\u001b[32mIn[6]\u001b[39m\u001b[32m, line 1\u001b[39m\n\u001b[32m----> \u001b[39m\u001b[32m1\u001b[39m \u001b[38;5;28;01mfor\u001b[39;00m (first, last) \u001b[38;5;129;01min\u001b[39;00m \u001b[43ma\u001b[49m :\n\u001b[32m      2\u001b[39m     \u001b[38;5;28mprint\u001b[39m(first + last)\n",
      "\u001b[31mNameError\u001b[39m: name 'a' is not defined"
     ]
    }
   ],
   "source": [
    "for (first, last) in a :\n",
    "    print(first + last)"
   ]
  },
  {
   "cell_type": "code",
   "execution_count": 9,
   "id": "69435195-47f6-4ca4-959b-7c98582592ec",
   "metadata": {},
   "outputs": [
    {
     "ename": "SyntaxError",
     "evalue": "closing parenthesis ')' does not match opening parenthesis '[' (3661586164.py, line 1)",
     "output_type": "error",
     "traceback": [
      "  \u001b[36mCell\u001b[39m\u001b[36m \u001b[39m\u001b[32mIn[9]\u001b[39m\u001b[32m, line 1\u001b[39m\n\u001b[31m    \u001b[39m\u001b[31mtest_list = ['one', 'two', 'three')\u001b[39m\n                                      ^\n\u001b[31mSyntaxError\u001b[39m\u001b[31m:\u001b[39m closing parenthesis ')' does not match opening parenthesis '['\n"
     ]
    }
   ],
   "source": [
    "test_list = ['one', 'two', 'three')\n",
    "for i in test_list:\n",
    "print(i)"
   ]
  },
  {
   "cell_type": "code",
   "execution_count": 10,
   "id": "b00bdbac-1eb8-466a-845d-7968ddf27f59",
   "metadata": {},
   "outputs": [
    {
     "ename": "SyntaxError",
     "evalue": "invalid non-printable character U+200B (1522472300.py, line 3)",
     "output_type": "error",
     "traceback": [
      "  \u001b[36mCell\u001b[39m\u001b[36m \u001b[39m\u001b[32mIn[10]\u001b[39m\u001b[32m, line 3\u001b[39m\n\u001b[31m    \u001b[39m\u001b[31m​\u001b[39m\n    ^\n\u001b[31mSyntaxError\u001b[39m\u001b[31m:\u001b[39m invalid non-printable character U+200B\n"
     ]
    }
   ],
   "source": [
    "marks = [90, 25, 67, 45, 80]   # 학생들의 시험 점수 리스트\n",
    "\n",
    "​\n",
    "\n",
    "number = 0   # 학생에게 붙여 줄 번호\n",
    "\n",
    "for mark in marks:   # 90, 25, 67, 45, 80을 순서대로 mark에 대입\n",
    "\n",
    "    number +=  1 \n",
    "\n",
    "    if mark >= 60: \n",
    "\n",
    "        print(\"%d번 학생은 합격입니다.\" % number)\n",
    "\n",
    "    else: \n",
    "\n",
    "        print(\"%d번 학생은 불합격입니다.\" % number)"
   ]
  },
  {
   "cell_type": "code",
   "execution_count": 11,
   "id": "89bac2d8-9b96-4b41-af8e-40678ddaa38d",
   "metadata": {},
   "outputs": [
    {
     "name": "stdout",
     "output_type": "stream",
     "text": [
      "1번 학생은 합격입니다.\n",
      "2번 학생은 불합격입니다.\n",
      "3번 학생은 합격입니다.\n",
      "4번 학생은 불합격입니다.\n",
      "5번 학생은 합격입니다.\n"
     ]
    }
   ],
   "source": [
    "marks = [90, 25, 67, 45, 80]   # 학생들의 시험 점수 리스트\n",
    "\n",
    "number = 0   # 학생에게 붙여 줄 번호\n",
    "\n",
    "for mark in marks:   # 90, 25, 67, 45, 80을 순서대로 mark에 대입\n",
    "\n",
    "    number +=  1 \n",
    "\n",
    "    if mark >= 60: \n",
    "\n",
    "        print(\"%d번 학생은 합격입니다.\" % number)\n",
    "\n",
    "    else: \n",
    "\n",
    "        print(\"%d번 학생은 불합격입니다.\" % number)"
   ]
  },
  {
   "cell_type": "code",
   "execution_count": 19,
   "id": "8ce01fc2-8ce4-4425-b635-ecfe20ace0da",
   "metadata": {},
   "outputs": [
    {
     "name": "stdout",
     "output_type": "stream",
     "text": [
      "1번 학생은 합격입니다.\n",
      "3번 학생은 합격입니다.\n",
      "5번 학생은 합격입니다.\n"
     ]
    }
   ],
   "source": [
    "marks = [90, 25, 67, 43, 89]\n",
    "\n",
    "number = 0\n",
    "\n",
    "for mark in marks:\n",
    "    number += 1\n",
    "    \n",
    "    if mark >= 60:\n",
    "        print(\"%d번 학생은 합격입니다.\" % number)\n",
    "    else :\n",
    "        \n",
    "        (\"%d번 학생은 불합격입니다.\" % number)"
   ]
  },
  {
   "cell_type": "code",
   "execution_count": 20,
   "id": "b8e56afa-9970-4ba1-86a0-252b5a2f1056",
   "metadata": {},
   "outputs": [],
   "source": [
    "marks = [90, 25, 67, 45, 80]   # 학생들의 시험 점수 리스트\n",
    "\n",
    "number = 0   # 학생에게 붙여 줄 번호\n",
    "\n",
    "for mark in marks:   # 90, 25, 67, 45, 80을 순서대로 mark에 대입\n",
    "\n",
    "    number +=  1 \n",
    "\n",
    "    if mark >= 60: \n",
    "        continue\n",
    "\n",
    "        print(\"%d번 학생은 합격입니다.\" % number)"
   ]
  },
  {
   "cell_type": "code",
   "execution_count": 21,
   "id": "3363cc89-a4f9-4c59-8ff4-a97f96bb3bdb",
   "metadata": {},
   "outputs": [
    {
     "ename": "NameError",
     "evalue": "name 'a' is not defined",
     "output_type": "error",
     "traceback": [
      "\u001b[31m---------------------------------------------------------------------------\u001b[39m",
      "\u001b[31mNameError\u001b[39m                                 Traceback (most recent call last)",
      "\u001b[36mCell\u001b[39m\u001b[36m \u001b[39m\u001b[32mIn[21]\u001b[39m\u001b[32m, line 1\u001b[39m\n\u001b[32m----> \u001b[39m\u001b[32m1\u001b[39m \u001b[38;5;28;01mfor\u001b[39;00m (first, last) \u001b[38;5;129;01min\u001b[39;00m \u001b[43ma\u001b[49m:\n\u001b[32m      2\u001b[39m     \u001b[38;5;28mprint\u001b[39m(first + \u001b[38;5;28mlist\u001b[39m)\n",
      "\u001b[31mNameError\u001b[39m: name 'a' is not defined"
     ]
    }
   ],
   "source": [
    "for (first, last) in a:\n",
    "    print(first + list)"
   ]
  },
  {
   "cell_type": "markdown",
   "id": "84af3746-c41a-4441-947f-b91279b1babd",
   "metadata": {},
   "source": [
    "###  for  문과 함께 자주 사용하는 range 함수"
   ]
  },
  {
   "cell_type": "code",
   "execution_count": 22,
   "id": "48e905d8-e1d0-4410-a218-46e57ef1982e",
   "metadata": {},
   "outputs": [
    {
     "data": {
      "text/plain": [
       "range(0, 10)"
      ]
     },
     "execution_count": 22,
     "metadata": {},
     "output_type": "execute_result"
    }
   ],
   "source": [
    "a =range(10)\n",
    "a"
   ]
  },
  {
   "cell_type": "code",
   "execution_count": 23,
   "id": "15056b8a-3949-4dd8-8b43-8650fe5003f5",
   "metadata": {},
   "outputs": [],
   "source": [
    "a = list(a)\n"
   ]
  },
  {
   "cell_type": "code",
   "execution_count": 24,
   "id": "5f4e4b37-08c4-46bf-a824-133e11f9c1b7",
   "metadata": {},
   "outputs": [
    {
     "name": "stdout",
     "output_type": "stream",
     "text": [
      "range(0, 10)\n",
      "<class 'range'>\n"
     ]
    }
   ],
   "source": [
    "a = range(10)\n",
    "print(a)\n",
    "print(type(a))"
   ]
  },
  {
   "cell_type": "code",
   "execution_count": 25,
   "id": "ffcea71f-445e-444d-a2a2-d795465aa3e2",
   "metadata": {},
   "outputs": [
    {
     "name": "stdout",
     "output_type": "stream",
     "text": [
      "[0, 1, 2, 3, 4, 5, 6, 7, 8, 9]\n",
      "<class 'list'>\n"
     ]
    }
   ],
   "source": [
    "a = list(a)\n",
    "print(a)\n",
    "print(type(a))"
   ]
  },
  {
   "cell_type": "code",
   "execution_count": 26,
   "id": "668f3348-9ceb-4050-855a-b95acfc58ca8",
   "metadata": {},
   "outputs": [
    {
     "data": {
      "text/plain": [
       "[1, 2, 3, 4, 5, 6, 7, 8, 9, 10]"
      ]
     },
     "execution_count": 26,
     "metadata": {},
     "output_type": "execute_result"
    }
   ],
   "source": [
    "a = list(range(1, 11))\n",
    "a"
   ]
  },
  {
   "cell_type": "code",
   "execution_count": 27,
   "id": "98321447-968e-4946-8c9f-d5265cf8446a",
   "metadata": {},
   "outputs": [
    {
     "data": {
      "text/plain": [
       "[15, 16, 17, 18, 19]"
      ]
     },
     "execution_count": 27,
     "metadata": {},
     "output_type": "execute_result"
    }
   ],
   "source": [
    "a = list(range(15, 20))\n",
    "a"
   ]
  },
  {
   "cell_type": "code",
   "execution_count": 28,
   "id": "15e2401c-d2eb-4ddd-9d91-fe54f84543de",
   "metadata": {},
   "outputs": [
    {
     "name": "stdout",
     "output_type": "stream",
     "text": [
      "55\n"
     ]
    }
   ],
   "source": [
    "add = 0\n",
    "\n",
    "for i in range(1, 11):\n",
    "    add += i\n",
    "\n",
    "print(add)"
   ]
  },
  {
   "cell_type": "code",
   "execution_count": 30,
   "id": "6a47ff62-3c3e-4697-ae09-8d37d74bf681",
   "metadata": {},
   "outputs": [
    {
     "name": "stdout",
     "output_type": "stream",
     "text": [
      "1\n",
      "3\n",
      "6\n",
      "10\n",
      "15\n",
      "21\n",
      "28\n",
      "36\n",
      "45\n",
      "55\n",
      "--------------------\n",
      "55\n"
     ]
    }
   ],
   "source": [
    "add = 0\n",
    "\n",
    "for i in range(1, 11):\n",
    "    add += i\n",
    "    print(add)\n",
    "\n",
    "print(\"-\"*20)\n",
    "print(add)"
   ]
  },
  {
   "cell_type": "code",
   "execution_count": 33,
   "id": "b5bc26ee-1bb5-4a00-bd66-6f1f54a05504",
   "metadata": {},
   "outputs": [
    {
     "name": "stdout",
     "output_type": "stream",
     "text": [
      "2번 학생은 불합격입니다.\n",
      "4번 학생은 불합격입니다.\n"
     ]
    }
   ],
   "source": [
    "marks = [90, 25, 67, 43, 89]\n",
    "\n",
    "number = 0\n",
    "\n",
    "for i in range(len(marks)):\n",
    "    number += 1\n",
    "    if marks[i] >= 60:\n",
    "        continue\n",
    "    print(\"%d번 학생은 불합격입니다.\" % number)\n"
   ]
  },
  {
   "cell_type": "code",
   "execution_count": 34,
   "id": "421e05ae-54a6-4bd1-8bf5-6e599c1ca734",
   "metadata": {},
   "outputs": [
    {
     "name": "stdout",
     "output_type": "stream",
     "text": [
      "0번 학생은 합격입니다.\n",
      "2번 학생은 합격입니다.\n",
      "4번 학생은 합격입니다.\n"
     ]
    }
   ],
   "source": [
    "marks = [90, 25, 67, 45, 80]\n",
    "\n",
    "for number in range(len(marks)):\n",
    "    if marks[number] < 60:\n",
    "        continue\n",
    "    print(\"%d번 학생은 합격입니다.\" % number)"
   ]
  },
  {
   "cell_type": "code",
   "execution_count": 35,
   "id": "a7043a5a-1383-4ca5-98ea-d66eb04ff394",
   "metadata": {},
   "outputs": [
    {
     "name": "stdout",
     "output_type": "stream",
     "text": [
      "2 * 1 = 2\n",
      "2 * 2 = 4\n",
      "2 * 3 = 6\n",
      "2 * 4 = 8\n",
      "2 * 5 = 10\n",
      "2 * 6 = 12\n",
      "2 * 7 = 14\n",
      "2 * 8 = 16\n",
      "2 * 9 = 18\n",
      "3 * 1 = 3\n",
      "3 * 2 = 6\n",
      "3 * 3 = 9\n",
      "3 * 4 = 12\n",
      "3 * 5 = 15\n",
      "3 * 6 = 18\n",
      "3 * 7 = 21\n",
      "3 * 8 = 24\n",
      "3 * 9 = 27\n",
      "4 * 1 = 4\n",
      "4 * 2 = 8\n",
      "4 * 3 = 12\n",
      "4 * 4 = 16\n",
      "4 * 5 = 20\n",
      "4 * 6 = 24\n",
      "4 * 7 = 28\n",
      "4 * 8 = 32\n",
      "4 * 9 = 36\n",
      "5 * 1 = 5\n",
      "5 * 2 = 10\n",
      "5 * 3 = 15\n",
      "5 * 4 = 20\n",
      "5 * 5 = 25\n",
      "5 * 6 = 30\n",
      "5 * 7 = 35\n",
      "5 * 8 = 40\n",
      "5 * 9 = 45\n",
      "6 * 1 = 6\n",
      "6 * 2 = 12\n",
      "6 * 3 = 18\n",
      "6 * 4 = 24\n",
      "6 * 5 = 30\n",
      "6 * 6 = 36\n",
      "6 * 7 = 42\n",
      "6 * 8 = 48\n",
      "6 * 9 = 54\n",
      "7 * 1 = 7\n",
      "7 * 2 = 14\n",
      "7 * 3 = 21\n",
      "7 * 4 = 28\n",
      "7 * 5 = 35\n",
      "7 * 6 = 42\n",
      "7 * 7 = 49\n",
      "7 * 8 = 56\n",
      "7 * 9 = 63\n",
      "8 * 1 = 8\n",
      "8 * 2 = 16\n",
      "8 * 3 = 24\n",
      "8 * 4 = 32\n",
      "8 * 5 = 40\n",
      "8 * 6 = 48\n",
      "8 * 7 = 56\n",
      "8 * 8 = 64\n",
      "8 * 9 = 72\n",
      "9 * 1 = 9\n",
      "9 * 2 = 18\n",
      "9 * 3 = 27\n",
      "9 * 4 = 36\n",
      "9 * 5 = 45\n",
      "9 * 6 = 54\n",
      "9 * 7 = 63\n",
      "9 * 8 = 72\n",
      "9 * 9 = 81\n"
     ]
    }
   ],
   "source": [
    "# 구구단\n",
    "for i in range(2, 10):\n",
    "    for j in range(1, 10):\n",
    "        print(\"%d * %d = %d\"%(i, j, i*j))"
   ]
  },
  {
   "cell_type": "code",
   "execution_count": 36,
   "id": "0c8d8b2e-5c08-4338-bc51-ed50107c9c20",
   "metadata": {},
   "outputs": [
    {
     "name": "stdout",
     "output_type": "stream",
     "text": [
      "2단\n",
      "2 * 1 = 2\n",
      "--------------------\n",
      "2 * 2 = 4\n",
      "--------------------\n",
      "2 * 3 = 6\n",
      "--------------------\n",
      "2 * 4 = 8\n",
      "--------------------\n",
      "2 * 5 = 10\n",
      "--------------------\n",
      "2 * 6 = 12\n",
      "--------------------\n",
      "2 * 7 = 14\n",
      "--------------------\n",
      "2 * 8 = 16\n",
      "--------------------\n",
      "2 * 9 = 18\n",
      "--------------------\n",
      "3단\n",
      "3 * 1 = 3\n",
      "--------------------\n",
      "3 * 2 = 6\n",
      "--------------------\n",
      "3 * 3 = 9\n",
      "--------------------\n",
      "3 * 4 = 12\n",
      "--------------------\n",
      "3 * 5 = 15\n",
      "--------------------\n",
      "3 * 6 = 18\n",
      "--------------------\n",
      "3 * 7 = 21\n",
      "--------------------\n",
      "3 * 8 = 24\n",
      "--------------------\n",
      "3 * 9 = 27\n",
      "--------------------\n",
      "4단\n",
      "4 * 1 = 4\n",
      "--------------------\n",
      "4 * 2 = 8\n",
      "--------------------\n",
      "4 * 3 = 12\n",
      "--------------------\n",
      "4 * 4 = 16\n",
      "--------------------\n",
      "4 * 5 = 20\n",
      "--------------------\n",
      "4 * 6 = 24\n",
      "--------------------\n",
      "4 * 7 = 28\n",
      "--------------------\n",
      "4 * 8 = 32\n",
      "--------------------\n",
      "4 * 9 = 36\n",
      "--------------------\n",
      "5단\n",
      "5 * 1 = 5\n",
      "--------------------\n",
      "5 * 2 = 10\n",
      "--------------------\n",
      "5 * 3 = 15\n",
      "--------------------\n",
      "5 * 4 = 20\n",
      "--------------------\n",
      "5 * 5 = 25\n",
      "--------------------\n",
      "5 * 6 = 30\n",
      "--------------------\n",
      "5 * 7 = 35\n",
      "--------------------\n",
      "5 * 8 = 40\n",
      "--------------------\n",
      "5 * 9 = 45\n",
      "--------------------\n",
      "6단\n",
      "6 * 1 = 6\n",
      "--------------------\n",
      "6 * 2 = 12\n",
      "--------------------\n",
      "6 * 3 = 18\n",
      "--------------------\n",
      "6 * 4 = 24\n",
      "--------------------\n",
      "6 * 5 = 30\n",
      "--------------------\n",
      "6 * 6 = 36\n",
      "--------------------\n",
      "6 * 7 = 42\n",
      "--------------------\n",
      "6 * 8 = 48\n",
      "--------------------\n",
      "6 * 9 = 54\n",
      "--------------------\n",
      "7단\n",
      "7 * 1 = 7\n",
      "--------------------\n",
      "7 * 2 = 14\n",
      "--------------------\n",
      "7 * 3 = 21\n",
      "--------------------\n",
      "7 * 4 = 28\n",
      "--------------------\n",
      "7 * 5 = 35\n",
      "--------------------\n",
      "7 * 6 = 42\n",
      "--------------------\n",
      "7 * 7 = 49\n",
      "--------------------\n",
      "7 * 8 = 56\n",
      "--------------------\n",
      "7 * 9 = 63\n",
      "--------------------\n",
      "8단\n",
      "8 * 1 = 8\n",
      "--------------------\n",
      "8 * 2 = 16\n",
      "--------------------\n",
      "8 * 3 = 24\n",
      "--------------------\n",
      "8 * 4 = 32\n",
      "--------------------\n",
      "8 * 5 = 40\n",
      "--------------------\n",
      "8 * 6 = 48\n",
      "--------------------\n",
      "8 * 7 = 56\n",
      "--------------------\n",
      "8 * 8 = 64\n",
      "--------------------\n",
      "8 * 9 = 72\n",
      "--------------------\n",
      "9단\n",
      "9 * 1 = 9\n",
      "--------------------\n",
      "9 * 2 = 18\n",
      "--------------------\n",
      "9 * 3 = 27\n",
      "--------------------\n",
      "9 * 4 = 36\n",
      "--------------------\n",
      "9 * 5 = 45\n",
      "--------------------\n",
      "9 * 6 = 54\n",
      "--------------------\n",
      "9 * 7 = 63\n",
      "--------------------\n",
      "9 * 8 = 72\n",
      "--------------------\n",
      "9 * 9 = 81\n",
      "--------------------\n"
     ]
    }
   ],
   "source": [
    "# 구구단\n",
    "for i in range(2, 10):\n",
    "    print(\"%d단\"%i)\n",
    "    for j in range(1, 10):\n",
    "        print(\"%d * %d = %d\"%(i, j, i*j))\n",
    "        print(\"-\"*20)"
   ]
  },
  {
   "cell_type": "markdown",
   "id": "e60dc320-8beb-4c6b-a2a2-a25a18c4057c",
   "metadata": {},
   "source": [
    "#### 리스트 컴프리헨선(comprehension)"
   ]
  },
  {
   "cell_type": "code",
   "execution_count": 40,
   "id": "f52ec8df-3353-4330-bfdd-c2354aa2c34a",
   "metadata": {},
   "outputs": [
    {
     "name": "stdout",
     "output_type": "stream",
     "text": [
      "[3, 6, 9, 12]\n"
     ]
    }
   ],
   "source": [
    "a = [1,2,3,4]\n",
    "result = []\n",
    "\n",
    "for num in a:\n",
    "    result.append(num*3)\n",
    "\n",
    "print(result)"
   ]
  },
  {
   "cell_type": "code",
   "execution_count": 41,
   "id": "06281313-301f-4998-aa9b-f0b413e324e5",
   "metadata": {},
   "outputs": [
    {
     "name": "stdout",
     "output_type": "stream",
     "text": [
      "[3, 6, 9, 12]\n"
     ]
    }
   ],
   "source": [
    "# 리스트 컴프리멘션으로 표현\n",
    "a = [1,2,3,4]\n",
    "result = [num*3 for num in a]\n",
    "print(result)"
   ]
  },
  {
   "cell_type": "code",
   "execution_count": 43,
   "id": "41c61535-a7fd-4e9e-972c-7a2c440f731f",
   "metadata": {},
   "outputs": [
    {
     "name": "stdout",
     "output_type": "stream",
     "text": [
      "[6, 12]\n"
     ]
    }
   ],
   "source": [
    "a = [1,2,3,4]\n",
    "result = [num*3 for num in a if num%2==0]\n",
    "print(result)"
   ]
  },
  {
   "cell_type": "code",
   "execution_count": 44,
   "id": "b904aa0c-705d-4000-a073-1a02dff408cb",
   "metadata": {},
   "outputs": [
    {
     "name": "stdout",
     "output_type": "stream",
     "text": [
      "[2, 4, 6, 8, 10, 12, 14, 16, 18, 3, 6, 9, 12, 15, 18, 21, 24, 27, 4, 8, 12, 16, 20, 24, 28, 32, 36, 5, 10, 15, 20, 25, 30, 35, 40, 45, 6, 12, 18, 24, 30, 36, 42, 48, 54, 7, 14, 21, 28, 35, 42, 49, 56, 63, 8, 16, 24, 32, 40, 48, 56, 64, 72, 9, 18, 27, 36, 45, 54, 63, 72, 81]\n"
     ]
    }
   ],
   "source": [
    "result = [x*y for x in range(2,10) for y in range(1,10)]\n",
    "print(result)"
   ]
  },
  {
   "cell_type": "markdown",
   "id": "06a9d887-4fac-485a-8c61-2d114a1743e3",
   "metadata": {},
   "source": [
    "## 1) 기본구조 : [표현식 + for 문]"
   ]
  },
  {
   "cell_type": "code",
   "execution_count": 45,
   "id": "10f2f796-e48d-49d1-a4c2-c154d6394a27",
   "metadata": {},
   "outputs": [
    {
     "name": "stdout",
     "output_type": "stream",
     "text": [
      "[0, 0, 0, 0, 0]\n"
     ]
    }
   ],
   "source": [
    "# 표현식에 변수 도는 상수를 쓰는 경우\n",
    "n = 5\n",
    "result = [0 for i in range(n)]\n",
    "print(result)"
   ]
  },
  {
   "cell_type": "code",
   "execution_count": 46,
   "id": "738527d8-0555-4ab7-b8e0-33f9c938dd60",
   "metadata": {},
   "outputs": [
    {
     "name": "stdout",
     "output_type": "stream",
     "text": [
      "[0, 1, 2, 3, 4]\n"
     ]
    }
   ],
   "source": [
    "result = [i for i in range(n)]\n",
    "print(result)"
   ]
  },
  {
   "cell_type": "code",
   "execution_count": 49,
   "id": "5855b22c-bf42-4f7a-85de-df97219c96da",
   "metadata": {},
   "outputs": [
    {
     "ename": "TypeError",
     "evalue": "'type' object is not iterable",
     "output_type": "error",
     "traceback": [
      "\u001b[31m---------------------------------------------------------------------------\u001b[39m",
      "\u001b[31mTypeError\u001b[39m                                 Traceback (most recent call last)",
      "\u001b[36mCell\u001b[39m\u001b[36m \u001b[39m\u001b[32mIn[49]\u001b[39m\u001b[32m, line 1\u001b[39m\n\u001b[32m----> \u001b[39m\u001b[32m1\u001b[39m array = \u001b[38;5;28;43mlist\u001b[39;49m\u001b[43m(\u001b[49m\u001b[38;5;28;43mrange\u001b[39;49m\u001b[43m)\u001b[49m\n\u001b[32m      2\u001b[39m result = [n \u001b[38;5;28;01mfor\u001b[39;00m n \u001b[38;5;129;01min\u001b[39;00m array]\n",
      "\u001b[31mTypeError\u001b[39m: 'type' object is not iterable"
     ]
    }
   ],
   "source": [
    "array = list(range)\n",
    "result = [n for n in array]"
   ]
  },
  {
   "cell_type": "code",
   "execution_count": null,
   "id": "8bfe08f9-5c04-42d4-a250-5751123df852",
   "metadata": {},
   "outputs": [],
   "source": [
    "array = list(range(10))\n",
    "result = [n for n in "
   ]
  },
  {
   "cell_type": "code",
   "execution_count": 50,
   "id": "cf104b2f-fa5b-4263-beb0-93439b670737",
   "metadata": {},
   "outputs": [
    {
     "ename": "NameError",
     "evalue": "name 'array' is not defined",
     "output_type": "error",
     "traceback": [
      "\u001b[31m---------------------------------------------------------------------------\u001b[39m",
      "\u001b[31mNameError\u001b[39m                                 Traceback (most recent call last)",
      "\u001b[36mCell\u001b[39m\u001b[36m \u001b[39m\u001b[32mIn[50]\u001b[39m\u001b[32m, line 1\u001b[39m\n\u001b[32m----> \u001b[39m\u001b[32m1\u001b[39m result = [n*n \u001b[38;5;28;01mfor\u001b[39;00m n \u001b[38;5;129;01min\u001b[39;00m \u001b[43marray\u001b[49m]\n\u001b[32m      2\u001b[39m \u001b[38;5;28mprint\u001b[39m(result)\n",
      "\u001b[31mNameError\u001b[39m: name 'array' is not defined"
     ]
    }
   ],
   "source": [
    "result = [n*n for n in array]\n",
    "print(result)"
   ]
  },
  {
   "cell_type": "code",
   "execution_count": 51,
   "id": "23fb32b6-94d0-4821-a04a-755012697442",
   "metadata": {},
   "outputs": [
    {
     "name": "stdout",
     "output_type": "stream",
     "text": [
      "[4, 13, 6]\n"
     ]
    }
   ],
   "source": [
    "str_array = [\"List\",  \"comprehension\", \"python\"]\n",
    "result = [len(string) for string in str_array]\n",
    "print(result)"
   ]
  },
  {
   "cell_type": "code",
   "execution_count": 53,
   "id": "94ee4edf-51e9-4e2d-bf0b-5364a2650ead",
   "metadata": {},
   "outputs": [
    {
     "name": "stdout",
     "output_type": "stream",
     "text": [
      "[0, 3, 0, 2, 4]\n"
     ]
    }
   ],
   "source": [
    "def mod_5(number):\n",
    "    return number % 5\n",
    "\n",
    "array = [10, 23, 45, 67, 89]  # 예시 배열\n",
    "\n",
    "result = [mod_5(n) for n in array]\n",
    "print(result)\n"
   ]
  },
  {
   "cell_type": "markdown",
   "id": "327f17ca-2c7f-47ab-ba08-6e8995a33e20",
   "metadata": {},
   "source": [
    "### [포현식+ for문 +조건문]"
   ]
  },
  {
   "cell_type": "code",
   "execution_count": 55,
   "id": "ac50f11b-61d2-43f1-8e18-4c61b8098e8e",
   "metadata": {},
   "outputs": [
    {
     "ename": "SyntaxError",
     "evalue": "invalid syntax (359149991.py, line 2)",
     "output_type": "error",
     "traceback": [
      "  \u001b[36mCell\u001b[39m\u001b[36m \u001b[39m\u001b[32mIn[55]\u001b[39m\u001b[32m, line 2\u001b[39m\n\u001b[31m    \u001b[39m\u001b[31mresult = [n for n in range(10) if n%2!==0]\u001b[39m\n                                           ^\n\u001b[31mSyntaxError\u001b[39m\u001b[31m:\u001b[39m invalid syntax\n"
     ]
    }
   ],
   "source": [
    "#if 문을 한번 사용한 경우\n",
    "result = [n for n in range(10) if n%2!==0]\n",
    "print(result)"
   ]
  },
  {
   "cell_type": "code",
   "execution_count": 56,
   "id": "ae98c763-d76a-4265-b7d5-f2c3f91c8093",
   "metadata": {},
   "outputs": [
    {
     "name": "stdout",
     "output_type": "stream",
     "text": [
      "[1, 3, 5, 7, 9]\n"
     ]
    }
   ],
   "source": [
    "result = [n for n in range(10) if n % 2 != 0]\n",
    "print(result)\n"
   ]
  },
  {
   "cell_type": "code",
   "execution_count": 57,
   "id": "62e5fa6e-bdce-4539-a4c4-002fba04e8fe",
   "metadata": {},
   "outputs": [
    {
     "name": "stdout",
     "output_type": "stream",
     "text": [
      "[24, 5, 2]\n"
     ]
    }
   ],
   "source": [
    "array = [-1, 0, -4, 24, 5, -10, 2]\n",
    "result = [n for n in array if n>0]\n",
    "print(result)"
   ]
  },
  {
   "cell_type": "code",
   "execution_count": 58,
   "id": "41d09f28-dce5-4ae6-86cc-d95a3cd64f26",
   "metadata": {},
   "outputs": [
    {
     "name": "stdout",
     "output_type": "stream",
     "text": [
      "[0, 6, 12, 18, 24, 30, 36, 42, 48]\n"
     ]
    }
   ],
   "source": [
    "#if 문을 여러번 사용한 경우\n",
    "result = [n for n in range(50) if n%3==0 if n%2==0]\n",
    "print(result)"
   ]
  },
  {
   "cell_type": "code",
   "execution_count": 59,
   "id": "e5359106-339f-467e-acf7-570fc107c4c8",
   "metadata": {},
   "outputs": [
    {
     "name": "stdout",
     "output_type": "stream",
     "text": [
      "[0, 6, 12, 18, 24, 30, 36, 42, 48]\n"
     ]
    }
   ],
   "source": [
    "#if 문을 여러번 사용한 경우\n",
    "result = [n for n in range(50) if n%3==0 and n%2==0]\n",
    "print(result)"
   ]
  },
  {
   "cell_type": "markdown",
   "id": "db2276fd-b2f1-4b74-a136-5566704cc59f",
   "metadata": {},
   "source": [
    "### [표현식 + 조건문 + for문]"
   ]
  },
  {
   "cell_type": "code",
   "execution_count": 60,
   "id": "a3bb522b-cdde-4401-a8a9-1c6170f12809",
   "metadata": {},
   "outputs": [
    {
     "name": "stdout",
     "output_type": "stream",
     "text": [
      "[5]\n"
     ]
    }
   ],
   "source": [
    "array = [-1, 0, -4, 24, 5, -10, 2]\n",
    "result = [n if n>0 else 0 ]\n",
    "print(result)"
   ]
  },
  {
   "cell_type": "code",
   "execution_count": 62,
   "id": "7da04f44-6ce0-45b5-8b37-1b4fc1890cde",
   "metadata": {},
   "outputs": [
    {
     "name": "stdout",
     "output_type": "stream",
     "text": [
      "['even', 'odd', 'even', 'odd']\n"
     ]
    }
   ],
   "source": [
    "array = [0,1,2,3]\n",
    "result = ['even' if n%2==0 else 'odd' for n in array]\n",
    "print(result)"
   ]
  },
  {
   "cell_type": "markdown",
   "id": "bdccf664-fd78-40b9-b349-afc8d90e981f",
   "metadata": {},
   "source": [
    "###  중첩 for 문"
   ]
  },
  {
   "cell_type": "code",
   "execution_count": 64,
   "id": "6a5eb6ca-ec49-4458-9485-93bf7dc56c7d",
   "metadata": {},
   "outputs": [
    {
     "ename": "_IncompleteInputError",
     "evalue": "incomplete input (1950505872.py, line 6)",
     "output_type": "error",
     "traceback": [
      "  \u001b[36mCell\u001b[39m\u001b[36m \u001b[39m\u001b[32mIn[64]\u001b[39m\u001b[32m, line 6\u001b[39m\n\u001b[31m    \u001b[39m\u001b[31mpos = [ i*j for i in range(3,4) for j in range(1,3)\u001b[39m\n                                                       ^\n\u001b[31m_IncompleteInputError\u001b[39m\u001b[31m:\u001b[39m incomplete input\n"
     ]
    }
   ],
   "source": [
    "pos * []\n",
    "for i in range(1, 4) :\n",
    "    for j in range(1,3):\n",
    "        pos.append(i*j)\n",
    "\n",
    "pos = [ i*j for i in range(3,4) for j in range(1,3)"
   ]
  },
  {
   "cell_type": "code",
   "execution_count": 65,
   "id": "2f492417-4c07-454f-9c90-847b2f3a2fc6",
   "metadata": {},
   "outputs": [
    {
     "name": "stdout",
     "output_type": "stream",
     "text": [
      "중첩 for문 결과: [1, 2, 2, 4, 3, 6]\n",
      "리스트 컴프리헨션 결과: [3, 6]\n"
     ]
    }
   ],
   "source": [
    "# 1. 먼저 빈 리스트 생성\n",
    "pos = []\n",
    "\n",
    "# 2. 중첩 for문을 사용해서 값 추가\n",
    "for i in range(1, 4):\n",
    "    for j in range(1, 3):\n",
    "        pos.append(i * j)\n",
    "\n",
    "print(\"중첩 for문 결과:\", pos)\n",
    "\n",
    "# 3. 리스트 컴프리헨션 사용\n",
    "pos = [i * j for i in range(3, 4) for j in range(1, 3)]\n",
    "print(\"리스트 컴프리헨션 결과:\", pos)"
   ]
  },
  {
   "cell_type": "markdown",
   "id": "66669dc4-4f39-4002-be15-7d6fa823ede7",
   "metadata": {},
   "source": [
    "###  5) 중첩 List Comprehension"
   ]
  },
  {
   "cell_type": "code",
   "execution_count": 68,
   "id": "cd4f3b55-2a08-401a-8460-60aae0853e86",
   "metadata": {},
   "outputs": [
    {
     "name": "stdout",
     "output_type": "stream",
     "text": [
      "[[0, 0], [0, 0], [0, 0]]\n"
     ]
    }
   ],
   "source": [
    "# 2차원 배열 만들기\n",
    "\n",
    "result = [[0 for i in range(2)] for j in range(3)]\n",
    "print(result)"
   ]
  },
  {
   "cell_type": "code",
   "execution_count": null,
   "id": "0288b458-fd35-412b-8a40-67360b7e6782",
   "metadata": {},
   "outputs": [],
   "source": []
  }
 ],
 "metadata": {
  "kernelspec": {
   "display_name": "Python 3 (ipykernel)",
   "language": "python",
   "name": "python3"
  },
  "language_info": {
   "codemirror_mode": {
    "name": "ipython",
    "version": 3
   },
   "file_extension": ".py",
   "mimetype": "text/x-python",
   "name": "python",
   "nbconvert_exporter": "python",
   "pygments_lexer": "ipython3",
   "version": "3.13.5"
  }
 },
 "nbformat": 4,
 "nbformat_minor": 5
}
