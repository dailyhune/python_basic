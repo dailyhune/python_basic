{
 "cells": [
  {
   "cell_type": "markdown",
   "id": "61accc99-5f59-4d7a-b3b4-52def2050da9",
   "metadata": {},
   "source": [
    "# 1. 볼 자료형 은 어떤게 사용하는가"
   ]
  },
  {
   "cell_type": "code",
   "execution_count": 3,
   "id": "b3fc8bab-f4c5-46ef-a1bc-5c6d41dca9ff",
   "metadata": {},
   "outputs": [
    {
     "name": "stdout",
     "output_type": "stream",
     "text": [
      "True False\n"
     ]
    }
   ],
   "source": [
    "# 변수에 불 자료형지정\n",
    "a = True\n",
    "b = False\n",
    "print(a, b)"
   ]
  },
  {
   "cell_type": "code",
   "execution_count": 4,
   "id": "d73f48e8-ce8b-4faa-be0e-8e83d1a3fd5a",
   "metadata": {},
   "outputs": [
    {
     "data": {
      "text/plain": [
       "bool"
      ]
     },
     "execution_count": 4,
     "metadata": {},
     "output_type": "execute_result"
    }
   ],
   "source": [
    "type(a)"
   ]
  },
  {
   "cell_type": "code",
   "execution_count": 5,
   "id": "aaedc2a1-80f4-45fa-a57b-5adcff137fa5",
   "metadata": {},
   "outputs": [
    {
     "data": {
      "text/plain": [
       "True"
      ]
     },
     "execution_count": 5,
     "metadata": {},
     "output_type": "execute_result"
    }
   ],
   "source": [
    "# 웹 자료형은 조건문의 리터값으로 사용합니다.\n",
    "1 == 1"
   ]
  },
  {
   "cell_type": "code",
   "execution_count": 7,
   "id": "6b9d291f-0e5f-44f6-a4fc-b9d6f36a4d24",
   "metadata": {},
   "outputs": [
    {
     "data": {
      "text/plain": [
       "False"
      ]
     },
     "execution_count": 7,
     "metadata": {},
     "output_type": "execute_result"
    }
   ],
   "source": [
    "1==2"
   ]
  },
  {
   "cell_type": "code",
   "execution_count": 8,
   "id": "5234da4b-b541-4ace-bc3d-0b1ce4f88b4e",
   "metadata": {},
   "outputs": [
    {
     "data": {
      "text/plain": [
       "False"
      ]
     },
     "execution_count": 8,
     "metadata": {},
     "output_type": "execute_result"
    }
   ],
   "source": [
    "1>2"
   ]
  },
  {
   "cell_type": "markdown",
   "id": "76fc06c4-170d-4f05-9dea-03295e116d7f",
   "metadata": {},
   "source": [
    "# 자료형의 참과 거짓이 어덯게 스이는지 알아보자"
   ]
  },
  {
   "cell_type": "code",
   "execution_count": 10,
   "id": "fcae3376-db6c-4315-9305-d2c11b03bd8a",
   "metadata": {},
   "outputs": [
    {
     "name": "stdout",
     "output_type": "stream",
     "text": [
      "4\n",
      "3\n",
      "2\n",
      "1\n"
     ]
    }
   ],
   "source": [
    "a = [1,2,3,4,]\n",
    "while a:\n",
    "    print(a.pop())"
   ]
  },
  {
   "cell_type": "code",
   "execution_count": 11,
   "id": "b9b5d561-1170-4eeb-ba20-d5ffce8cf8a3",
   "metadata": {},
   "outputs": [
    {
     "data": {
      "text/plain": [
       "[]"
      ]
     },
     "execution_count": 11,
     "metadata": {},
     "output_type": "execute_result"
    }
   ],
   "source": [
    "a"
   ]
  },
  {
   "cell_type": "code",
   "execution_count": 12,
   "id": "8b17859b-f410-4a8f-9b24-334bb42b4111",
   "metadata": {},
   "outputs": [
    {
     "data": {
      "text/plain": [
       "False"
      ]
     },
     "execution_count": 12,
     "metadata": {},
     "output_type": "execute_result"
    }
   ],
   "source": [
    "bool(a)"
   ]
  },
  {
   "cell_type": "code",
   "execution_count": 13,
   "id": "11da8653-a80e-43c7-bf8e-ffac3da87284",
   "metadata": {},
   "outputs": [
    {
     "name": "stdout",
     "output_type": "stream",
     "text": [
      "거짓\n"
     ]
    }
   ],
   "source": [
    "if[]:\n",
    "    print('참')\n",
    "else:\n",
    "    print('거짓')"
   ]
  },
  {
   "cell_type": "code",
   "execution_count": 14,
   "id": "b43a7208-f552-4049-919d-ce27fd765b7d",
   "metadata": {},
   "outputs": [
    {
     "name": "stdout",
     "output_type": "stream",
     "text": [
      "참\n"
     ]
    }
   ],
   "source": [
    "if [1,2,3]:\n",
    "    print('참')\n",
    "else:\n",
    "    print('거짓')"
   ]
  },
  {
   "cell_type": "markdown",
   "id": "3af015a5-13ea-4473-8740-dc748a10a196",
   "metadata": {},
   "source": [
    "#  불 연산 =bool()"
   ]
  },
  {
   "cell_type": "code",
   "execution_count": 18,
   "id": "ae862ec3-6506-408d-ae6d-282a58a6f0aa",
   "metadata": {},
   "outputs": [
    {
     "name": "stdout",
     "output_type": "stream",
     "text": [
      "False\n",
      "True\n",
      "False\n",
      "True\n",
      "False\n",
      "True\n",
      "False\n",
      "True\n",
      "True\n",
      "True\n"
     ]
    }
   ],
   "source": [
    "print(bool(''))        # False — 빈 문자열\n",
    "print(bool('aaa'))     # True  — 비어있지 않은 문자열\n",
    "print(bool([]))        # False — 빈 리스트\n",
    "print(bool([1, 2]))    # True  — 요소가 있는 리스트\n",
    "print(bool({}))        # False — 빈 딕셔너리\n",
    "\n",
    "# 여기 오타 있음: ('a': 1'b'])는 문법 오류! 올바른 딕셔너리는 {'a': 1, 'b': 2} 같은 형태\n",
    "print(bool({'a': 1, 'b': 2}))  # True — 키-값 쌍이 있는 딕셔너리\n",
    "\n",
    "print(bool(0))         # False — 숫자 0은 False\n",
    "print(bool(1))         # True  — 0이 아닌 숫자는 True\n",
    "print(bool(-1))        # True  — 음수도 0이 아니므로 True\n",
    "print(bool(2.5))       # True  — 실수도 0.0이 아니면 True\n"
   ]
  }
 ],
 "metadata": {
  "kernelspec": {
   "display_name": "Python 3 (ipykernel)",
   "language": "python",
   "name": "python3"
  },
  "language_info": {
   "codemirror_mode": {
    "name": "ipython",
    "version": 3
   },
   "file_extension": ".py",
   "mimetype": "text/x-python",
   "name": "python",
   "nbconvert_exporter": "python",
   "pygments_lexer": "ipython3",
   "version": "3.13.5"
  }
 },
 "nbformat": 4,
 "nbformat_minor": 5
}
