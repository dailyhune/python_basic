{
 "cells": [
  {
   "cell_type": "markdown",
   "id": "e78563ae-4433-4037-b253-c45965ba8fba",
   "metadata": {},
   "source": [
    "# 1.파이썬의 입출력 "
   ]
  },
  {
   "cell_type": "markdown",
   "id": "d35b4fd7-95ad-4b93-9717-be5761b2ea73",
   "metadata": {},
   "source": [
    "### 사용자 입력\n",
    "\n",
    "우리들이 사용하는 대부분의 완성된 프로그램은 사용자 입력에 따라 그에 맞는 출력을 내보낸다. 대표적인 예로 게시판에 글을 작성한 후 \n",
    "[확인]버튼을 눌러야만(입력) 우리가 작성한 글이 게시판에 올라가는(출력) 것을 들 수 있다."
   ]
  },
  {
   "cell_type": "code",
   "execution_count": 2,
   "id": "dd182d63-2e42-4503-abb3-5f3df824a3a5",
   "metadata": {},
   "outputs": [
    {
     "name": "stdin",
     "output_type": "stream",
     "text": [
      " life is too short, you need python\n"
     ]
    }
   ],
   "source": [
    "a = input()"
   ]
  },
  {
   "cell_type": "code",
   "execution_count": 3,
   "id": "d10b1033-4391-4bbe-b62c-b0c5401578af",
   "metadata": {},
   "outputs": [
    {
     "data": {
      "text/plain": [
       "'life is too short, you need python'"
      ]
     },
     "execution_count": 3,
     "metadata": {},
     "output_type": "execute_result"
    }
   ],
   "source": [
    "a"
   ]
  },
  {
   "cell_type": "code",
   "execution_count": 4,
   "id": "c85655fb-e6a6-4d3a-9d5d-9cf39b65cf35",
   "metadata": {},
   "outputs": [
    {
     "name": "stdin",
     "output_type": "stream",
     "text": [
      " 3756\n"
     ]
    }
   ],
   "source": [
    "num = input()"
   ]
  },
  {
   "cell_type": "code",
   "execution_count": 5,
   "id": "c6a38807-78d2-4097-bf5f-bcd92b77698c",
   "metadata": {},
   "outputs": [
    {
     "name": "stdout",
     "output_type": "stream",
     "text": [
      "3756\n"
     ]
    }
   ],
   "source": [
    "print(num)"
   ]
  },
  {
   "cell_type": "code",
   "execution_count": 7,
   "id": "e164e9d3-4ddd-42cf-b793-722b7b00db7f",
   "metadata": {},
   "outputs": [
    {
     "data": {
      "text/plain": [
       "str"
      ]
     },
     "execution_count": 7,
     "metadata": {},
     "output_type": "execute_result"
    }
   ],
   "source": [
    "#input은 입력되는 모든 것을 문자열로 취급하기 때문에 number는 숫자가 아닌 문자열이라는 것에 주의하자.\n",
    "type(num)"
   ]
  },
  {
   "cell_type": "markdown",
   "id": "554fb345-4449-4810-a91b-a108d2bc3dfc",
   "metadata": {},
   "source": [
    "### 2) print() 자세히 알기 "
   ]
  },
  {
   "cell_type": "code",
   "execution_count": 8,
   "id": "17aeb84b-e581-4912-8784-e963b8df85f7",
   "metadata": {},
   "outputs": [
    {
     "name": "stdout",
     "output_type": "stream",
     "text": [
      "123\n",
      "python\n",
      "[1, 2, 3]\n"
     ]
    }
   ],
   "source": [
    "a = 123\n",
    "print(a)\n",
    "b = \"python\"\n",
    "print(b)\n",
    "c = [1,2,3]\n",
    "print(c)"
   ]
  },
  {
   "cell_type": "code",
   "execution_count": 9,
   "id": "8dd7456a-a718-4c48-b1d7-f0b86c77e9d3",
   "metadata": {},
   "outputs": [
    {
     "name": "stdout",
     "output_type": "stream",
     "text": [
      "lifeistoo short\n",
      "lifeistoo short\n",
      "lifeistoo short\n"
     ]
    }
   ],
   "source": [
    "# 문자열과 + 연산자로 출력\n",
    "print(\"life\"\"is\"\"too short\")\n",
    "print(\"life\"+\"is\"+\"too short\")\n",
    "print('life''is''too short')"
   ]
  },
  {
   "cell_type": "code",
   "execution_count": 10,
   "id": "d216b06a-a040-4971-8bd5-4c755b7b776d",
   "metadata": {},
   "outputs": [
    {
     "name": "stdout",
     "output_type": "stream",
     "text": [
      "life is too short\n"
     ]
    }
   ],
   "source": [
    "# 문자열 띄어쓰기는 쉼표로\n",
    "print(\"life\",\"is\",\"too short\")"
   ]
  },
  {
   "cell_type": "code",
   "execution_count": 11,
   "id": "2f5e8244-f8d1-4eef-b986-905aa9ceb5d6",
   "metadata": {},
   "outputs": [
    {
     "name": "stdout",
     "output_type": "stream",
     "text": [
      "0\n",
      "1\n",
      "2\n",
      "3\n",
      "4\n",
      "5\n",
      "6\n",
      "7\n",
      "8\n",
      "9\n"
     ]
    }
   ],
   "source": [
    "for i in range(10):\n",
    "    print(i)"
   ]
  },
  {
   "cell_type": "code",
   "execution_count": 12,
   "id": "2c708702-fd2f-4e31-8bcc-c4a95af651d3",
   "metadata": {},
   "outputs": [],
   "source": [
    "# 한줄에 값 출력하는법"
   ]
  },
  {
   "cell_type": "code",
   "execution_count": 13,
   "id": "a629d691-53fe-41b7-a3c6-8e5d34463b4e",
   "metadata": {},
   "outputs": [
    {
     "name": "stdout",
     "output_type": "stream",
     "text": [
      "0 1 2 3 4 5 6 7 8 9 "
     ]
    }
   ],
   "source": [
    "for i in range(10):\n",
    "    print(i, end=' ')"
   ]
  },
  {
   "cell_type": "markdown",
   "id": "78a6592e-cdd0-4a29-8985-f3326a4fd351",
   "metadata": {},
   "source": [
    "## 2. 파일 읽고 쓰기"
   ]
  },
  {
   "cell_type": "markdown",
   "id": "781b7c3e-f089-455d-86e2-f12fb5eb4451",
   "metadata": {},
   "source": [
    "###  1) 파일 생성하기"
   ]
  },
  {
   "cell_type": "code",
   "execution_count": 16,
   "id": "1b5a3a01-38cf-40f8-a9c5-4410ac4e3422",
   "metadata": {},
   "outputs": [],
   "source": [
    "f = open('newfile.txt', 'w')"
   ]
  },
  {
   "cell_type": "code",
   "execution_count": 17,
   "id": "092611e9-723c-4da5-92e6-21b42f487ebc",
   "metadata": {},
   "outputs": [],
   "source": [
    "f. close()"
   ]
  },
  {
   "cell_type": "code",
   "execution_count": 19,
   "id": "f349fafc-5456-4c07-b7e5-29abd116b8bd",
   "metadata": {},
   "outputs": [],
   "source": [
    "#특정 결로에서 파일 생성\n",
    "f = open('C:/Users/WD/python baisc/newfile2.txt', 'w')"
   ]
  },
  {
   "cell_type": "code",
   "execution_count": 20,
   "id": "58957dab-68ce-4487-8704-ac58d16e8c4a",
   "metadata": {},
   "outputs": [],
   "source": [
    "f.close()"
   ]
  },
  {
   "cell_type": "markdown",
   "id": "ee011bd3-37c5-45d8-bc9c-a379971ca404",
   "metadata": {},
   "source": [
    "### 2)파일을 쓰기모드로 열어서 내용 쓰기"
   ]
  },
  {
   "cell_type": "code",
   "execution_count": 22,
   "id": "76e4c536-d53d-4e8b-bd38-9ce3dd746159",
   "metadata": {},
   "outputs": [],
   "source": [
    "f = open('newfile.txt', 'w')\n",
    "for i in range(1, 11):\n",
    "    data = f\"{i}번째 중입니다.\\n\"\n",
    "    f.write(data)\n",
    "f.close()\n"
   ]
  },
  {
   "cell_type": "markdown",
   "id": "ba2bb960-22e5-4b99-83cf-c5f4f10d5d33",
   "metadata": {},
   "source": [
    "### 3)파일읽는 여러가지 방법"
   ]
  },
  {
   "cell_type": "code",
   "execution_count": 24,
   "id": "d88dfc7b-581f-4f60-9844-e6c3c2f0b8d9",
   "metadata": {},
   "outputs": [
    {
     "name": "stdout",
     "output_type": "stream",
     "text": [
      "1번째 중입니다.\n",
      "\n"
     ]
    }
   ],
   "source": [
    "f = open('newfile.txt', 'r')\n",
    "line = f.readline()\n",
    "print(line)\n",
    "f.close()"
   ]
  },
  {
   "cell_type": "code",
   "execution_count": 26,
   "id": "9e00fc1d-189b-42fc-8d42-ecad74c27cc2",
   "metadata": {},
   "outputs": [
    {
     "name": "stdout",
     "output_type": "stream",
     "text": [
      "1번째 중입니다.\n",
      "\n",
      "2번째 중입니다.\n",
      "\n",
      "3번째 중입니다.\n",
      "\n",
      "4번째 중입니다.\n",
      "\n",
      "5번째 중입니다.\n",
      "\n",
      "6번째 중입니다.\n",
      "\n",
      "7번째 중입니다.\n",
      "\n",
      "8번째 중입니다.\n",
      "\n",
      "9번째 중입니다.\n",
      "\n",
      "10번째 중입니다.\n",
      "\n"
     ]
    }
   ],
   "source": [
    "#read line으로 여러줄 읽기\n",
    "f = open('newfile.txt' , 'r')\n",
    "while True:\n",
    "    line = f.readline()\n",
    "    if not line:\n",
    "        break\n",
    "    print(line)\n",
    "f.close()"
   ]
  },
  {
   "cell_type": "code",
   "execution_count": 27,
   "id": "cc2204db-d815-4c94-a83f-e31d804cf3d6",
   "metadata": {},
   "outputs": [
    {
     "name": "stdin",
     "output_type": "stream",
     "text": [
      "  a\n",
      " a\n",
      "  b\n",
      " b\n",
      "  \n",
      " c\n",
      " \n"
     ]
    }
   ],
   "source": [
    "# 사용자 입력을 받아서 여러줄 입력하기\n",
    "while True:\n",
    "    data = input()\n",
    "    if not data:\n",
    "        break\n",
    "        print(data)"
   ]
  },
  {
   "cell_type": "code",
   "execution_count": 29,
   "id": "f3d1d98c-e29f-4ac3-991c-c3fb174d4c1f",
   "metadata": {},
   "outputs": [
    {
     "name": "stdout",
     "output_type": "stream",
     "text": [
      "1번째 중입니다.\n",
      "\n",
      "2번째 중입니다.\n",
      "\n",
      "3번째 중입니다.\n",
      "\n",
      "4번째 중입니다.\n",
      "\n",
      "5번째 중입니다.\n",
      "\n",
      "6번째 중입니다.\n",
      "\n",
      "7번째 중입니다.\n",
      "\n",
      "8번째 중입니다.\n",
      "\n",
      "9번째 중입니다.\n",
      "\n",
      "10번째 중입니다.\n",
      "\n"
     ]
    }
   ],
   "source": [
    "# 여러줄 읽는 readiline() 함수 사용하기\n",
    "f = open('newfile.txt' , 'r')\n",
    "lines = f.readlines()\n",
    "for line in lines:\n",
    "    print(line)\n",
    "f.close()"
   ]
  },
  {
   "cell_type": "code",
   "execution_count": 30,
   "id": "88c6cd11-e87f-4db9-8a8e-1b341bdde344",
   "metadata": {},
   "outputs": [
    {
     "name": "stdout",
     "output_type": "stream",
     "text": [
      "['1번째 중입니다.\\n', '2번째 중입니다.\\n', '3번째 중입니다.\\n', '4번째 중입니다.\\n', '5번째 중입니다.\\n', '6번째 중입니다.\\n', '7번째 중입니다.\\n', '8번째 중입니다.\\n', '9번째 중입니다.\\n', '10번째 중입니다.\\n']\n",
      "--------------------------------------------------\n",
      "1번째 중입니다.\n",
      "\n",
      "2번째 중입니다.\n",
      "\n",
      "3번째 중입니다.\n",
      "\n",
      "4번째 중입니다.\n",
      "\n",
      "5번째 중입니다.\n",
      "\n",
      "6번째 중입니다.\n",
      "\n",
      "7번째 중입니다.\n",
      "\n",
      "8번째 중입니다.\n",
      "\n",
      "9번째 중입니다.\n",
      "\n",
      "10번째 중입니다.\n",
      "\n"
     ]
    }
   ],
   "source": [
    "# 여러줄 읽는 readiline() 함수 사용하기\n",
    "f = open('newfile.txt' , 'r')\n",
    "lines = f.readlines()\n",
    "print(lines)\n",
    "print('-'*50)\n",
    "for line in lines:\n",
    "    print(line)\n",
    "f.close()"
   ]
  },
  {
   "cell_type": "code",
   "execution_count": 31,
   "id": "83822f1c-0da5-450a-a913-ea8777f2149f",
   "metadata": {},
   "outputs": [
    {
     "name": "stdout",
     "output_type": "stream",
     "text": [
      "1번째 중입니다.\n",
      "2번째 중입니다.\n",
      "3번째 중입니다.\n",
      "4번째 중입니다.\n",
      "5번째 중입니다.\n",
      "6번째 중입니다.\n",
      "7번째 중입니다.\n",
      "8번째 중입니다.\n",
      "9번째 중입니다.\n",
      "10번째 중입니다.\n"
     ]
    }
   ],
   "source": [
    "# 줄바꿈(\\n)문자 제거하기\n",
    "f = open('newfile.txt', 'r')\n",
    "lines = f.readlines()\n",
    "for line in lines:\n",
    "    line = line.strip()\n",
    "    print(line)\n",
    "f.close()"
   ]
  },
  {
   "cell_type": "code",
   "execution_count": 32,
   "id": "37efd7dd-39bc-468c-9ab5-9012862b598c",
   "metadata": {},
   "outputs": [
    {
     "name": "stdout",
     "output_type": "stream",
     "text": [
      "1번째 중입니다.\n",
      "2번째 중입니다.\n",
      "3번째 중입니다.\n",
      "4번째 중입니다.\n",
      "5번째 중입니다.\n",
      "6번째 중입니다.\n",
      "7번째 중입니다.\n",
      "8번째 중입니다.\n",
      "9번째 중입니다.\n",
      "10번째 중입니다.\n",
      "\n"
     ]
    }
   ],
   "source": [
    "f = open('newfile.txt', 'r')\n",
    "data = f.read()\n",
    "print(data)\n",
    "f.close()"
   ]
  },
  {
   "cell_type": "code",
   "execution_count": 33,
   "id": "7fc98f7b-4cd2-4c2b-b7e5-d6b7869da7fb",
   "metadata": {},
   "outputs": [
    {
     "name": "stdout",
     "output_type": "stream",
     "text": [
      "1번째 중입니다.\n",
      "\n",
      "2번째 중입니다.\n",
      "\n",
      "3번째 중입니다.\n",
      "\n",
      "4번째 중입니다.\n",
      "\n",
      "5번째 중입니다.\n",
      "\n",
      "6번째 중입니다.\n",
      "\n",
      "7번째 중입니다.\n",
      "\n",
      "8번째 중입니다.\n",
      "\n",
      "9번째 중입니다.\n",
      "\n",
      "10번째 중입니다.\n",
      "\n"
     ]
    }
   ],
   "source": [
    "# 파일 객체를 for문으로 줄단위로 읽기\n",
    "f = open('newfile.txt','r')\n",
    "for line in f:\n",
    "    print(line)\n",
    "f.close()"
   ]
  },
  {
   "cell_type": "markdown",
   "id": "7c7a2d48-1d0a-4a98-845e-169fc7c2b7c7",
   "metadata": {},
   "source": [
    "### 4.파일에 새로운 내용 추가하기"
   ]
  },
  {
   "cell_type": "code",
   "execution_count": 35,
   "id": "5cbb2387-77bc-4306-b91c-06a2be065067",
   "metadata": {},
   "outputs": [],
   "source": [
    "f = open('newfile.txt','a')\n",
    "for i in range(11, 20):\n",
    "    data = f\"{i}번째 줄을 추가합니다.\\n\"\n",
    "    f.write(data)\n",
    "f.close()"
   ]
  },
  {
   "cell_type": "markdown",
   "id": "96a385a0-0404-4fe0-9fc2-55a6a3c0e0bb",
   "metadata": {},
   "source": [
    "### 5) with문과 함께 사용하기"
   ]
  },
  {
   "cell_type": "code",
   "execution_count": 36,
   "id": "82376828-532d-4262-9db6-55aacddeddb2",
   "metadata": {},
   "outputs": [],
   "source": [
    "with open('foo.txt', 'w') as f:\n",
    "    f.write(\"Life is too short, you need python!\")"
   ]
  },
  {
   "cell_type": "code",
   "execution_count": null,
   "id": "ba46910a-029e-4e5f-a76d-7e30bbfb00d9",
   "metadata": {},
   "outputs": [],
   "source": []
  }
 ],
 "metadata": {
  "kernelspec": {
   "display_name": "Python 3 (ipykernel)",
   "language": "python",
   "name": "python3"
  },
  "language_info": {
   "codemirror_mode": {
    "name": "ipython",
    "version": 3
   },
   "file_extension": ".py",
   "mimetype": "text/x-python",
   "name": "python",
   "nbconvert_exporter": "python",
   "pygments_lexer": "ipython3",
   "version": "3.13.5"
  }
 },
 "nbformat": 4,
 "nbformat_minor": 5
}
