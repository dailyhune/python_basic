{
 "cells": [
  {
   "cell_type": "markdown",
   "id": "cf77ec41-5973-44b4-8c5a-ed525e39b37a",
   "metadata": {},
   "source": [
    "## 1.while문"
   ]
  },
  {
   "cell_type": "code",
   "execution_count": 5,
   "id": "6f30490d-95f8-4ede-b26b-8a7d5f5675d1",
   "metadata": {},
   "outputs": [
    {
     "ename": "SyntaxError",
     "evalue": "expected ':' (250879932.py, line 6)",
     "output_type": "error",
     "traceback": [
      "\u001b[1;36m  Cell \u001b[1;32mIn[5], line 6\u001b[1;36m\u001b[0m\n\u001b[1;33m    if TreeHit == 10\u001b[0m\n\u001b[1;37m                     ^\u001b[0m\n\u001b[1;31mSyntaxError\u001b[0m\u001b[1;31m:\u001b[0m expected ':'\n"
     ]
    }
   ],
   "source": [
    "treeHit = 0\n",
    "\n",
    "while treeHit<10:\n",
    "    treeHit += 1 # treeHIT - treeHit +1\n",
    "    print('나무를 %d번 찍었습니다.'%treeHit)\n",
    "    if TreeHit == 10 \n",
    "    print (\"나무가 넘어갑니다.\""
   ]
  },
  {
   "cell_type": "code",
   "execution_count": 4,
   "id": "eb9bebb3-0ffe-4e3a-81b3-4c086ef50153",
   "metadata": {},
   "outputs": [
    {
     "name": "stdout",
     "output_type": "stream",
     "text": [
      "나무를 1번 찍었습니다.\n",
      "나무를 2번 찍었습니다.\n",
      "나무를 3번 찍었습니다.\n",
      "나무를 4번 찍었습니다.\n",
      "나무를 5번 찍었습니다.\n",
      "나무를 6번 찍었습니다.\n",
      "나무를 7번 찍었습니다.\n",
      "나무를 8번 찍었습니다.\n",
      "나무를 9번 찍었습니다.\n",
      "나무를 10번 찍었습니다.\n",
      "나무가 넘어갑니다.\n"
     ]
    }
   ],
   "source": [
    "treeHit = 0\n",
    "\n",
    "while treeHit < 10:\n",
    "    treeHit += 1  # treeHit + 1\n",
    "    print('나무를 %d번 찍었습니다.' % treeHit)\n",
    "    if treeHit == 10:\n",
    "        print(\"나무가 넘어갑니다.\")\n"
   ]
  },
  {
   "cell_type": "code",
   "execution_count": 6,
   "id": "27778596-35e0-476b-b196-e97d6e34c344",
   "metadata": {},
   "outputs": [],
   "source": [
    "prompt = \"\"\"\n",
    "1. Add\n",
    "2. Del\n",
    "3. List\n",
    "4. Quit\n",
    "\n",
    "Enter number : \"\"\"\n",
    "\n"
   ]
  },
  {
   "cell_type": "code",
   "execution_count": 7,
   "id": "a5f988d3-7132-4207-9445-e83c42d01ef5",
   "metadata": {},
   "outputs": [
    {
     "name": "stdout",
     "output_type": "stream",
     "text": [
      "\n",
      "1. Add\n",
      "2. Del\n",
      "3. List\n",
      "4. Quit\n",
      "\n",
      "Enter number : \n"
     ]
    },
    {
     "name": "stdin",
     "output_type": "stream",
     "text": [
      " 1\n"
     ]
    },
    {
     "name": "stdout",
     "output_type": "stream",
     "text": [
      "\n",
      "1. Add\n",
      "2. Del\n",
      "3. List\n",
      "4. Quit\n",
      "\n",
      "Enter number : \n"
     ]
    },
    {
     "name": "stdin",
     "output_type": "stream",
     "text": [
      " 2\n"
     ]
    },
    {
     "name": "stdout",
     "output_type": "stream",
     "text": [
      "\n",
      "1. Add\n",
      "2. Del\n",
      "3. List\n",
      "4. Quit\n",
      "\n",
      "Enter number : \n"
     ]
    },
    {
     "name": "stdin",
     "output_type": "stream",
     "text": [
      " 3\n"
     ]
    },
    {
     "name": "stdout",
     "output_type": "stream",
     "text": [
      "\n",
      "1. Add\n",
      "2. Del\n",
      "3. List\n",
      "4. Quit\n",
      "\n",
      "Enter number : \n"
     ]
    },
    {
     "name": "stdin",
     "output_type": "stream",
     "text": [
      " 4\n"
     ]
    }
   ],
   "source": [
    "number = 0\n",
    "while number !=4:\n",
    "    print(prompt)\n",
    "    number = int(input())"
   ]
  },
  {
   "cell_type": "code",
   "execution_count": 9,
   "id": "b0752c40-1dc2-4c1e-b533-16e8b5451dab",
   "metadata": {},
   "outputs": [
    {
     "ename": "SyntaxError",
     "evalue": "invalid syntax (312569384.py, line 9)",
     "output_type": "error",
     "traceback": [
      "\u001b[1;36m  Cell \u001b[1;32mIn[9], line 9\u001b[1;36m\u001b[0m\n\u001b[1;33m    print(\"남은 커피의 양은 %d개입니다\". % coffee)\u001b[0m\n\u001b[1;37m                              ^\u001b[0m\n\u001b[1;31mSyntaxError\u001b[0m\u001b[1;31m:\u001b[0m invalid syntax\n"
     ]
    }
   ],
   "source": [
    "# break문 : while문 강제로 빠져나가기\n",
    "\n",
    "coffe = 10\n",
    "money = 300\n",
    "\n",
    "while money:\n",
    "    print(\"돈을 받았으니 커피를 줍니다.\")\n",
    "    coffee =- 1\n",
    "    print(\"남은 커피의 양은 %d개입니다\". % coffee)\n",
    "    if coffee ==0:\n",
    "        print(\"커피가 다 떨어졌습니다. 판매를 중지합니다.\")\n",
    "              break"
   ]
  },
  {
   "cell_type": "code",
   "execution_count": 10,
   "id": "af5fd600-2a9a-482f-b85c-5be6f1ef8f9f",
   "metadata": {},
   "outputs": [
    {
     "name": "stdout",
     "output_type": "stream",
     "text": [
      "돈을 받았으니 커피를 줍니다.\n",
      "남은 커피의 양은 9개입니다.\n",
      "돈을 받았으니 커피를 줍니다.\n",
      "남은 커피의 양은 8개입니다.\n",
      "돈을 받았으니 커피를 줍니다.\n",
      "남은 커피의 양은 7개입니다.\n",
      "돈을 받았으니 커피를 줍니다.\n",
      "남은 커피의 양은 6개입니다.\n",
      "돈을 받았으니 커피를 줍니다.\n",
      "남은 커피의 양은 5개입니다.\n",
      "돈을 받았으니 커피를 줍니다.\n",
      "남은 커피의 양은 4개입니다.\n",
      "돈을 받았으니 커피를 줍니다.\n",
      "남은 커피의 양은 3개입니다.\n",
      "돈을 받았으니 커피를 줍니다.\n",
      "남은 커피의 양은 2개입니다.\n",
      "돈을 받았으니 커피를 줍니다.\n",
      "남은 커피의 양은 1개입니다.\n",
      "돈을 받았으니 커피를 줍니다.\n",
      "남은 커피의 양은 0개입니다.\n",
      "커피가 다 떨어졌습니다. 판매를 중지합니다.\n"
     ]
    }
   ],
   "source": [
    "coffee = 10\n",
    "money = 300\n",
    "\n",
    "while money:\n",
    "    print(\"돈을 받았으니 커피를 줍니다.\")\n",
    "    coffee -= 1  # coffee =- 1 ➜ coffee -= 1\n",
    "    print(\"남은 커피의 양은 %d개입니다.\" % coffee)  # 문법 오류 수정\n",
    "    if coffee == 0:\n",
    "        print(\"커피가 다 떨어졌습니다. 판매를 중지합니다.\")\n",
    "        break  # 들여쓰기 오류 수정\n"
   ]
  },
  {
   "cell_type": "code",
   "execution_count": 11,
   "id": "1087f509-fd41-4016-adeb-9eb242cf2441",
   "metadata": {},
   "outputs": [
    {
     "ename": "SyntaxError",
     "evalue": "'(' was never closed (606976075.py, line 4)",
     "output_type": "error",
     "traceback": [
      "\u001b[1;36m  Cell \u001b[1;32mIn[11], line 4\u001b[1;36m\u001b[0m\n\u001b[1;33m    money = int(input(\"돈을 넣어 주세요 :\")\u001b[0m\n\u001b[1;37m               ^\u001b[0m\n\u001b[1;31mSyntaxError\u001b[0m\u001b[1;31m:\u001b[0m '(' was never closed\n"
     ]
    }
   ],
   "source": [
    "coffee = 10\n",
    "\n",
    "while True:\n",
    "    money = int(input(\"돈을 넣어 주세요 :\")\n",
    "\n",
    "        if money == 300:\n",
    "        print(\"커피를 줍니다.\")\n",
    "        coffee -= 1\n",
    "     elif money >= 300:\n",
    "         print(\"거스름돈 %d을 주고 커피를 줍니다.\"%money -300)\n",
    "        coffee -= 1\n",
    "else:\n",
    "    print(\"돈을 다시 돌려주고 커피를 주지 않습니다.\")\n",
    "          print(\"남은커피의 양은 %d 개 입니다.\"%coffee)\n",
    "    if coffee== 0:\n",
    "        print(\"커피가 다 덜어졌습니다. 판매를 종료합니다.\")\n",
    "            break"
   ]
  },
  {
   "cell_type": "code",
   "execution_count": null,
   "id": "bcc5ef00-9994-4d2c-8762-6104dcdf7cf1",
   "metadata": {},
   "outputs": [],
   "source": [
    "coffee = 10\n",
    "\n",
    "while True:\n",
    "\n",
    "    money = int(input(\"돈을 넣어 주세요: \"))\n",
    "\n",
    "    if money == 300:\n",
    "\n",
    "        print(\"커피를 줍니다.\")\n",
    "\n",
    "        coffee -=  1\n",
    "\n",
    "    elif money > 300:\n",
    "\n",
    "        print(\"거스름돈 %d를 주고 커피를 줍니다.\" % (money -300))\n",
    "\n",
    "        coffee -=  1\n",
    "\n",
    "    else:\n",
    "\n",
    "        print(\"돈을 다시 돌려주고 커피를 주지 않습니다.\")\n",
    "\n",
    "        print(\"남은 커피의 양은 %d개 입니다.\" % coffee)\n",
    "\n",
    "    if coffee == 0:\n",
    "\n",
    "        print(\"커피가 다 떨어졌습니다. 판매를 중지 합니다.\")\n",
    "\n",
    "        break"
   ]
  },
  {
   "cell_type": "code",
   "execution_count": null,
   "id": "67ba0ead-bf19-4f80-9d1b-b3035db1196a",
   "metadata": {},
   "outputs": [],
   "source": [
    "a = 0\n",
    "while a<10;\n",
    "a += 1\n",
    "if a % 2 == 0: continue\n",
    "print(a)"
   ]
  }
 ],
 "metadata": {
  "kernelspec": {
   "display_name": "Python 3 (ipykernel)",
   "language": "python",
   "name": "python3"
  },
  "language_info": {
   "codemirror_mode": {
    "name": "ipython",
    "version": 3
   },
   "file_extension": ".py",
   "mimetype": "text/x-python",
   "name": "python",
   "nbconvert_exporter": "python",
   "pygments_lexer": "ipython3",
   "version": "3.13.5"
  }
 },
 "nbformat": 4,
 "nbformat_minor": 5
}
