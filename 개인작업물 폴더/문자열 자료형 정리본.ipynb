{
 "cells": [
  {
   "cell_type": "markdown",
   "id": "043b04ba-ffb1-48a9-8974-d46b1bbc26c4",
   "metadata": {},
   "source": [
    "# 문자열 만들기와 사용하기"
   ]
  },
  {
   "cell_type": "code",
   "execution_count": null,
   "id": "b1c9b71e-8833-45ce-baa4-480c0a4e255f",
   "metadata": {},
   "outputs": [],
   "source": [
    "# 큰따옴표 또는 작은따옴표로 문자열 생성\n",
    "\"Hello World\"\n",
    "'Hello World'\n",
    "\n",
    "# 큰따옴표 3개로 감싸서 여러 줄 문자열 생성\n",
    "\"\"\"Life is too short, You need python\"\"\"\n",
    "# 작은따옴표 3개로 감싸서 여러 줄 문자열 생성\n",
    "'''Life is too short, You need python'''"
   ]
  },
  {
   "cell_type": "markdown",
   "id": "0fa4ae98-6f04-4aa5-baa6-dc3f1f96a22b",
   "metadata": {},
   "source": [
    "# 문자열 안에 따옴표 포함시키기"
   ]
  },
  {
   "cell_type": "code",
   "execution_count": null,
   "id": "1b2a82b6-64b7-4cdb-8659-38219a2e1c14",
   "metadata": {},
   "outputs": [],
   "source": [
    "# 문자열 안에 작은따옴표 포함할 때는 큰따옴표로 감싸면 안전\n",
    "food = \"Python's favorite food is perl\"\n",
    "\n",
    "# 작은따옴표 안에 작은따옴표를 쓰면 에러 발생\n",
    "# food = 'Python's favorite food is perl'  # ❌ 문법 오류\n",
    "\n",
    "# 큰따옴표를 포함할 땐 작은따옴표로 감싸기\n",
    "say = '\"Python is very easy.\" he says.'\n",
    "\n",
    "# 역슬래시(\\)로 따옴표 이스케이프 처리\n",
    "food = 'Python\\'s favorite food is perl'\n",
    "say = \"\\\"Python is very easy.\\\" he says.\""
   ]
  },
  {
   "cell_type": "markdown",
   "id": "16438d59-9141-4b9f-8a46-b95dc1ec82ec",
   "metadata": {},
   "source": [
    "# 여러 줄 문자열 저장하기"
   ]
  },
  {
   "cell_type": "code",
   "execution_count": 1,
   "id": "a2327f75-8be8-46a0-952d-acd6acfb6b28",
   "metadata": {},
   "outputs": [
    {
     "name": "stdout",
     "output_type": "stream",
     "text": [
      "Life is too short\n",
      "You need python\n",
      "\n",
      "Life is too short\n",
      "You need python\n",
      "\n",
      "\n",
      "Life is too short\n",
      "You need python\n",
      "\n"
     ]
    }
   ],
   "source": [
    "# \\n 사용해 줄 바꾸기\n",
    "multiline = \"Life is too short\\nYou need python\"\n",
    "print(multiline)\n",
    "\n",
    "# 작은따옴표 3개를 사용해 여러 줄 입력\n",
    "multiline = '''\n",
    "Life is too short\n",
    "You need python\n",
    "'''\n",
    "print(multiline)\n",
    "\n",
    "# 큰따옴표 3개도 동일한 기능\n",
    "multiline = \"\"\"\n",
    "Life is too short\n",
    "You need python\n",
    "\"\"\"\n",
    "print(multiline)"
   ]
  },
  {
   "cell_type": "markdown",
   "id": "96a2fb7b-519e-41b0-afae-3e736f8e7d4f",
   "metadata": {},
   "source": [
    "# 문자열 연산"
   ]
  },
  {
   "cell_type": "code",
   "execution_count": 2,
   "id": "60acd119-ed6c-420f-b4f0-8f0fe3d7a19a",
   "metadata": {},
   "outputs": [
    {
     "name": "stdout",
     "output_type": "stream",
     "text": [
      "==================================================\n",
      "My Program\n",
      "==================================================\n"
     ]
    }
   ],
   "source": [
    "# 문자열 덧셈 (이어 붙이기)\n",
    "head = \"Python\"\n",
    "tail = \" is fun!\"\n",
    "head + tail   # 'Python is fun!'\n",
    "\n",
    "# 문자열 곱셈 (반복)\n",
    "a = \"python\"\n",
    "a * 2         # 'pythonpython'\n",
    "\n",
    "# 곱셈을 활용한 출력 예\n",
    "print(\"=\" * 50)\n",
    "print(\"My Program\")\n",
    "print(\"=\" * 50)"
   ]
  },
  {
   "cell_type": "markdown",
   "id": "449db1fa-9853-452e-836e-dbbb1982b2fa",
   "metadata": {},
   "source": [
    "# 문자열 길이 구하기"
   ]
  },
  {
   "cell_type": "code",
   "execution_count": 3,
   "id": "57906205-bdad-44e6-9ca3-7c56abf78da3",
   "metadata": {},
   "outputs": [
    {
     "data": {
      "text/plain": [
       "17"
      ]
     },
     "execution_count": 3,
     "metadata": {},
     "output_type": "execute_result"
    }
   ],
   "source": [
    "a = \"Life is too short\"\n",
    "len(a)        # 17"
   ]
  },
  {
   "cell_type": "markdown",
   "id": "5945616d-6fcd-4df7-b688-21eff224a9c1",
   "metadata": {},
   "source": [
    "# 문자열 인덱싱(요소 하나접근)"
   ]
  },
  {
   "cell_type": "code",
   "execution_count": 4,
   "id": "2271c75d-f0ca-4cda-8206-cd9459623384",
   "metadata": {},
   "outputs": [
    {
     "data": {
      "text/plain": [
       "'y'"
      ]
     },
     "execution_count": 4,
     "metadata": {},
     "output_type": "execute_result"
    }
   ],
   "source": [
    "a = \"Life is too short, You need Python\"\n",
    "\n",
    "a[3]      # 'e'\n",
    "a[0]      # 'L'\n",
    "a[12]     # 's'\n",
    "a[-1]     # 'n' (맨 마지막 문자)\n",
    "a[-0]     # 'L' (-0은 0과 동일)\n",
    "a[-2]     # 'o'\n",
    "a[-5]     # 's'"
   ]
  },
  {
   "cell_type": "markdown",
   "id": "99877ff8-dedb-45ec-a359-adf512b3caeb",
   "metadata": {},
   "source": [
    "# 문자열 슬라이싱 (무자열 일부 추출)"
   ]
  },
  {
   "cell_type": "code",
   "execution_count": 5,
   "id": "744397f5-6872-4e9d-aa9e-0cc42693bc17",
   "metadata": {},
   "outputs": [
    {
     "data": {
      "text/plain": [
       "'You need'"
      ]
     },
     "execution_count": 5,
     "metadata": {},
     "output_type": "execute_result"
    }
   ],
   "source": [
    "a = \"Life is too short, You need Python\"\n",
    "\n",
    "# 문자열 연결을 직접 할 수도 있음\n",
    "b = a[0] + a[1] + a[2] + a[3]   # 'Life'\n",
    "a[0:4]      # 'Life'\n",
    "a[0:3]      # 'Lif'\n",
    "a[0:5]      # 'Life '\n",
    "a[5:7]      # 'is'\n",
    "a[12:17]    # 'short'\n",
    "a[19:]      # 'You need Python' (19부터 끝까지)\n",
    "a[:17]      # 'Life is too short'\n",
    "a[:]        # 전체 복사\n",
    "a[19:-7]    # 'You need' (음수 인덱스 사용)"
   ]
  },
  {
   "cell_type": "markdown",
   "id": "0a893940-5d3e-4597-a97d-0ad3c6de50ee",
   "metadata": {},
   "source": [
    "# 문자열 분리 에시"
   ]
  },
  {
   "cell_type": "code",
   "execution_count": 6,
   "id": "f32bfba2-2c42-42d7-953a-7bc65884052b",
   "metadata": {},
   "outputs": [
    {
     "name": "stdout",
     "output_type": "stream",
     "text": [
      "20230331\n",
      "Rainy\n"
     ]
    }
   ],
   "source": [
    "a = \"20230331Rainy\"\n",
    "date = a[:8]        # 날짜 부분: '20230331'\n",
    "weather = a[8:]     # 날씨 부분: 'Rainy'\n",
    "print(date)\n",
    "print(weather)\n",
    "\n",
    "year = a[:4]        # 연도: '2023'\n",
    "day = a[4:8]        # 월일: '0331'\n"
   ]
  },
  {
   "cell_type": "markdown",
   "id": "43ee4a1f-83b7-4b95-8ac0-3fff217285da",
   "metadata": {},
   "source": [
    "# 문자열은 불변(immutable)"
   ]
  },
  {
   "cell_type": "code",
   "execution_count": 7,
   "id": "abb68248-5e6f-4f09-be73-46bfb46275c6",
   "metadata": {},
   "outputs": [],
   "source": [
    "a = \"Pithon\"\n",
    "\n",
    "# a[1] = 'y'  ❌ 문자열은 변경 불가 → 오류 발생\n",
    "\n",
    "# 대체하려면 슬라이싱 + 이어붙이기로 새 문자열 생성\n",
    "b = a[:1] + 'y' + a[2:]  # 'Python'\n"
   ]
  },
  {
   "cell_type": "markdown",
   "id": "3574d3c9-3517-47bc-8069-ec5dba89e09f",
   "metadata": {},
   "source": [
    "# 문자열 포메팅(구식방식:%사용)"
   ]
  },
  {
   "cell_type": "code",
   "execution_count": 8,
   "id": "bb929538-f3ab-4e9c-a765-03bafa8aab28",
   "metadata": {},
   "outputs": [
    {
     "data": {
      "text/plain": [
       "'Error is 98%.'"
      ]
     },
     "execution_count": 8,
     "metadata": {},
     "output_type": "execute_result"
    }
   ],
   "source": [
    "# 숫자 직접 대입\n",
    "\"I eat %d apples.\" % 3\n",
    "\n",
    "# 문자열 직접 대입\n",
    "\"I eat %s apples.\" % \"five\"\n",
    "\n",
    "# 변수 사용\n",
    "number = 3\n",
    "\"I eat %d apples.\" % number\n",
    "\n",
    "# 여러 개 값 넣기\n",
    "number = 10\n",
    "day = \"three\"\n",
    "\"I ate %d apples. so I was sick for %s days.\" % (number, day)\n",
    "\n",
    "# %s는 어떤 타입도 넣을 수 있음\n",
    "\"I have %s apples.\" % 3\n",
    "\"rate is %s\" % 3.234\n",
    "\n",
    "# % 기호 출력: %% 사용\n",
    "\"Error is %d%%.\" % 98\n"
   ]
  },
  {
   "cell_type": "markdown",
   "id": "c0f73de6-6f3c-498e-b2ab-b91aad2ea5e3",
   "metadata": {},
   "source": [
    "# 포메팅: 정렬과 소수점"
   ]
  },
  {
   "cell_type": "code",
   "execution_count": 9,
   "id": "f2a435ad-ca1c-41a4-96c1-d5bc1dde69a5",
   "metadata": {},
   "outputs": [
    {
     "data": {
      "text/plain": [
       "'    3.4231'"
      ]
     },
     "execution_count": 9,
     "metadata": {},
     "output_type": "execute_result"
    }
   ],
   "source": [
    "# 문자열 오른쪽 정렬 (10칸)\n",
    "\"%10s\" % \"hi\"     # '        hi'\n",
    "\n",
    "# 왼쪽 정렬\n",
    "\"%-10sjane.\" % \"hi\"  # 'hi        jane.'\n",
    "\n",
    "# 소수점 자리 지정\n",
    "\"%0.4f\" % 3.42134234     # '3.4213'\n",
    "\"%10.4f\" % 3.4231234     # '    3.4231'\n"
   ]
  },
  {
   "cell_type": "markdown",
   "id": "b53e78d7-995d-41d2-b36f-65f4c1f9410e",
   "metadata": {},
   "source": [
    "# 문자열 포매팅: format()함수사용"
   ]
  },
  {
   "cell_type": "code",
   "execution_count": 10,
   "id": "dbfd76b3-d7d3-4ef4-8ef0-d41cd8288fcd",
   "metadata": {},
   "outputs": [
    {
     "data": {
      "text/plain": [
       "'{ and }'"
      ]
     },
     "execution_count": 10,
     "metadata": {},
     "output_type": "execute_result"
    }
   ],
   "source": [
    "# 숫자 직접 대입\n",
    "\"I eat {0} apples.\".format(3)\n",
    "\n",
    "# 문자열 직접 대입\n",
    "\"I eat {0} apples.\".format(\"five\")\n",
    "\n",
    "# 변수 사용\n",
    "number = 3\n",
    "\"I eat {0} apples.\".format(number)\n",
    "\n",
    "# 여러 값\n",
    "number = 10\n",
    "day = \"three\"\n",
    "\"I ate {0} apples. so I was sick for {1} days.\".format(number, day)\n",
    "\n",
    "# 이름으로 값 대입\n",
    "\"I ate {number} apples. so I was sick for {day} days.\".format(number=10, day=3)\n",
    "\n",
    "# 인덱스 + 이름 혼용\n",
    "\"I ate {0} apples. so I was sick for {day} days.\".format(10, day=3)\n",
    "\n",
    "# 정렬\n",
    "\"{0:<10}\".format(\"hi\")   # 왼쪽 정렬\n",
    "\"{0:>10}\".format(\"hi\")   # 오른쪽 정렬\n",
    "\"{0:^10}\".format(\"hi\")   # 가운데 정렬\n",
    "\n",
    "# 공백 채우기\n",
    "\"{0:=^10}\".format(\"hi\")  # 가운데 정렬 + = 채움\n",
    "\"{0:!<10}\".format(\"hi\")  # 왼쪽 정렬 + ! 채움\n",
    "\n",
    "# 소수점\n",
    "y = 3.42134234\n",
    "\"{0:0.4f}\".format(y)     # '3.4213'\n",
    "\"{0:10.4f}\".format(y)    # '    3.4213'\n",
    "\n",
    "# 중괄호 출력\n",
    "\"{{ and }}\".format()     # '{ and }'\n"
   ]
  },
  {
   "cell_type": "markdown",
   "id": "3469bd25-da55-4b92-a31f-2fb0811f57c0",
   "metadata": {},
   "source": [
    "# f-string 포메팅 (파이썬 3.6이상)"
   ]
  },
  {
   "cell_type": "code",
   "execution_count": 11,
   "id": "2f292034-5a72-40f2-9647-814915981c18",
   "metadata": {},
   "outputs": [
    {
     "data": {
      "text/plain": [
       "'    3.4213'"
      ]
     },
     "execution_count": 11,
     "metadata": {},
     "output_type": "execute_result"
    }
   ],
   "source": [
    "name = \"홍길동\"\n",
    "age = 30\n",
    "\n",
    "# 변수 삽입\n",
    "f\"나의 이름은 {name}입니다. 나이는 {age}입니다.\"\n",
    "\n",
    "# 표현식 사용 가능\n",
    "f\"나는 내년이면 {age+1}살이 된다.\"\n",
    "\n",
    "# 딕셔너리 사용\n",
    "d = {'name':'홍길동', 'age':30}\n",
    "f\"나의 이름은 {d['name']}입니다. 나이는 {d['age']}입니다.\"\n",
    "\n",
    "# 정렬\n",
    "f'{\"hi\":<10}'      # 왼쪽 정렬\n",
    "f'{\"hi\":>10}'      # 오른쪽 정렬\n",
    "f'{\"hi\":^10}'      # 가운데 정렬\n",
    "f'{\"hi\":=^10}'     # 가운데 정렬 + '=' 채움\n",
    "f'{\"hi\":!<10}'     # 왼쪽 정렬 + '!' 채움\n",
    "\n",
    "# 소수점 표현\n",
    "y = 3.42134234\n",
    "f'{y:0.4f}'        # '3.4213'\n",
    "f'{y:10.4f}'       # '    3.4213'\n"
   ]
  },
  {
   "cell_type": "markdown",
   "id": "03571374-d65a-4cbb-aad9-7eb0fe4b8901",
   "metadata": {},
   "source": [
    "# 문자열 관련 함수들"
   ]
  },
  {
   "cell_type": "code",
   "execution_count": 12,
   "id": "f1f13f90-fb2f-4db7-9975-01dfd639e51b",
   "metadata": {},
   "outputs": [
    {
     "data": {
      "text/plain": [
       "-1"
      ]
     },
     "execution_count": 12,
     "metadata": {},
     "output_type": "execute_result"
    }
   ],
   "source": [
    "# 문자 개수 세기\n",
    "a = \"hobby\"\n",
    "a.count('b')      # 2\n",
    "\n",
    "# 문자 위치 찾기 - find (없으면 -1)\n",
    "a = \"Python is the best choice\"\n",
    "a.find('b')       # 14\n",
    "a.find('k')       # -1\n",
    "\n",
    "# 문자 위치 찾기 - index (없\n"
   ]
  }
 ],
 "metadata": {
  "kernelspec": {
   "display_name": "Python 3 (ipykernel)",
   "language": "python",
   "name": "python3"
  },
  "language_info": {
   "codemirror_mode": {
    "name": "ipython",
    "version": 3
   },
   "file_extension": ".py",
   "mimetype": "text/x-python",
   "name": "python",
   "nbconvert_exporter": "python",
   "pygments_lexer": "ipython3",
   "version": "3.13.5"
  }
 },
 "nbformat": 4,
 "nbformat_minor": 5
}
