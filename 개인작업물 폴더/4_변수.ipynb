{
 "cells": [
  {
   "cell_type": "markdown",
   "id": "06e3668a-cb15-4f49-95d0-e4cc66c4ae3a",
   "metadata": {},
   "source": [
    "## 변수 자료형의 값을 저장하는 공간"
   ]
  },
  {
   "cell_type": "markdown",
   "id": "5c884f2b-a715-40cf-81be-b8872684ad3f",
   "metadata": {},
   "source": [
    "## .1 변수란?"
   ]
  },
  {
   "cell_type": "code",
   "execution_count": 1,
   "id": "761e26a1-2d60-4383-b233-e94de57b4b9e",
   "metadata": {},
   "outputs": [
    {
     "data": {
      "text/plain": [
       "2224336482432"
      ]
     },
     "execution_count": 1,
     "metadata": {},
     "output_type": "execute_result"
    }
   ],
   "source": [
    "a = [1,2,3]\n",
    "id(a)"
   ]
  },
  {
   "cell_type": "raw",
   "id": "7857b1f3-dc47-4708-96e4-52c4c8046949",
   "metadata": {},
   "source": [
    "a = a"
   ]
  },
  {
   "cell_type": "code",
   "execution_count": 2,
   "id": "3738afd7-524b-4096-9a23-3029a0debd8c",
   "metadata": {},
   "outputs": [
    {
     "data": {
      "text/plain": [
       "[1, 2, 3]"
      ]
     },
     "execution_count": 2,
     "metadata": {},
     "output_type": "execute_result"
    }
   ],
   "source": [
    "b = a\n",
    "b"
   ]
  },
  {
   "cell_type": "code",
   "execution_count": 3,
   "id": "77f38118-31f6-4b27-9a09-ad949565f92a",
   "metadata": {},
   "outputs": [
    {
     "name": "stdout",
     "output_type": "stream",
     "text": [
      "2224336482432\n"
     ]
    }
   ],
   "source": [
    "print(id(a))"
   ]
  },
  {
   "cell_type": "code",
   "execution_count": 4,
   "id": "82b795ac-616f-4b0c-ba4a-7134903876a6",
   "metadata": {},
   "outputs": [
    {
     "name": "stdout",
     "output_type": "stream",
     "text": [
      "2224336482432\n"
     ]
    }
   ],
   "source": [
    "print(id(b))"
   ]
  },
  {
   "cell_type": "markdown",
   "id": "1c36f841-d43b-4b88-9114-b808b50b0d02",
   "metadata": {},
   "source": [
    "##  리스트를 복사"
   ]
  },
  {
   "cell_type": "code",
   "execution_count": 6,
   "id": "eccce28e-bb35-4277-a6ad-6f042e9b861c",
   "metadata": {},
   "outputs": [
    {
     "ename": "_IncompleteInputError",
     "evalue": "incomplete input (626912351.py, line 2)",
     "output_type": "error",
     "traceback": [
      "\u001b[1;36m  Cell \u001b[1;32mIn[6], line 2\u001b[1;36m\u001b[0m\n\u001b[1;33m    a\\\u001b[0m\n\u001b[1;37m      ^\u001b[0m\n\u001b[1;31m_IncompleteInputError\u001b[0m\u001b[1;31m:\u001b[0m incomplete input\n"
     ]
    }
   ],
   "source": [
    "a[1] = 4\n",
    "a\\"
   ]
  },
  {
   "cell_type": "code",
   "execution_count": 7,
   "id": "e80e1f27-f24e-4f1a-a68c-28d2b5642df9",
   "metadata": {},
   "outputs": [
    {
     "data": {
      "text/plain": [
       "[1, 4, 3]"
      ]
     },
     "execution_count": 7,
     "metadata": {},
     "output_type": "execute_result"
    }
   ],
   "source": [
    "a[1] = 4\n",
    "a"
   ]
  },
  {
   "cell_type": "code",
   "execution_count": 8,
   "id": "5523c75a-200f-420f-831a-946c5f9f4297",
   "metadata": {},
   "outputs": [
    {
     "data": {
      "text/plain": [
       "[1, 4, 3]"
      ]
     },
     "execution_count": 8,
     "metadata": {},
     "output_type": "execute_result"
    }
   ],
   "source": [
    "b"
   ]
  },
  {
   "cell_type": "code",
   "execution_count": 9,
   "id": "0d633935-3524-4e12-bcaf-42cb331da09d",
   "metadata": {},
   "outputs": [
    {
     "data": {
      "text/plain": [
       "True"
      ]
     },
     "execution_count": 9,
     "metadata": {},
     "output_type": "execute_result"
    }
   ],
   "source": [
    "a is b"
   ]
  },
  {
   "cell_type": "markdown",
   "id": "bf2ee736-f624-4e5c-837d-2dd37155be70",
   "metadata": {},
   "source": [
    "###  b변수 생성할때 a 변수의 값을 가져오면 a와는 다른 주소를  가르키도록 하려면?"
   ]
  },
  {
   "cell_type": "code",
   "execution_count": 10,
   "id": "6ddb0832-769e-499b-ad83-9fbd1152580a",
   "metadata": {},
   "outputs": [
    {
     "data": {
      "text/plain": [
       "[1, 2, 3]"
      ]
     },
     "execution_count": 10,
     "metadata": {},
     "output_type": "execute_result"
    }
   ],
   "source": [
    "# [:] 이용하기\n",
    "a = [1,2,3]\n",
    "b = a[:]\n",
    "b"
   ]
  },
  {
   "cell_type": "code",
   "execution_count": 11,
   "id": "5d3d560c-7454-4487-8684-e20c3acbe764",
   "metadata": {},
   "outputs": [
    {
     "data": {
      "text/plain": [
       "[1, 4, 3]"
      ]
     },
     "execution_count": 11,
     "metadata": {},
     "output_type": "execute_result"
    }
   ],
   "source": [
    "a[1]=4\n",
    "a\n"
   ]
  },
  {
   "cell_type": "code",
   "execution_count": 12,
   "id": "4d8d5c24-d9ce-4289-8647-216325db5e95",
   "metadata": {},
   "outputs": [
    {
     "data": {
      "text/plain": [
       "[1, 4, 3]"
      ]
     },
     "execution_count": 12,
     "metadata": {},
     "output_type": "execute_result"
    }
   ],
   "source": [
    "a"
   ]
  },
  {
   "cell_type": "code",
   "execution_count": 13,
   "id": "592257cb-a626-48b8-ac99-08364b2444f0",
   "metadata": {},
   "outputs": [
    {
     "data": {
      "text/plain": [
       "[1, 2, 3]"
      ]
     },
     "execution_count": 13,
     "metadata": {},
     "output_type": "execute_result"
    }
   ],
   "source": [
    "b\n"
   ]
  },
  {
   "cell_type": "code",
   "execution_count": 14,
   "id": "879ff183-86cd-4894-8f85-52c3e8dfc14e",
   "metadata": {},
   "outputs": [
    {
     "name": "stdout",
     "output_type": "stream",
     "text": [
      "2224336514816\n",
      "2224336338368\n"
     ]
    }
   ],
   "source": [
    "print(id(a))\n",
    "print(id(b))"
   ]
  },
  {
   "cell_type": "code",
   "execution_count": 16,
   "id": "2db90c4e-6e92-4884-9e9a-b6432fdda84b",
   "metadata": {},
   "outputs": [
    {
     "data": {
      "text/plain": [
       "[1, 2, 3]"
      ]
     },
     "execution_count": 16,
     "metadata": {},
     "output_type": "execute_result"
    }
   ],
   "source": [
    "#copy 모듈 이용하기\n",
    "from copy import copy\n",
    "a = [1,2,3]\n",
    "b = copy(a)\n",
    "b"
   ]
  },
  {
   "cell_type": "code",
   "execution_count": 17,
   "id": "c80af0b5-2e63-4e9f-9dde-f48654ab483a",
   "metadata": {},
   "outputs": [
    {
     "data": {
      "text/plain": [
       "False"
      ]
     },
     "execution_count": 17,
     "metadata": {},
     "output_type": "execute_result"
    }
   ],
   "source": [
    "b is a"
   ]
  },
  {
   "cell_type": "code",
   "execution_count": 18,
   "id": "b9930d50-e321-404d-838d-167fd2d0ceb4",
   "metadata": {},
   "outputs": [
    {
     "name": "stdout",
     "output_type": "stream",
     "text": [
      "[1, 2, 5]\n",
      "[1, 2, 3]\n",
      "2224336483648\n",
      "2224336482880\n"
     ]
    }
   ],
   "source": [
    "a[2]=5\n",
    "print(a)\n",
    "print(b)\n",
    "print(id(a))\n",
    "print(id(b))\n"
   ]
  },
  {
   "cell_type": "code",
   "execution_count": 19,
   "id": "aaa611da-f05c-49c0-8369-b9f7cf06af75",
   "metadata": {},
   "outputs": [
    {
     "data": {
      "text/plain": [
       "False"
      ]
     },
     "execution_count": 19,
     "metadata": {},
     "output_type": "execute_result"
    }
   ],
   "source": [
    "a = [1,2,3]\n",
    "b = a.copy()\n",
    "b is a"
   ]
  },
  {
   "cell_type": "markdown",
   "id": "0b0a3009-37a6-4a94-a059-e0f2d17c8d65",
   "metadata": {},
   "source": [
    "## 3. 변수 만드는 여러가지 방법"
   ]
  },
  {
   "cell_type": "code",
   "execution_count": 20,
   "id": "4c73e51c-77ea-41a3-983c-4bcdbef7d235",
   "metadata": {},
   "outputs": [
    {
     "name": "stdout",
     "output_type": "stream",
     "text": [
      "python\n",
      "life\n"
     ]
    }
   ],
   "source": [
    "# 튜플로 만들기\n",
    "a, b = ('python', 'life')\n",
    "print(a)\n",
    "print(b)"
   ]
  },
  {
   "cell_type": "code",
   "execution_count": 21,
   "id": "010dc123-fd47-4fbc-93b7-7545f1fca248",
   "metadata": {},
   "outputs": [
    {
     "name": "stdout",
     "output_type": "stream",
     "text": [
      "python\n",
      "life\n"
     ]
    }
   ],
   "source": [
    "# 리스트로 변수 만들기\n",
    "[a,b] =['python','life']\n",
    "print(a)\n",
    "print(b)"
   ]
  },
  {
   "cell_type": "code",
   "execution_count": 24,
   "id": "1169af61-3594-4314-98b5-9d8bd7af9753",
   "metadata": {},
   "outputs": [
    {
     "name": "stdout",
     "output_type": "stream",
     "text": [
      "python\n",
      "python\n",
      "2224236980544\n",
      "2224236980544\n"
     ]
    }
   ],
   "source": [
    "# 여러 개 변숙에 같은 값 대입\n",
    "a = b = 'python'\n",
    "print(a)\n",
    "print(b)\n",
    "print(id(a))\n",
    "print(id(b))"
   ]
  },
  {
   "cell_type": "code",
   "execution_count": 29,
   "id": "49f01ad8-9f71-4563-863c-86d3f60702f6",
   "metadata": {},
   "outputs": [
    {
     "name": "stdout",
     "output_type": "stream",
     "text": [
      "[5, 2, 3]\n",
      "[5, 2, 3]\n",
      "2224351188288\n",
      "2224351188288\n"
     ]
    }
   ],
   "source": [
    "b = [1, 2, 3]  # b는 리스트라고 가정\n",
    "a = b            # a에 b를 참조시킴\n",
    "a[0] = 5         # a[0]을 5로 바꿈\n",
    "print(a)         # a의 값 출력\n",
    "print(b)         # b의 값 출력\n",
    "print(id(a))     # a의 id(메모리 주소) 출력\n",
    "print(id(b))     # b의 id(메모리 주소) 출력\n"
   ]
  },
  {
   "cell_type": "code",
   "execution_count": 28,
   "id": "61ddf2d0-dca3-40a3-9859-378e72f64faf",
   "metadata": {},
   "outputs": [
    {
     "name": "stdout",
     "output_type": "stream",
     "text": [
      "5\n",
      "3\n"
     ]
    }
   ],
   "source": [
    "# 두 변수의 값 바꾸기\n",
    "a = 3\n",
    "b = 5\n",
    "a,b = b,a\n",
    "print(a)\n",
    "print(b)"
   ]
  }
 ],
 "metadata": {
  "kernelspec": {
   "display_name": "Python 3 (ipykernel)",
   "language": "python",
   "name": "python3"
  },
  "language_info": {
   "codemirror_mode": {
    "name": "ipython",
    "version": 3
   },
   "file_extension": ".py",
   "mimetype": "text/x-python",
   "name": "python",
   "nbconvert_exporter": "python",
   "pygments_lexer": "ipython3",
   "version": "3.13.5"
  }
 },
 "nbformat": 4,
 "nbformat_minor": 5
}
