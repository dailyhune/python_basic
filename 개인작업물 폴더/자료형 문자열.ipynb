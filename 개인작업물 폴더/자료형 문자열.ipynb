{
 "cells": [
  {
   "cell_type": "code",
   "execution_count": 2,
   "id": "ee4d936f-e429-4563-aab4-f45d2ebc7402",
   "metadata": {},
   "outputs": [
    {
     "data": {
      "text/plain": [
       "'e'"
      ]
     },
     "execution_count": 2,
     "metadata": {},
     "output_type": "execute_result"
    }
   ],
   "source": [
    "a = \"Life is too short, You need Python\"\n",
    "a[3]"
   ]
  },
  {
   "cell_type": "markdown",
   "id": "1be2ba7f-7f6b-4e0f-969f-2dd3092248a1",
   "metadata": {},
   "source": [
    "### python 문자열을 Python 으로 바꾸려면 "
   ]
  },
  {
   "cell_type": "code",
   "execution_count": 3,
   "id": "80b2184e-c3df-4b93-bcbb-4a8db8d9988d",
   "metadata": {},
   "outputs": [
    {
     "data": {
      "text/plain": [
       "'i'"
      ]
     },
     "execution_count": 3,
     "metadata": {},
     "output_type": "execute_result"
    }
   ],
   "source": [
    "a = 'pithon'\n",
    "a[1]"
   ]
  },
  {
   "cell_type": "code",
   "execution_count": 15,
   "id": "494710a1-a368-465c-af48-a01bc495c8e5",
   "metadata": {},
   "outputs": [
    {
     "name": "stderr",
     "output_type": "stream",
     "text": [
      "<>:3: SyntaxWarning: 'str' object is not callable; perhaps you missed a comma?\n",
      "C:\\Users\\WD\\AppData\\Local\\Temp\\ipykernel_16224\\1025069205.py:3: SyntaxWarning: 'str' object is not callable; perhaps you missed a comma?\n",
      "  \"I ate %d apples, so I was sick for %s days,\"(number, day)\n"
     ]
    },
    {
     "ename": "TypeError",
     "evalue": "'str' object is not callable",
     "output_type": "error",
     "traceback": [
      "\u001b[1;31m---------------------------------------------------------------------------\u001b[0m",
      "\u001b[1;31mTypeError\u001b[0m                                 Traceback (most recent call last)",
      "Cell \u001b[1;32mIn[15], line 3\u001b[0m\n\u001b[0;32m      1\u001b[0m number\u001b[38;5;241m=\u001b[39m\u001b[38;5;241m10\u001b[39m\n\u001b[0;32m      2\u001b[0m day \u001b[38;5;241m=\u001b[39m \u001b[38;5;124m\"\u001b[39m\u001b[38;5;124mthree\u001b[39m\u001b[38;5;124m\"\u001b[39m\n\u001b[1;32m----> 3\u001b[0m \u001b[38;5;124m\"\u001b[39m\u001b[38;5;124mI ate \u001b[39m\u001b[38;5;132;01m%d\u001b[39;00m\u001b[38;5;124m apples, so I was sick for \u001b[39m\u001b[38;5;132;01m%s\u001b[39;00m\u001b[38;5;124m days,\u001b[39m\u001b[38;5;124m\"\u001b[39m(number, day)\n",
      "\u001b[1;31mTypeError\u001b[0m: 'str' object is not callable"
     ]
    }
   ],
   "source": [
    "number=10\n",
    "day = \"three\"\n",
    "\"I ate %d apples, so I was sick for %s days,\"(number, day)"
   ]
  },
  {
   "cell_type": "code",
   "execution_count": 5,
   "id": "28fa3950-07ce-49ab-872c-b1dffc66d449",
   "metadata": {},
   "outputs": [
    {
     "name": "stdout",
     "output_type": "stream",
     "text": [
      "def\n"
     ]
    }
   ],
   "source": [
    "b ='abc'\n",
    "b = 'def'\n",
    "print(b)"
   ]
  },
  {
   "cell_type": "code",
   "execution_count": 6,
   "id": "0841a93f-fa31-4dbb-84ec-d06a9901bfb3",
   "metadata": {},
   "outputs": [
    {
     "name": "stdout",
     "output_type": "stream",
     "text": [
      "pithon\n"
     ]
    }
   ],
   "source": [
    "print(a)"
   ]
  },
  {
   "cell_type": "code",
   "execution_count": 7,
   "id": "b05feccb-1bde-483b-b9f3-8124bf713913",
   "metadata": {},
   "outputs": [
    {
     "name": "stdout",
     "output_type": "stream",
     "text": [
      "python\n"
     ]
    }
   ],
   "source": [
    "b = a [0] + 'y' + a[2:] \n",
    "print(b)"
   ]
  },
  {
   "cell_type": "code",
   "execution_count": 10,
   "id": "ce1b5723-c6d2-4d4d-b7d5-7a4a51813316",
   "metadata": {},
   "outputs": [],
   "source": [
    "### 문자열 포메팅"
   ]
  },
  {
   "cell_type": "code",
   "execution_count": 11,
   "id": "56b6892d-899c-46ae-97e9-779bab6b4695",
   "metadata": {},
   "outputs": [
    {
     "data": {
      "text/plain": [
       "'I eat 2 apples.'"
      ]
     },
     "execution_count": 11,
     "metadata": {},
     "output_type": "execute_result"
    }
   ],
   "source": [
    "\"I eat %d apples.\"%2"
   ]
  },
  {
   "cell_type": "code",
   "execution_count": 12,
   "id": "30c94cf3-be6e-42b2-ab80-efc0751ba17f",
   "metadata": {},
   "outputs": [
    {
     "ename": "SyntaxError",
     "evalue": "unterminated string literal (detected at line 1) (193758071.py, line 1)",
     "output_type": "error",
     "traceback": [
      "\u001b[1;36m  Cell \u001b[1;32mIn[12], line 1\u001b[1;36m\u001b[0m\n\u001b[1;33m    :I ead %d apples. \"%\"abc\"\u001b[0m\n\u001b[1;37m                            ^\u001b[0m\n\u001b[1;31mSyntaxError\u001b[0m\u001b[1;31m:\u001b[0m unterminated string literal (detected at line 1)\n"
     ]
    }
   ],
   "source": [
    ":I ead %d apples. \"%\"abc\""
   ]
  },
  {
   "cell_type": "code",
   "execution_count": 19,
   "id": "db587bed-2ac1-4d96-8cb4-e0bbc24c8219",
   "metadata": {},
   "outputs": [
    {
     "data": {
      "text/plain": [
       "'I ate 10 apples. so I was sick for three days.'"
      ]
     },
     "execution_count": 19,
     "metadata": {},
     "output_type": "execute_result"
    }
   ],
   "source": [
    ">>> number = 10\n",
    "\n",
    ">>> day = \"three\"\n",
    "\n",
    ">>> \"I ate %d apples. so I was sick for %s days.\" % (number, day)\n",
    "\n",
    "'I ate 10 apples. so I was sick for three days.'"
   ]
  },
  {
   "cell_type": "code",
   "execution_count": 17,
   "id": "ee628ff6-1c2d-42da-9f30-6b74a80a7bb2",
   "metadata": {},
   "outputs": [
    {
     "data": {
      "text/plain": [
       "'error is %d.%98'"
      ]
     },
     "execution_count": 17,
     "metadata": {},
     "output_type": "execute_result"
    }
   ],
   "source": [
    "# 포맷코드를 문자% 를 같이 사용\n",
    "\"error is %d.\"  \"%98\""
   ]
  },
  {
   "cell_type": "code",
   "execution_count": 18,
   "id": "78b080fb-b42f-43a5-bc12-d937934a944e",
   "metadata": {},
   "outputs": [
    {
     "data": {
      "text/plain": [
       "'error is 98%. '"
      ]
     },
     "execution_count": 18,
     "metadata": {},
     "output_type": "execute_result"
    }
   ],
   "source": [
    "\"error is %d%%. \"%98"
   ]
  },
  {
   "cell_type": "code",
   "execution_count": 20,
   "id": "44a740f8-f867-4fd9-8487-a26395e66798",
   "metadata": {},
   "outputs": [
    {
     "data": {
      "text/plain": [
       "'        hi'"
      ]
     },
     "execution_count": 20,
     "metadata": {},
     "output_type": "execute_result"
    }
   ],
   "source": [
    "\"%10s\"%\"hi\""
   ]
  },
  {
   "cell_type": "code",
   "execution_count": 25,
   "id": "8afe260f-8302-41fb-8233-cdc04482a464",
   "metadata": {},
   "outputs": [
    {
     "data": {
      "text/plain": [
       "10"
      ]
     },
     "execution_count": 25,
     "metadata": {},
     "output_type": "execute_result"
    }
   ],
   "source": [
    "len(a)"
   ]
  },
  {
   "cell_type": "code",
   "execution_count": 32,
   "id": "b3b228fa-cf1c-4d30-ae02-f5d7e092d153",
   "metadata": {},
   "outputs": [
    {
     "data": {
      "text/plain": [
       "'hi        '"
      ]
     },
     "execution_count": 32,
     "metadata": {},
     "output_type": "execute_result"
    }
   ],
   "source": [
    "a = \"%-10s\"%\"hi\"\n",
    "a"
   ]
  },
  {
   "cell_type": "code",
   "execution_count": 33,
   "id": "fd53870a-bce3-41e7-aab9-d5de6363d1a6",
   "metadata": {},
   "outputs": [
    {
     "data": {
      "text/plain": [
       "'    3.4123'"
      ]
     },
     "execution_count": 33,
     "metadata": {},
     "output_type": "execute_result"
    }
   ],
   "source": [
    "f = \"%10.4f\"%3.41231234\n",
    "f"
   ]
  },
  {
   "cell_type": "code",
   "execution_count": 34,
   "id": "95867a47-35b2-4612-8e4c-0b39d761f05d",
   "metadata": {},
   "outputs": [
    {
     "data": {
      "text/plain": [
       "10"
      ]
     },
     "execution_count": 34,
     "metadata": {},
     "output_type": "execute_result"
    }
   ],
   "source": [
    "len(f)"
   ]
  },
  {
   "cell_type": "code",
   "execution_count": 39,
   "id": "bf5cc417-9781-4543-a392-dd4527e37e21",
   "metadata": {},
   "outputs": [
    {
     "data": {
      "text/plain": [
       "'I eat 3 apples.'"
      ]
     },
     "execution_count": 39,
     "metadata": {},
     "output_type": "execute_result"
    }
   ],
   "source": [
    "\"I eat {} apples.\".format(3)"
   ]
  },
  {
   "cell_type": "code",
   "execution_count": 51,
   "id": "1a3c4227-1d64-424a-ac8e-a02efd8420a8",
   "metadata": {},
   "outputs": [
    {
     "data": {
      "text/plain": [
       "'I eat 5 apples.'"
      ]
     },
     "execution_count": 51,
     "metadata": {},
     "output_type": "execute_result"
    }
   ],
   "source": [
    "five = 5\n",
    "\"I eat {} apples.\".format(five)"
   ]
  },
  {
   "cell_type": "code",
   "execution_count": 42,
   "id": "543399b8-dfee-4d6e-82b3-e292a26ca277",
   "metadata": {},
   "outputs": [],
   "source": [
    "number = 3\n",
    "\"I eat{}"
   ]
  },
  {
   "cell_type": "code",
   "execution_count": 45,
   "id": "92ddb3ae-2d51-4532-9a59-4c529a587eca",
   "metadata": {},
   "outputs": [
    {
     "data": {
      "text/plain": [
       "'I ate 10 apples, so i was sick for three days.'"
      ]
     },
     "execution_count": 45,
     "metadata": {},
     "output_type": "execute_result"
    }
   ],
   "source": [
    "\"I ate {} apples, so i was sick for {} days.\".format(10, \"three\")"
   ]
  },
  {
   "cell_type": "code",
   "execution_count": 46,
   "id": "e0e892df-fb32-482f-aefc-a2fc89853992",
   "metadata": {},
   "outputs": [
    {
     "data": {
      "text/plain": [
       "'I ate 10 apples, so i was sick for three days.'"
      ]
     },
     "execution_count": 46,
     "metadata": {},
     "output_type": "execute_result"
    }
   ],
   "source": [
    "\"I ate {0} apples, so i was sick for {1} days.\".format(10, \"three\")"
   ]
  },
  {
   "cell_type": "code",
   "execution_count": 50,
   "id": "05f9f737-4269-443d-80be-6b18d29a55bf",
   "metadata": {},
   "outputs": [
    {
     "data": {
      "text/plain": [
       "'I ate3 apples. so i was sick for 10 dyas.'"
      ]
     },
     "execution_count": 50,
     "metadata": {},
     "output_type": "execute_result"
    }
   ],
   "source": [
    "number = 10\n",
    "day = 3\n",
    "\n",
    "\"I ate{1} apples. so i was sick for {0} dyas.\".format(number, day)"
   ]
  },
  {
   "cell_type": "code",
   "execution_count": 53,
   "id": "bef594b8-3073-4586-88d2-e367cc27c5ac",
   "metadata": {},
   "outputs": [
    {
     "data": {
      "text/plain": [
       "'I ate 10 apples, so I was sick for 3 days.'"
      ]
     },
     "execution_count": 53,
     "metadata": {},
     "output_type": "execute_result"
    }
   ],
   "source": [
    "number = 10\n",
    "day = 3\n",
    "\"I ate {number} apples, so I was sick for {day} days.\".format(number=number, day=day)"
   ]
  },
  {
   "cell_type": "code",
   "execution_count": 54,
   "id": "aa6203eb-6a43-4f15-80b9-7d06fd2bacf3",
   "metadata": {},
   "outputs": [
    {
     "data": {
      "text/plain": [
       "'hi        '"
      ]
     },
     "execution_count": 54,
     "metadata": {},
     "output_type": "execute_result"
    }
   ],
   "source": [
    "\"{:10}\".format('hi')"
   ]
  },
  {
   "cell_type": "code",
   "execution_count": 57,
   "id": "23e0f2f2-a13b-4970-b6b3-4c2a4b837e85",
   "metadata": {},
   "outputs": [
    {
     "data": {
      "text/plain": [
       "'    hi    '"
      ]
     },
     "execution_count": 57,
     "metadata": {},
     "output_type": "execute_result"
    }
   ],
   "source": [
    "\"{:^10}\".format('hi')"
   ]
  },
  {
   "cell_type": "code",
   "execution_count": 59,
   "id": "6e682509-2bb2-4ba6-863e-3d208c747cea",
   "metadata": {},
   "outputs": [
    {
     "data": {
      "text/plain": [
       "'====hi===='"
      ]
     },
     "execution_count": 59,
     "metadata": {},
     "output_type": "execute_result"
    }
   ],
   "source": [
    "\"{:=^10}\".format('hi')"
   ]
  },
  {
   "cell_type": "code",
   "execution_count": 65,
   "id": "0d48ed1c-4aef-4ab2-bc90-ab02fff30f36",
   "metadata": {},
   "outputs": [
    {
     "ename": "ValueError",
     "evalue": "Unknown format code '\\x8' for object of type 'str'",
     "output_type": "error",
     "traceback": [
      "\u001b[1;31m---------------------------------------------------------------------------\u001b[0m",
      "\u001b[1;31mValueError\u001b[0m                                Traceback (most recent call last)",
      "Cell \u001b[1;32mIn[65], line 1\u001b[0m\n\u001b[1;32m----> 1\u001b[0m \u001b[38;5;124m\"\u001b[39m\u001b[38;5;124m{\u001b[39m\u001b[38;5;124m:\u001b[39m\u001b[38;5;130;01m\\10\u001b[39;00m\u001b[38;5;124m}\u001b[39m\u001b[38;5;124m\"\u001b[39m\u001b[38;5;241m.\u001b[39mformat(\u001b[38;5;124m'\u001b[39m\u001b[38;5;124mhi\u001b[39m\u001b[38;5;124m'\u001b[39m)\n",
      "\u001b[1;31mValueError\u001b[0m: Unknown format code '\\x8' for object of type 'str'"
     ]
    }
   ],
   "source": [
    "\"{:\\10}\".format('hi')"
   ]
  },
  {
   "cell_type": "code",
   "execution_count": 64,
   "id": "09a08804-5d54-4c22-aa47-c0d2503cce7a",
   "metadata": {},
   "outputs": [
    {
     "data": {
      "text/plain": [
       "'    3.4123'"
      ]
     },
     "execution_count": 64,
     "metadata": {},
     "output_type": "execute_result"
    }
   ],
   "source": [
    "\"{:10.4f}\".format(3.412341234)"
   ]
  },
  {
   "cell_type": "code",
   "execution_count": 67,
   "id": "28df067e-fc6f-4aa9-817c-97b090cd6820",
   "metadata": {},
   "outputs": [
    {
     "data": {
      "text/plain": [
       "'{and}'"
      ]
     },
     "execution_count": 67,
     "metadata": {},
     "output_type": "execute_result"
    }
   ],
   "source": [
    "\"{{and}}\".format()"
   ]
  },
  {
   "cell_type": "code",
   "execution_count": 69,
   "id": "79517e2e-a8d1-4fa5-90fa-a31b87749846",
   "metadata": {},
   "outputs": [
    {
     "data": {
      "text/plain": [
       "'나의 이름은 (name)입니다. 나이는(age)입니다.'"
      ]
     },
     "execution_count": 69,
     "metadata": {},
     "output_type": "execute_result"
    }
   ],
   "source": [
    "name = '박종훈'\n",
    "age = 28\n",
    "f\"나의 이름은 (name)입니다. 나이는(age)입니다.\" "
   ]
  },
  {
   "cell_type": "code",
   "execution_count": 70,
   "id": "ac0e5dc6-0651-46f9-a962-2a6b13018dd6",
   "metadata": {},
   "outputs": [
    {
     "data": {
      "text/plain": [
       "'나의 이름은 박종훈입니다. 나이는28입니다.'"
      ]
     },
     "execution_count": 70,
     "metadata": {},
     "output_type": "execute_result"
    }
   ],
   "source": [
    "name = '박종훈'\n",
    "age = 28\n",
    "f\"나의 이름은 {name}입니다. 나이는{age}입니다.\" "
   ]
  },
  {
   "cell_type": "code",
   "execution_count": 71,
   "id": "3f80ac64-c344-4034-92b4-243ba246f095",
   "metadata": {},
   "outputs": [
    {
     "data": {
      "text/plain": [
       "'나는 내년에 31살이 됩니다.'"
      ]
     },
     "execution_count": 71,
     "metadata": {},
     "output_type": "execute_result"
    }
   ],
   "source": [
    "age = 30\n",
    "f\"나는 내년에 {age+1}살이 됩니다.\""
   ]
  },
  {
   "cell_type": "code",
   "execution_count": null,
   "id": "ce4afec6-35f3-4352-89f6-f5357e44d535",
   "metadata": {},
   "outputs": [],
   "source": [
    "d = {'name': '박종훈', \"age\": 30}\n",
    "f\"나의 이름은 {d['name']}입니다. 나이는{d['age']}입니다.\"\n",
    "\n",
    "f\"{h1:c10}\"\n",
    "\n",
    "f\"{\"hi\">10}\"\n",
    "\n"
   ]
  },
  {
   "cell_type": "code",
   "execution_count": 76,
   "id": "19ec5a6a-f2a8-4a4a-aab3-48bb249f7db9",
   "metadata": {},
   "outputs": [
    {
     "ename": "SyntaxError",
     "evalue": "closing parenthesis '}' does not match opening parenthesis '(' (2940833615.py, line 1)",
     "output_type": "error",
     "traceback": [
      "\u001b[1;36m  Cell \u001b[1;32mIn[76], line 1\u001b[1;36m\u001b[0m\n\u001b[1;33m    print(f\"(hi\":=^10}\")\u001b[0m\n\u001b[1;37m                     ^\u001b[0m\n\u001b[1;31mSyntaxError\u001b[0m\u001b[1;31m:\u001b[0m closing parenthesis '}' does not match opening parenthesis '('\n"
     ]
    }
   ],
   "source": [
    "print(f\"(hi\":=^10}\")\n",
    "print(f\"9hi:|<10)"
   ]
  },
  {
   "cell_type": "code",
   "execution_count": 77,
   "id": "787972d5-6d35-4063-9202-e449dcae6ebd",
   "metadata": {},
   "outputs": [
    {
     "data": {
      "text/plain": [
       "'{and}'"
      ]
     },
     "execution_count": 77,
     "metadata": {},
     "output_type": "execute_result"
    }
   ],
   "source": [
    "f\"{{and}}\""
   ]
  },
  {
   "cell_type": "code",
   "execution_count": 80,
   "id": "62e95407-860e-44e9-9ac3-85e5ffdaf18f",
   "metadata": {
    "scrolled": true
   },
   "outputs": [],
   "source": [
    "#문자열 관련 함수들"
   ]
  }
 ],
 "metadata": {
  "kernelspec": {
   "display_name": "Python 3 (ipykernel)",
   "language": "python",
   "name": "python3"
  },
  "language_info": {
   "codemirror_mode": {
    "name": "ipython",
    "version": 3
   },
   "file_extension": ".py",
   "mimetype": "text/x-python",
   "name": "python",
   "nbconvert_exporter": "python",
   "pygments_lexer": "ipython3",
   "version": "3.13.5"
  }
 },
 "nbformat": 4,
 "nbformat_minor": 5
}
