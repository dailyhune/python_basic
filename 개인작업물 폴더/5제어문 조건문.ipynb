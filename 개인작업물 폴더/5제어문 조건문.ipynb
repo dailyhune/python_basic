{
 "cells": [
  {
   "cell_type": "markdown",
   "id": "e63f2681-8c8a-4aaf-93ae-0a373070e142",
   "metadata": {},
   "source": [
    "## 1. if문의 기본 구조"
   ]
  },
  {
   "cell_type": "code",
   "execution_count": 4,
   "id": "81133cb9-6f1b-4bc6-9241-747db3ba29d7",
   "metadata": {},
   "outputs": [
    {
     "ename": "IndentationError",
     "evalue": "unexpected indent (2328390637.py, line 5)",
     "output_type": "error",
     "traceback": [
      "\u001b[1;36m  Cell \u001b[1;32mIn[4], line 5\u001b[1;36m\u001b[0m\n\u001b[1;33m    print(\"가라\")\u001b[0m\n\u001b[1;37m    ^\u001b[0m\n\u001b[1;31mIndentationError\u001b[0m\u001b[1;31m:\u001b[0m unexpected indent\n"
     ]
    }
   ],
   "source": [
    "money = True \n",
    "if money: \n",
    "    print(\"택시를\")\n",
    "print(\"타고 \")\n",
    "      print(\"가라\")"
   ]
  },
  {
   "cell_type": "code",
   "execution_count": 7,
   "id": "d5add728-3143-45d9-803c-5c89c001fb88",
   "metadata": {},
   "outputs": [
    {
     "name": "stdout",
     "output_type": "stream",
     "text": [
      "타고 \n"
     ]
    }
   ],
   "source": [
    "money = False \n",
    "if money: \n",
    "    print(\"택시를\")\n",
    "print(\"타고 \")"
   ]
  },
  {
   "cell_type": "code",
   "execution_count": 9,
   "id": "2fda47d7-1750-42f5-a01d-8709908950a7",
   "metadata": {},
   "outputs": [
    {
     "name": "stdout",
     "output_type": "stream",
     "text": [
      "택시를 \n",
      "타고 \n"
     ]
    }
   ],
   "source": [
    "money = True\n",
    "if money:\n",
    "    print(\"택시를 \")\n",
    "    print(\"타고 \")"
   ]
  },
  {
   "cell_type": "code",
   "execution_count": 10,
   "id": "dec7c096-4706-4e2d-8693-77c852983884",
   "metadata": {},
   "outputs": [
    {
     "ename": "SyntaxError",
     "evalue": "expected ':' (395285662.py, line 1)",
     "output_type": "error",
     "traceback": [
      "\u001b[1;36m  Cell \u001b[1;32mIn[10], line 1\u001b[1;36m\u001b[0m\n\u001b[1;33m    if money\u001b[0m\n\u001b[1;37m            ^\u001b[0m\n\u001b[1;31mSyntaxError\u001b[0m\u001b[1;31m:\u001b[0m expected ':'\n"
     ]
    }
   ],
   "source": [
    "if money\n",
    "    print(\"택시를 타고\")"
   ]
  },
  {
   "cell_type": "markdown",
   "id": "670ae764-612d-4610-a761-0f065e9ccb11",
   "metadata": {},
   "source": [
    "## 2.비교 연산자"
   ]
  },
  {
   "cell_type": "code",
   "execution_count": 14,
   "id": "a3465a09-bb0b-4f09-92a4-290e7bf630f0",
   "metadata": {},
   "outputs": [
    {
     "name": "stdout",
     "output_type": "stream",
     "text": [
      "True\n",
      "False\n",
      "False\n",
      "True\n"
     ]
    }
   ],
   "source": [
    "#비교 연산자\n",
    "x = 3\n",
    "y = 2\n",
    "print(x>y) # True\n",
    "print(y>x) # False\n",
    "print(x == y) # False\n",
    "print(x!=y) #True"
   ]
  },
  {
   "cell_type": "code",
   "execution_count": 15,
   "id": "54189290-41ba-434c-b21f-ae82a489b2fd",
   "metadata": {},
   "outputs": [
    {
     "name": "stdout",
     "output_type": "stream",
     "text": [
      "걸어가라\n"
     ]
    }
   ],
   "source": [
    "money = 2000\n",
    "\n",
    "if money >=3000:\n",
    "    print(\"택시를 타고 가라\")\n",
    "else:\n",
    "    print(\"걸어가라\")"
   ]
  },
  {
   "cell_type": "markdown",
   "id": "814b9d51-a36e-4a65-b9b2-b7e9965b7916",
   "metadata": {},
   "source": [
    "## 논리 연산자"
   ]
  },
  {
   "cell_type": "code",
   "execution_count": 17,
   "id": "2335d276-01db-4a27-b095-2a8082031405",
   "metadata": {},
   "outputs": [
    {
     "name": "stdout",
     "output_type": "stream",
     "text": [
      "택시를 타고 가라\n"
     ]
    }
   ],
   "source": [
    "#조건식 x,y => and 둘다 True일 때 True\n",
    "#              or  하나만 True 이면 Ture  반대로 둘다 flase 이면 Flase 이다.\n",
    "#              not True -> Flase, Flase -> True\n",
    "\n",
    "money = 2000\n",
    "card = True\n",
    "\n",
    "if money >= 3000 or card:\n",
    "    print(\"택시를 타고 가라\")\n",
    "else:\n",
    "    print(\"걸어가라\")"
   ]
  },
  {
   "cell_type": "code",
   "execution_count": 18,
   "id": "0b01de9b-1819-4a7a-9091-8ed8afea6565",
   "metadata": {},
   "outputs": [
    {
     "data": {
      "text/plain": [
       "True"
      ]
     },
     "execution_count": 18,
     "metadata": {},
     "output_type": "execute_result"
    }
   ],
   "source": [
    "# in, not in\n",
    "1 in [1,2,3,]"
   ]
  },
  {
   "cell_type": "code",
   "execution_count": 23,
   "id": "15e62847-4dc7-4e74-ae60-569975504ed3",
   "metadata": {},
   "outputs": [
    {
     "data": {
      "text/plain": [
       "False"
      ]
     },
     "execution_count": 23,
     "metadata": {},
     "output_type": "execute_result"
    }
   ],
   "source": [
    "1 not in[1,2,3]"
   ]
  },
  {
   "cell_type": "code",
   "execution_count": 24,
   "id": "4c7e5b11-4f5d-4fce-bd99-3e91a2f7df94",
   "metadata": {},
   "outputs": [
    {
     "data": {
      "text/plain": [
       "False"
      ]
     },
     "execution_count": 24,
     "metadata": {},
     "output_type": "execute_result"
    }
   ],
   "source": [
    "'d' in ('a','b','c')"
   ]
  },
  {
   "cell_type": "code",
   "execution_count": 25,
   "id": "434d02a8-8b55-4b9a-b12b-2c0078463314",
   "metadata": {},
   "outputs": [
    {
     "data": {
      "text/plain": [
       "True"
      ]
     },
     "execution_count": 25,
     "metadata": {},
     "output_type": "execute_result"
    }
   ],
   "source": [
    "'d' not in('a','b','c')"
   ]
  },
  {
   "cell_type": "code",
   "execution_count": 26,
   "id": "c1b9912e-90a4-469c-81cf-ce82b3b1e9da",
   "metadata": {},
   "outputs": [
    {
     "name": "stdout",
     "output_type": "stream",
     "text": [
      "택시를 타고 가라\n"
     ]
    }
   ],
   "source": [
    "poket = ['apper','cellphone','money']\n",
    "\n",
    "if 'money' in poket:\n",
    "    print(\"택시를 타고 가라\")\n",
    "else:\n",
    "    print(\"걸어 가라\")"
   ]
  },
  {
   "cell_type": "code",
   "execution_count": 27,
   "id": "afc58ac8-3e7a-4a67-94a4-41a543cf4032",
   "metadata": {},
   "outputs": [],
   "source": [
    "#@ pass : 실행문 실행하지 않고 넘어가기\n",
    "pocket =['paper', 'money', 'cellphone']\n",
    "if 'money'in pocket:\n",
    "    pass\n",
    "else:\n",
    "    print(\"카드를 꺼내라\")"
   ]
  },
  {
   "cell_type": "markdown",
   "id": "d36580ba-e903-4267-9d9d-266ba0e30da7",
   "metadata": {},
   "source": [
    "## 3. 다양한 조건을 판단하는 elif "
   ]
  },
  {
   "cell_type": "code",
   "execution_count": 28,
   "id": "dd65b66e-d440-414b-86fc-116a49d7d38d",
   "metadata": {},
   "outputs": [
    {
     "name": "stdout",
     "output_type": "stream",
     "text": [
      "택시를 타고 가라\n"
     ]
    }
   ],
   "source": [
    "# if, else만으로 표현\n",
    "pocket = ['paper', 'cellphone']\n",
    "card = True\n",
    "if ' money' in pocket:\n",
    "    print(\"택시를 타고 가라\")\n",
    "else : \n",
    "    if card:\n",
    "        print(\"택시를 타고 가라\")\n",
    "    else:\n",
    "        print(\"걸어가라\")"
   ]
  },
  {
   "cell_type": "code",
   "execution_count": 31,
   "id": "d98d33b7-74c5-4800-86f4-60e981ed44c8",
   "metadata": {},
   "outputs": [
    {
     "name": "stdout",
     "output_type": "stream",
     "text": [
      "걸어가라\n"
     ]
    }
   ],
   "source": [
    "# elif 사용\n",
    "pocket = ['paper', 'cellphone']\n",
    "card = True\n",
    "if ' money' in pocket:\n",
    "    print(\"택시를 타고 가라\")\n",
    "else:\n",
    "    print(\"걸어가라\")"
   ]
  },
  {
   "cell_type": "code",
   "execution_count": 35,
   "id": "7e9db678-490d-48b7-93d0-59a303dbeefe",
   "metadata": {},
   "outputs": [
    {
     "name": "stdout",
     "output_type": "stream",
     "text": [
      "D\n"
     ]
    }
   ],
   "source": [
    "math = 60\n",
    "\n",
    "if math>= 90:\n",
    "    print('A')\n",
    "elif math>= 80:\n",
    "    print('B')\n",
    "elif math>= 70:\n",
    "    print('C')\n",
    "elif math>= 60:\n",
    "    print('D')\n",
    "else:\n",
    "    print('f')"
   ]
  },
  {
   "cell_type": "code",
   "execution_count": 37,
   "id": "b933bea9-72a8-4131-bf5a-1a9014f70d9f",
   "metadata": {},
   "outputs": [
    {
     "name": "stdout",
     "output_type": "stream",
     "text": [
      "카드를 꺼내라\n"
     ]
    }
   ],
   "source": [
    "# if 문 한 줄로 작성하기\n",
    "poket = ['paper', 'cellphone', 'momey']\n",
    "\n",
    "if 'money' in poket: pass\n",
    "else: print(\"카드를 꺼내라\")"
   ]
  },
  {
   "cell_type": "markdown",
   "id": "d45ada3f-0393-47af-9a0f-bb405d4a598a",
   "metadata": {},
   "source": [
    "##  4. 조건부 표현식\n"
   ]
  },
  {
   "cell_type": "code",
   "execution_count": 38,
   "id": "89669ef7-3ad5-498b-a4a7-ab97d073cf09",
   "metadata": {},
   "outputs": [
    {
     "name": "stdout",
     "output_type": "stream",
     "text": [
      "success\n"
     ]
    }
   ],
   "source": [
    "# if / else문\n",
    "score=90\n",
    "\n",
    "if score >= 60:\n",
    "    message =\"success\"\n",
    "else:\n",
    "    message=\"failure\"\n",
    "print(message)"
   ]
  },
  {
   "cell_type": "code",
   "execution_count": 40,
   "id": "c4c336d4-7e4b-4eb6-85a2-bd2c299d31d6",
   "metadata": {},
   "outputs": [
    {
     "name": "stdout",
     "output_type": "stream",
     "text": [
      "succes\n"
     ]
    }
   ],
   "source": [
    "# 조건부 표현식\n",
    "message=\"succes\" if score >= 60 else \"failure\"\n",
    "print(message)"
   ]
  }
 ],
 "metadata": {
  "kernelspec": {
   "display_name": "Python 3 (ipykernel)",
   "language": "python",
   "name": "python3"
  },
  "language_info": {
   "codemirror_mode": {
    "name": "ipython",
    "version": 3
   },
   "file_extension": ".py",
   "mimetype": "text/x-python",
   "name": "python",
   "nbconvert_exporter": "python",
   "pygments_lexer": "ipython3",
   "version": "3.13.5"
  }
 },
 "nbformat": 4,
 "nbformat_minor": 5
}
