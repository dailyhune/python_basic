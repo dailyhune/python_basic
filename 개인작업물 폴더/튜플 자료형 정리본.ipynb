{
 "cells": [
  {
   "cell_type": "markdown",
   "id": "ec274af8-955c-423d-a745-b4d0d45d5ee4",
   "metadata": {},
   "source": [
    "# 튜플(tuple)은 몇 가지 점을 제외하곤 리스트와 거의 비슷하지만, 중요한 차이점이 있다."
   ]
  },
  {
   "cell_type": "code",
   "execution_count": 1,
   "id": "3c7f550e-7f5f-4394-ad88-e5d442cee191",
   "metadata": {},
   "outputs": [],
   "source": [
    "# 리스트는 대괄호([]), 튜플은 소괄호(())를 사용한다.\n",
    "# 리스트는 요소의 생성, 삭제, 수정이 가능하지만\n",
    "# 튜플은 \"수정할 수 없는(immutable)\" 자료형이다.\n"
   ]
  },
  {
   "cell_type": "markdown",
   "id": "1e02a3c2-67dc-48ad-9cb5-320c04d19f40",
   "metadata": {},
   "source": [
    "## 튜플 생성 예시"
   ]
  },
  {
   "cell_type": "code",
   "execution_count": 2,
   "id": "bf25fd39-2103-4a68-aab7-ecb956f8cecf",
   "metadata": {},
   "outputs": [],
   "source": [
    "t1 = ()                 # 빈 튜플\n",
    "t2 = (1,)               # 요소가 1개일 경우 반드시 뒤에 쉼표(,)를 붙여야 튜플로 인식됨\n",
    "t3 = (1, 2, 3)          # 정수 3개를 요소로 가지는 튜플\n",
    "t4 = 1, 2, 3            # 소괄호 생략 가능 (튜플로 인식됨)\n",
    "t5 = ('a', 'b', ('ab', 'cd'))  # 튜플 안에 또 다른 튜플이 포함된 중첩 튜플\n"
   ]
  },
  {
   "cell_type": "markdown",
   "id": "7bbeab28-1bd2-4f05-89b1-c3ac593031f0",
   "metadata": {},
   "source": [
    "### 튜플의 특징: 요소 변경 및 삭제 불가"
   ]
  },
  {
   "cell_type": "markdown",
   "id": "24501915-142d-40db-b0ab-8a5bc0b26a8a",
   "metadata": {},
   "source": [
    "#### 1. 요소 삭제 시도"
   ]
  },
  {
   "cell_type": "code",
   "execution_count": 3,
   "id": "2e53cdc6-c530-4617-9531-0caf85cdcf26",
   "metadata": {},
   "outputs": [
    {
     "ename": "TypeError",
     "evalue": "'tuple' object doesn't support item deletion",
     "output_type": "error",
     "traceback": [
      "\u001b[1;31m---------------------------------------------------------------------------\u001b[0m",
      "\u001b[1;31mTypeError\u001b[0m                                 Traceback (most recent call last)",
      "Cell \u001b[1;32mIn[3], line 2\u001b[0m\n\u001b[0;32m      1\u001b[0m t1 \u001b[38;5;241m=\u001b[39m (\u001b[38;5;241m1\u001b[39m, \u001b[38;5;241m2\u001b[39m, \u001b[38;5;124m'\u001b[39m\u001b[38;5;124ma\u001b[39m\u001b[38;5;124m'\u001b[39m, \u001b[38;5;124m'\u001b[39m\u001b[38;5;124mb\u001b[39m\u001b[38;5;124m'\u001b[39m)   \u001b[38;5;66;03m# 튜플 생성\u001b[39;00m\n\u001b[1;32m----> 2\u001b[0m \u001b[38;5;28;01mdel\u001b[39;00m t1[\u001b[38;5;241m0\u001b[39m]\n",
      "\u001b[1;31mTypeError\u001b[0m: 'tuple' object doesn't support item deletion"
     ]
    }
   ],
   "source": [
    "t1 = (1, 2, 'a', 'b')   # 튜플 생성\n",
    "del t1[0]               # 0번 인덱스 요소를 삭제 시도\n",
    "# 결과: TypeError 발생 → 튜플은 요소 삭제 불가\n"
   ]
  },
  {
   "cell_type": "markdown",
   "id": "c4c6d0d3-05ea-44c0-946a-813f03a2ec00",
   "metadata": {},
   "source": [
    "#### 2.요소 변경시도"
   ]
  },
  {
   "cell_type": "code",
   "execution_count": 4,
   "id": "ebb88e67-7042-486e-b38d-a2ea218caa83",
   "metadata": {},
   "outputs": [
    {
     "ename": "TypeError",
     "evalue": "'tuple' object does not support item assignment",
     "output_type": "error",
     "traceback": [
      "\u001b[1;31m---------------------------------------------------------------------------\u001b[0m",
      "\u001b[1;31mTypeError\u001b[0m                                 Traceback (most recent call last)",
      "Cell \u001b[1;32mIn[4], line 2\u001b[0m\n\u001b[0;32m      1\u001b[0m t1 \u001b[38;5;241m=\u001b[39m (\u001b[38;5;241m1\u001b[39m, \u001b[38;5;241m2\u001b[39m, \u001b[38;5;124m'\u001b[39m\u001b[38;5;124ma\u001b[39m\u001b[38;5;124m'\u001b[39m, \u001b[38;5;124m'\u001b[39m\u001b[38;5;124mb\u001b[39m\u001b[38;5;124m'\u001b[39m)   \u001b[38;5;66;03m# 튜플 생성\u001b[39;00m\n\u001b[1;32m----> 2\u001b[0m t1[\u001b[38;5;241m0\u001b[39m] \u001b[38;5;241m=\u001b[39m \u001b[38;5;124m'\u001b[39m\u001b[38;5;124mc\u001b[39m\u001b[38;5;124m'\u001b[39m\n",
      "\u001b[1;31mTypeError\u001b[0m: 'tuple' object does not support item assignment"
     ]
    }
   ],
   "source": [
    "t1 = (1, 2, 'a', 'b')   # 튜플 생성\n",
    "t1[0] = 'c'             # 0번 인덱스를 'c'로 변경 시도\n",
    "# 결과: TypeError 발생 → 튜플은 요소 변경 불가\n"
   ]
  },
  {
   "cell_type": "markdown",
   "id": "c4960b69-ab8b-413f-b379-4b9be557c199",
   "metadata": {},
   "source": [
    "## 튜플 다루기"
   ]
  },
  {
   "cell_type": "markdown",
   "id": "0356f54f-c0bf-4f4e-a233-fb51717dcc6c",
   "metadata": {},
   "source": [
    "### 1. 인덱싱(indexing)"
   ]
  },
  {
   "cell_type": "code",
   "execution_count": 7,
   "id": "366d2cec-a901-4f42-9c9b-3ccf532c5804",
   "metadata": {},
   "outputs": [
    {
     "data": {
      "text/plain": [
       "'b'"
      ]
     },
     "execution_count": 7,
     "metadata": {},
     "output_type": "execute_result"
    }
   ],
   "source": [
    "t1 = (1, 2, 'a', 'b')\n",
    "\n",
    "t1[0]  # 첫 번째 요소 → 출력: 1\n",
    "t1[3]  # 네 번째 요소 → 출력: 'b'"
   ]
  },
  {
   "cell_type": "markdown",
   "id": "29b343a4-2657-40eb-a5b3-7444668b78db",
   "metadata": {},
   "source": [
    "### 2. 슬라이싱(slicing)"
   ]
  },
  {
   "cell_type": "code",
   "execution_count": 8,
   "id": "1ac24b05-0f3c-4521-93fd-89642542e383",
   "metadata": {},
   "outputs": [
    {
     "data": {
      "text/plain": [
       "(2, 'a', 'b')"
      ]
     },
     "execution_count": 8,
     "metadata": {},
     "output_type": "execute_result"
    }
   ],
   "source": [
    "t1 = (1, 2, 'a', 'b')\n",
    "\n",
    "t1[1:]  # 인덱스 1부터 끝까지 슬라이싱 → 출력: (2, 'a', 'b')\n"
   ]
  },
  {
   "cell_type": "markdown",
   "id": "1d4478ee-54be-4e7e-b018-f315b7e90a04",
   "metadata": {},
   "source": [
    "### 3. 튜플 더하기 (연결0"
   ]
  },
  {
   "cell_type": "code",
   "execution_count": 9,
   "id": "98175978-188c-46ac-b125-925a811bcc9a",
   "metadata": {},
   "outputs": [],
   "source": [
    "t1 = (1, 2, 'a', 'b')\n",
    "t2 = (3, 4)\n",
    "\n",
    "t3 = t1 + t2  # 두 튜플을 연결 → 출력: (1, 2, 'a', 'b', 3, 4)\n"
   ]
  },
  {
   "cell_type": "markdown",
   "id": "778e1bb3-4ecc-4cbf-a8f4-79b0a596183e",
   "metadata": {},
   "source": [
    "### 튜플 곱하기(반복) "
   ]
  },
  {
   "cell_type": "code",
   "execution_count": 10,
   "id": "5a2579f3-6790-4827-a5eb-782ba039325e",
   "metadata": {},
   "outputs": [],
   "source": [
    "t2 = (3, 4)\n",
    "\n",
    "t3 = t2 * 3  # 튜플 반복 → 출력: (3, 4, 3, 4, 3, 4)\n"
   ]
  },
  {
   "cell_type": "markdown",
   "id": "4e44f3cf-3a72-48b3-b46b-b01f027a264c",
   "metadata": {},
   "source": [
    "###  튜플 길이 구하기"
   ]
  },
  {
   "cell_type": "code",
   "execution_count": 11,
   "id": "ebd8b464-56a4-4028-9a89-f0e9d0670869",
   "metadata": {},
   "outputs": [
    {
     "data": {
      "text/plain": [
       "4"
      ]
     },
     "execution_count": 11,
     "metadata": {},
     "output_type": "execute_result"
    }
   ],
   "source": [
    "t1 = (1, 2, 'a', 'b')\n",
    "\n",
    "len(t1)  # 튜플의 길이(요소 수)를 반환 → 출력: 4\n"
   ]
  },
  {
   "cell_type": "code",
   "execution_count": 15,
   "id": "65ed9cd2-44c9-4425-a7da-cc0e69d5c0f6",
   "metadata": {},
   "outputs": [],
   "source": [
    "#📌 정리 요약\n",
    "#항목\t    리스트 [] 튜플 ()\n",
    "#생성 가능 여부\t가능\t가능\n",
    "#수정 가능 여부\t가능\t불가능\n",
    "#삭제 가능 여부\t가능\t불가능\n",
    "#연산 지원 인덱싱, 슬라이싱, 더하기, 곱하기, 길이 구하기 등 대부분 동일\t\n",
    "\n",
    "#리스트는 생성, 수정, 삭제, 연산지원이 가능하지만\n",
    "#튜플은 생성과 연산지원을 제외하고는 불가능하다."
   ]
  }
 ],
 "metadata": {
  "kernelspec": {
   "display_name": "Python 3 (ipykernel)",
   "language": "python",
   "name": "python3"
  },
  "language_info": {
   "codemirror_mode": {
    "name": "ipython",
    "version": 3
   },
   "file_extension": ".py",
   "mimetype": "text/x-python",
   "name": "python",
   "nbconvert_exporter": "python",
   "pygments_lexer": "ipython3",
   "version": "3.13.5"
  }
 },
 "nbformat": 4,
 "nbformat_minor": 5
}
